{
  "nbformat": 4,
  "nbformat_minor": 0,
  "metadata": {
    "colab": {
      "name": "ChatBot: Unsupervised: Semantic Similarity with TF-Hub Universal Encoder",
      "version": "0.3.2",
      "provenance": [],
      "collapsed_sections": [],
      "toc_visible": true
    },
    "kernelspec": {
      "name": "python3",
      "display_name": "Python 3"
    },
    "accelerator": "GPU"
  },
  "cells": [
    {
      "cell_type": "code",
      "metadata": {
        "colab_type": "code",
        "id": "lVjNK8shFKOC",
        "outputId": "41b54898-53af-4625-b855-474ee3c356b6",
        "colab": {
          "base_uri": "https://localhost:8080/",
          "height": 595
        }
      },
      "source": [
        "# Install the latest Tensorflow version.\n",
        "!pip3 install --quiet \"tensorflow>=1.7\"\n",
        "# Install TF-Hub.\n",
        "!pip3 install --quiet tensorflow-hub\n",
        "!pip3 install --quiet seaborn\n",
        "!pip install seqeval[gpu]"
      ],
      "execution_count": 1,
      "outputs": [
        {
          "output_type": "stream",
          "text": [
            "Collecting seqeval[gpu]\n",
            "  Downloading https://files.pythonhosted.org/packages/34/91/068aca8d60ce56dd9ba4506850e876aba5e66a6f2f29aa223224b50df0de/seqeval-0.0.12.tar.gz\n",
            "Requirement already satisfied: numpy>=1.14.0 in /usr/local/lib/python3.6/dist-packages (from seqeval[gpu]) (1.16.4)\n",
            "Requirement already satisfied: Keras>=2.2.4 in /usr/local/lib/python3.6/dist-packages (from seqeval[gpu]) (2.2.4)\n",
            "Collecting tensorflow-gpu (from seqeval[gpu])\n",
            "\u001b[?25l  Downloading https://files.pythonhosted.org/packages/76/04/43153bfdfcf6c9a4c38ecdb971ca9a75b9a791bb69a764d652c359aca504/tensorflow_gpu-1.14.0-cp36-cp36m-manylinux1_x86_64.whl (377.0MB)\n",
            "\u001b[K     |████████████████████████████████| 377.0MB 87kB/s \n",
            "\u001b[?25hRequirement already satisfied: h5py in /usr/local/lib/python3.6/dist-packages (from Keras>=2.2.4->seqeval[gpu]) (2.8.0)\n",
            "Requirement already satisfied: scipy>=0.14 in /usr/local/lib/python3.6/dist-packages (from Keras>=2.2.4->seqeval[gpu]) (1.3.1)\n",
            "Requirement already satisfied: pyyaml in /usr/local/lib/python3.6/dist-packages (from Keras>=2.2.4->seqeval[gpu]) (3.13)\n",
            "Requirement already satisfied: six>=1.9.0 in /usr/local/lib/python3.6/dist-packages (from Keras>=2.2.4->seqeval[gpu]) (1.12.0)\n",
            "Requirement already satisfied: keras-preprocessing>=1.0.5 in /usr/local/lib/python3.6/dist-packages (from Keras>=2.2.4->seqeval[gpu]) (1.1.0)\n",
            "Requirement already satisfied: keras-applications>=1.0.6 in /usr/local/lib/python3.6/dist-packages (from Keras>=2.2.4->seqeval[gpu]) (1.0.8)\n",
            "Requirement already satisfied: protobuf>=3.6.1 in /usr/local/lib/python3.6/dist-packages (from tensorflow-gpu->seqeval[gpu]) (3.7.1)\n",
            "Requirement already satisfied: wrapt>=1.11.1 in /usr/local/lib/python3.6/dist-packages (from tensorflow-gpu->seqeval[gpu]) (1.11.2)\n",
            "Requirement already satisfied: termcolor>=1.1.0 in /usr/local/lib/python3.6/dist-packages (from tensorflow-gpu->seqeval[gpu]) (1.1.0)\n",
            "Requirement already satisfied: absl-py>=0.7.0 in /usr/local/lib/python3.6/dist-packages (from tensorflow-gpu->seqeval[gpu]) (0.7.1)\n",
            "Requirement already satisfied: tensorflow-estimator<1.15.0rc0,>=1.14.0rc0 in /usr/local/lib/python3.6/dist-packages (from tensorflow-gpu->seqeval[gpu]) (1.14.0)\n",
            "Requirement already satisfied: google-pasta>=0.1.6 in /usr/local/lib/python3.6/dist-packages (from tensorflow-gpu->seqeval[gpu]) (0.1.7)\n",
            "Requirement already satisfied: tensorboard<1.15.0,>=1.14.0 in /usr/local/lib/python3.6/dist-packages (from tensorflow-gpu->seqeval[gpu]) (1.14.0)\n",
            "Requirement already satisfied: astor>=0.6.0 in /usr/local/lib/python3.6/dist-packages (from tensorflow-gpu->seqeval[gpu]) (0.8.0)\n",
            "Requirement already satisfied: wheel>=0.26 in /usr/local/lib/python3.6/dist-packages (from tensorflow-gpu->seqeval[gpu]) (0.33.4)\n",
            "Requirement already satisfied: grpcio>=1.8.6 in /usr/local/lib/python3.6/dist-packages (from tensorflow-gpu->seqeval[gpu]) (1.15.0)\n",
            "Requirement already satisfied: gast>=0.2.0 in /usr/local/lib/python3.6/dist-packages (from tensorflow-gpu->seqeval[gpu]) (0.2.2)\n",
            "Requirement already satisfied: setuptools in /usr/local/lib/python3.6/dist-packages (from protobuf>=3.6.1->tensorflow-gpu->seqeval[gpu]) (41.2.0)\n",
            "Requirement already satisfied: werkzeug>=0.11.15 in /usr/local/lib/python3.6/dist-packages (from tensorboard<1.15.0,>=1.14.0->tensorflow-gpu->seqeval[gpu]) (0.15.5)\n",
            "Requirement already satisfied: markdown>=2.6.8 in /usr/local/lib/python3.6/dist-packages (from tensorboard<1.15.0,>=1.14.0->tensorflow-gpu->seqeval[gpu]) (3.1.1)\n",
            "Building wheels for collected packages: seqeval\n",
            "  Building wheel for seqeval (setup.py) ... \u001b[?25l\u001b[?25hdone\n",
            "  Created wheel for seqeval: filename=seqeval-0.0.12-cp36-none-any.whl size=7423 sha256=f73cf76c947fa052fa03b6abc3f0bb1038393127ba1525e94f0fb04da03c296d\n",
            "  Stored in directory: /root/.cache/pip/wheels/4f/32/0a/df3b340a82583566975377d65e724895b3fad101a3fb729f68\n",
            "Successfully built seqeval\n",
            "Installing collected packages: tensorflow-gpu, seqeval\n",
            "Successfully installed seqeval-0.0.12 tensorflow-gpu-1.14.0\n"
          ],
          "name": "stdout"
        }
      ]
    },
    {
      "cell_type": "code",
      "metadata": {
        "colab_type": "code",
        "id": "MSeY-MUQo2Ha",
        "colab": {}
      },
      "source": [
        "import tensorflow as tf\n",
        "import tensorflow_hub as hub\n",
        "import matplotlib.pyplot as plt\n",
        "import numpy as np\n",
        "import os\n",
        "import pandas as pd\n",
        "import re\n",
        "import seaborn as sns\n",
        "import seqeval"
      ],
      "execution_count": 0,
      "outputs": []
    },
    {
      "cell_type": "code",
      "metadata": {
        "colab_type": "code",
        "id": "zwty8Z6mAkdV",
        "colab": {}
      },
      "source": [
        "module_url = \"https://tfhub.dev/google/universal-sentence-encoder/2\" #@param [\"https://tfhub.dev/google/universal-sentence-encoder/2\", \"https://tfhub.dev/google/universal-sentence-encoder-large/3\"]"
      ],
      "execution_count": 0,
      "outputs": []
    },
    {
      "cell_type": "code",
      "metadata": {
        "colab_type": "code",
        "outputId": "6b03bc5f-73cc-4ffe-85e5-d9ce0d95ed0c",
        "id": "mTuD2GRR_AeP",
        "colab": {
          "base_uri": "https://localhost:8080/",
          "height": 241
        }
      },
      "source": [
        "# Import the Universal Sentence Encoder's TF Hub module\n",
        "embed = hub.Module(module_url)\n",
        "\n",
        "# Compute a representation for each message, showing various lengths supported.\n",
        "word = \"Elephant\"\n",
        "sentence = \"I am a sentence for which I would like to get its embedding.\"\n",
        "paragraph = (\n",
        "    \"Universal Sentence Encoder embeddings also support short paragraphs. \"\n",
        "    \"There is no hard limit on how long the paragraph is. Roughly, the longer \"\n",
        "    \"the more 'diluted' the embedding will be.\")\n",
        "messages = [word, sentence, paragraph]\n",
        "\n",
        "# Reduce logging output.\n",
        "tf.logging.set_verbosity(tf.logging.ERROR)\n",
        "\n",
        "with tf.Session() as session:\n",
        "  session.run([tf.global_variables_initializer(), tf.tables_initializer()])\n",
        "  message_embeddings = session.run(embed(messages))\n",
        "\n",
        "  for i, message_embedding in enumerate(np.array(message_embeddings).tolist()):\n",
        "    print(\"Message: {}\".format(messages[i]))\n",
        "    print(\"Embedding size: {}\".format(len(message_embedding)))\n",
        "    message_embedding_snippet = \", \".join(\n",
        "        (str(x) for x in message_embedding[:3]))\n",
        "    print(\"Embedding: [{}, ...]\\n\".format(message_embedding_snippet))"
      ],
      "execution_count": 4,
      "outputs": [
        {
          "output_type": "stream",
          "text": [
            "Message: Elephant\n",
            "Embedding size: 512\n",
            "Embedding: [-0.016987260431051254, -0.008949851617217064, -0.007062714081257582, ...]\n",
            "\n",
            "Message: I am a sentence for which I would like to get its embedding.\n",
            "Embedding size: 512\n",
            "Embedding: [0.03531331196427345, -0.025384271517395973, -0.00788002461194992, ...]\n",
            "\n",
            "Message: Universal Sentence Encoder embeddings also support short paragraphs. There is no hard limit on how long the paragraph is. Roughly, the longer the more 'diluted' the embedding will be.\n",
            "Embedding size: 512\n",
            "Embedding: [0.018790990114212036, 0.04536517709493637, -0.02001088298857212, ...]\n",
            "\n"
          ],
          "name": "stdout"
        }
      ]
    },
    {
      "cell_type": "markdown",
      "metadata": {
        "colab_type": "text",
        "id": "BnvjATdy64eR"
      },
      "source": [
        "# Semantic Textual Similarity Task Example\n",
        "\n",
        "The embeddings produced by the Universal Sentence Encoder are approximately normalized. The semantic similarity of two sentences can be trivially computed as the inner product of the encodings."
      ]
    },
    {
      "cell_type": "code",
      "metadata": {
        "colab_type": "code",
        "id": "MMBWOa2W_AQJ",
        "colab": {}
      },
      "source": [
        "def plot_similarity(labels, features, query, features_, rotation):\n",
        "  corr = np.inner(features, features_)\n",
        "  print(corr)\n",
        "  \n",
        "  sns.set(font_scale=1.2)\n",
        "  g = sns.heatmap(\n",
        "      corr,\n",
        "      xticklabels=query,\n",
        "      yticklabels=labels,\n",
        "      vmin=0,\n",
        "      vmax=1,\n",
        "      cmap=\"YlOrRd\")\n",
        "  g.set_xticklabels(query, rotation=rotation)\n",
        "  g.set_title(\"Semantic Textual Similarity\")\n",
        "\n",
        "\n",
        "def run_and_plot(session_, input_tensor_, messages_, query_, encoding_tensor):\n",
        "  message_embeddings_ = session_.run(\n",
        "      encoding_tensor, feed_dict={input_tensor_: messages_})\n",
        "  query_embedding_ = session_.run(\n",
        "      encoding_tensor, feed_dict={input_tensor_: query_})\n",
        "  \n",
        "  plot_similarity(messages_, message_embeddings_, query_, query_embedding_, 0)"
      ],
      "execution_count": 0,
      "outputs": []
    },
    {
      "cell_type": "markdown",
      "metadata": {
        "colab_type": "text",
        "id": "339tuJ5Pwqqv"
      },
      "source": [
        "## Similarity Visualized\n",
        "Here we show the similarity in a heat map. The final graph is a 9x9 matrix where each entry `[i, j]` is colored based on the inner product of the encodings for sentence `i` and `j`."
      ]
    },
    {
      "cell_type": "code",
      "metadata": {
        "colab_type": "code",
        "id": "cPMCaxrZwp7t",
        "outputId": "ce6d4c08-5a2c-4685-d3ed-bebb83f1b0df",
        "colab": {
          "base_uri": "https://localhost:8080/",
          "height": 509
        }
      },
      "source": [
        "messages = [\n",
        "    # Smartphones\n",
        "    \"I like my phone\",\n",
        "    \"My phone is not good.\",\n",
        "    \"Your cellphone looks great.\",\n",
        "       \n",
        "    #other \n",
        "    \"Capital of Bangladesh is Dhaka.\",\n",
        "\n",
        "    # Weather\n",
        "    \"Will it snow tomorrow?\",\n",
        "    \"Recently a lot of hurricanes have hit the US\",\n",
        "    \"Global warming is real\",\n",
        "\n",
        "    # Food and health\n",
        "    \"An apple a day, keeps the doctors away\",\n",
        "    \"Eating strawberries is healthy\",\n",
        "    \"Is paleo better than keto?\",\n",
        "\n",
        "    # Asking about age\n",
        "    \"How old are you?\",\n",
        "    \"what is your age?\",\n",
        "    \"I am 24 years old.\",\n",
        "    \n",
        "\n",
        "   \n",
        "]\n",
        "\n",
        "query = [ \"What is the capital of Bangladesh\"]\n",
        "\n",
        "similarity_input_placeholder = tf.placeholder(tf.string, shape=(None))\n",
        "similarity_message_encodings = embed(similarity_input_placeholder)\n",
        "\n",
        "with tf.Session() as session:\n",
        "  session.run(tf.global_variables_initializer())\n",
        "  session.run(tf.tables_initializer())\n",
        "  run_and_plot(session, similarity_input_placeholder, messages, query,\n",
        "               similarity_message_encodings)"
      ],
      "execution_count": 6,
      "outputs": [
        {
          "output_type": "stream",
          "text": [
            "[[0.19922611]\n",
            " [0.26315638]\n",
            " [0.18792032]\n",
            " [0.87688756]\n",
            " [0.19545698]\n",
            " [0.34040582]\n",
            " [0.1994156 ]\n",
            " [0.13911594]\n",
            " [0.12741923]\n",
            " [0.13637568]\n",
            " [0.22647135]\n",
            " [0.23121487]\n",
            " [0.12758246]]\n"
          ],
          "name": "stdout"
        },
        {
          "output_type": "display_data",
          "data": {
            "image/png": "[encoded data removed]",
            "text/plain": [
              "<Figure size 432x288 with 2 Axes>"
            ]
          },
          "metadata": {
            "tags": []
          }
        }
      ]
    },
    {
      "cell_type": "code",
      "metadata": {
        "id": "X4YFvO-dQ8Zv",
        "colab_type": "code",
        "colab": {}
      },
      "source": [
        ""
      ],
      "execution_count": 0,
      "outputs": []
    },
    {
      "cell_type": "markdown",
      "metadata": {
        "id": "6tgXB6ac3muY",
        "colab_type": "text"
      },
      "source": [
        "# ChatBot"
      ]
    },
    {
      "cell_type": "code",
      "metadata": {
        "id": "EqpLWSGO_InC",
        "colab_type": "code",
        "colab": {}
      },
      "source": [
        "module_url = \"https://tfhub.dev/google/universal-sentence-encoder/2\" #@param [\"https://tfhub.dev/google/universal-sentence-encoder/2\", \"https://tfhub.dev/google/universal-sentence-encoder-large/3\"]\n",
        "embed = hub.Module(module_url)"
      ],
      "execution_count": 0,
      "outputs": []
    },
    {
      "cell_type": "code",
      "metadata": {
        "id": "TYmoJomQ8cCA",
        "colab_type": "code",
        "outputId": "6a22632d-bf42-4ca9-e778-b0959cf55cfc",
        "colab": {
          "base_uri": "https://localhost:8080/",
          "height": 122
        }
      },
      "source": [
        "from google.colab import drive\n",
        "drive.mount('/content/gdrive')"
      ],
      "execution_count": 8,
      "outputs": [
        {
          "output_type": "stream",
          "text": [
            "Go to this URL in a browser: https://accounts.google.com/o/oauth2/auth?client_id=947318989803-6bn6qk8qdgf4n4g3pfee6491hc0brc4i.apps.googleusercontent.com&redirect_uri=urn%3Aietf%3Awg%3Aoauth%3A2.0%3Aoob&scope=email%20https%3A%2F%2Fwww.googleapis.com%2Fauth%2Fdocs.test%20https%3A%2F%2Fwww.googleapis.com%2Fauth%2Fdrive%20https%3A%2F%2Fwww.googleapis.com%2Fauth%2Fdrive.photos.readonly%20https%3A%2F%2Fwww.googleapis.com%2Fauth%2Fpeopleapi.readonly&response_type=code\n",
            "\n",
            "Enter your authorization code:\n",
            "··········\n",
            "Mounted at /content/gdrive\n"
          ],
          "name": "stdout"
        }
      ]
    },
    {
      "cell_type": "code",
      "metadata": {
        "id": "l7EOxG3A8luO",
        "colab_type": "code",
        "colab": {}
      },
      "source": [
        "import codecs\n",
        "\n",
        "path =  'gdrive/My Drive/DATA/test_question_bd.txt'\n",
        "query = []\n",
        "\n",
        "with codecs.open(path, 'r', 'utf-8') as f:\n",
        "  for line in f:\n",
        "    query.append(line.strip())\n",
        "    \n",
        "path =  'gdrive/My Drive/DATA/test_q_answers.txt'\n",
        "true_answer_sentences = []\n",
        "\n",
        "with codecs.open(path, 'r', 'utf-8') as f:\n",
        "  for line in f:\n",
        "    true_answer_sentences.append(line.strip())    "
      ],
      "execution_count": 0,
      "outputs": []
    },
    {
      "cell_type": "code",
      "metadata": {
        "id": "OZAOv4tL8zBW",
        "colab_type": "code",
        "outputId": "60fe5fbf-1702-4e4a-a650-2f25a9e0ad60",
        "colab": {
          "base_uri": "https://localhost:8080/",
          "height": 51
        }
      },
      "source": [
        "print(len(query))\n",
        "print(len(true_answer_sentences))"
      ],
      "execution_count": 10,
      "outputs": [
        {
          "output_type": "stream",
          "text": [
            "60\n",
            "60\n"
          ],
          "name": "stdout"
        }
      ]
    },
    {
      "cell_type": "code",
      "metadata": {
        "id": "VOOTmMyV3pYb",
        "colab_type": "code",
        "colab": {}
      },
      "source": [
        "path =  'gdrive/My Drive/DATA/hacathon.txt'\n",
        "data = \"\"\n",
        "\n",
        "with codecs.open(path, 'r', 'utf-8', errors='ignore') as f:\n",
        "  for line in f:\n",
        "    data+=line"
      ],
      "execution_count": 0,
      "outputs": []
    },
    {
      "cell_type": "code",
      "metadata": {
        "id": "RDEkt5Ke5ukE",
        "colab_type": "code",
        "outputId": "50dae0b1-c221-43ae-c931-d7a43cda22fb",
        "colab": {
          "base_uri": "https://localhost:8080/",
          "height": 51
        }
      },
      "source": [
        "import nltk\n",
        "nltk.download('punkt')\n",
        "\n",
        "messages = nltk.sent_tokenize(data)"
      ],
      "execution_count": 12,
      "outputs": [
        {
          "output_type": "stream",
          "text": [
            "[nltk_data] Downloading package punkt to /root/nltk_data...\n",
            "[nltk_data]   Unzipping tokenizers/punkt.zip.\n"
          ],
          "name": "stdout"
        }
      ]
    },
    {
      "cell_type": "code",
      "metadata": {
        "id": "2S6CUqqp5umP",
        "colab_type": "code",
        "outputId": "09a9175f-0a3f-48fd-e8ad-c13c53c5c495",
        "colab": {
          "base_uri": "https://localhost:8080/",
          "height": 34
        }
      },
      "source": [
        "len(messages)"
      ],
      "execution_count": 13,
      "outputs": [
        {
          "output_type": "execute_result",
          "data": {
            "text/plain": [
              "48"
            ]
          },
          "metadata": {
            "tags": []
          },
          "execution_count": 13
        }
      ]
    },
    {
      "cell_type": "markdown",
      "metadata": {
        "id": "Kk7fB0Xu-Uhb",
        "colab_type": "text"
      },
      "source": [
        "## Find similarity"
      ]
    },
    {
      "cell_type": "code",
      "metadata": {
        "id": "yxbFkOqYAzNK",
        "colab_type": "code",
        "outputId": "331b47b2-5fc8-401a-dfd6-e3733f1944e0",
        "colab": {
          "base_uri": "https://localhost:8080/",
          "height": 34
        }
      },
      "source": [
        "query_ = [query[20]]\n",
        "query_"
      ],
      "execution_count": 14,
      "outputs": [
        {
          "output_type": "execute_result",
          "data": {
            "text/plain": [
              "['Why does Bangladeshi people rarely smile']"
            ]
          },
          "metadata": {
            "tags": []
          },
          "execution_count": 14
        }
      ]
    },
    {
      "cell_type": "code",
      "metadata": {
        "id": "d_9MI9qJ6PKN",
        "colab_type": "code",
        "colab": {}
      },
      "source": [
        "similarity_input_placeholder = tf.placeholder(tf.string, shape=(None))\n",
        "similarity_message_encodings = embed(similarity_input_placeholder)\n",
        "\n",
        "session = tf.Session()\n",
        "session.run(tf.global_variables_initializer())\n",
        "session.run(tf.tables_initializer())"
      ],
      "execution_count": 0,
      "outputs": []
    },
    {
      "cell_type": "code",
      "metadata": {
        "id": "4Zf-sQwZB4qs",
        "colab_type": "code",
        "colab": {}
      },
      "source": [
        "message_embeddings = session.run(\n",
        "    similarity_message_encodings, feed_dict={similarity_input_placeholder: messages})\n",
        "query_embedding = session.run(\n",
        "    similarity_message_encodings, feed_dict={similarity_input_placeholder: query_})\n",
        "\n",
        "corr = np.inner(query_embedding, message_embeddings)"
      ],
      "execution_count": 0,
      "outputs": []
    },
    {
      "cell_type": "code",
      "metadata": {
        "id": "r3S_DlrK-bGH",
        "colab_type": "code",
        "outputId": "b94b3ab9-cc8b-4e34-aa5c-a19d9f764465",
        "colab": {
          "base_uri": "https://localhost:8080/",
          "height": 34
        }
      },
      "source": [
        "corr.shape"
      ],
      "execution_count": 17,
      "outputs": [
        {
          "output_type": "execute_result",
          "data": {
            "text/plain": [
              "(1, 48)"
            ]
          },
          "metadata": {
            "tags": []
          },
          "execution_count": 17
        }
      ]
    },
    {
      "cell_type": "code",
      "metadata": {
        "id": "H6yx7l0GCUZQ",
        "colab_type": "code",
        "outputId": "2c0506da-35ab-4e03-a311-6954d56dedbc",
        "colab": {
          "base_uri": "https://localhost:8080/",
          "height": 187
        }
      },
      "source": [
        "corr"
      ],
      "execution_count": 18,
      "outputs": [
        {
          "output_type": "execute_result",
          "data": {
            "text/plain": [
              "array([[0.3690921 , 0.38352755, 0.37129456, 0.3834301 , 0.19822691,\n",
              "        0.45775405, 0.33176357, 0.28146005, 0.14476039, 0.35817984,\n",
              "        0.3495527 , 0.1204662 , 0.3938284 , 0.21869771, 0.32841685,\n",
              "        0.2361705 , 0.20898888, 0.32996258, 0.03442037, 0.1673418 ,\n",
              "        0.7195145 , 0.37762743, 0.36779284, 0.3034916 , 0.41420516,\n",
              "        0.42709494, 0.35624725, 0.29137975, 0.39082682, 0.3357693 ,\n",
              "        0.272005  , 0.24118432, 0.2780637 , 0.2602202 , 0.3463244 ,\n",
              "        0.31718314, 0.34285307, 0.35450286, 0.21295074, 0.30173194,\n",
              "        0.17671902, 0.33660403, 0.40708554, 0.27025524, 0.04908586,\n",
              "        0.4011852 , 0.16910633, 0.13903745]], dtype=float32)"
            ]
          },
          "metadata": {
            "tags": []
          },
          "execution_count": 18
        }
      ]
    },
    {
      "cell_type": "code",
      "metadata": {
        "id": "rVpow8IV-bDT",
        "colab_type": "code",
        "outputId": "4e96e2e1-7ab4-4f99-d88d-ec483d7af118",
        "colab": {
          "base_uri": "https://localhost:8080/",
          "height": 34
        }
      },
      "source": [
        "messages[corr[0].argmax()]"
      ],
      "execution_count": 19,
      "outputs": [
        {
          "output_type": "execute_result",
          "data": {
            "text/plain": [
              "'The people of Bangladesh rarely smile because they consider frequent smiling to be a sign of immaturity.'"
            ]
          },
          "metadata": {
            "tags": []
          },
          "execution_count": 19
        }
      ]
    },
    {
      "cell_type": "markdown",
      "metadata": {
        "id": "lp1dIxcMJVol",
        "colab_type": "text"
      },
      "source": [
        "#### Find answer for all queries"
      ]
    },
    {
      "cell_type": "code",
      "metadata": {
        "id": "FB7FUHUV-bA8",
        "colab_type": "code",
        "outputId": "40366321-847a-42eb-93c1-5a8e06fe8a0d",
        "colab": {
          "base_uri": "https://localhost:8080/",
          "height": 34
        }
      },
      "source": [
        "message_embeddings = session.run(\n",
        "    similarity_message_encodings, feed_dict={similarity_input_placeholder: messages})\n",
        "query_embedding = session.run(\n",
        "    similarity_message_encodings, feed_dict={similarity_input_placeholder: query})\n",
        "\n",
        "corr = np.inner(query_embedding, message_embeddings)\n",
        "session.close()\n",
        "\n",
        "corr.shape"
      ],
      "execution_count": 20,
      "outputs": [
        {
          "output_type": "execute_result",
          "data": {
            "text/plain": [
              "(60, 48)"
            ]
          },
          "metadata": {
            "tags": []
          },
          "execution_count": 20
        }
      ]
    },
    {
      "cell_type": "code",
      "metadata": {
        "id": "6HMfV0_QJbTD",
        "colab_type": "code",
        "outputId": "05956977-c99f-485a-d5c7-fb55f1091be7",
        "colab": {
          "base_uri": "https://localhost:8080/",
          "height": 34
        }
      },
      "source": [
        "answers = [messages[corr[i].argmax()] for i in range(corr.shape[0])]\n",
        "len(answers)"
      ],
      "execution_count": 21,
      "outputs": [
        {
          "output_type": "execute_result",
          "data": {
            "text/plain": [
              "60"
            ]
          },
          "metadata": {
            "tags": []
          },
          "execution_count": 21
        }
      ]
    },
    {
      "cell_type": "code",
      "metadata": {
        "id": "uhcAFJEy-a-f",
        "colab_type": "code",
        "outputId": "2639395d-79e3-43f0-aff8-dc7713638cce",
        "colab": {
          "base_uri": "https://localhost:8080/",
          "height": 1000
        }
      },
      "source": [
        "for i in range(len(answers)):\n",
        "  print(query[i])\n",
        "  print(answers[i])\n",
        "  print()"
      ],
      "execution_count": 22,
      "outputs": [
        {
          "output_type": "stream",
          "text": [
            "Tell us about Bangladesh\n",
            "Bangladesh is one of the most disaster prone areas in the world.\n",
            "\n",
            "Where is bangladesh situated\n",
            "The capital of Bangladesh is Dhaka.\n",
            "\n",
            "How does bangladesh ranks in the world\n",
            "Bangladesh is a country in South Asia.\n",
            "\n",
            "What is the population of bangladesh\n",
            "Bangladesh is the world's 8th-most populous country with a population exceeding 162 million of people.\n",
            "\n",
            "What is the size of the country\n",
            "In area, it is the 92nd-largest country, spanning 147,570 square kilometers (56,980 sq mi).\n",
            "\n",
            "What does the word “Bangladesh” means\n",
            "The word Bangladesh means the people of Bengal in the local Bangla language.\n",
            "\n",
            "What is the official name of Bangladesh\n",
            "The country's official name is the Peoples Republic of Bangladesh.\n",
            "\n",
            "How many season bangladesh have\n",
            "Bangladesh has six seasons instead of four.\n",
            "\n",
            "Tell the names of the seasons of bangladesh\n",
            "Bangladesh has six seasons instead of four.\n",
            "\n",
            "What is the Bay of Bengal\n",
            "The Bay of Bengal, bounded by India, Bangladesh, Myanmar, Maldives, and Sri Lanka, is the biggest bay in the world.\n",
            "\n",
            "Tell us about Royal bengal tiger\n",
            "The national animal of Bangladesh is the Royal bengal tiger.\n",
            "\n",
            "What is the percentage of farmers\n",
            "Farming makes up 18% of the nations GDP.\n",
            "\n",
            "How is the impact of farming in GDP\n",
            "Farming makes up 18% of the nations GDP.\n",
            "\n",
            "What is the capital of Bangladesh\n",
            "The capital of Bangladesh is Dhaka.\n",
            "\n",
            "Tell us about Dhaka\n",
            "The capital of Bangladesh is Dhaka.\n",
            "\n",
            "What is the population of Dhaka\n",
            "The capital of Bangladesh is Dhaka.\n",
            "\n",
            "Which city is referred as the City of Mosque\n",
            "It is referred to as the City of Mosques.\n",
            "\n",
            "What is the largest legislative center of bangladesh.\n",
            "The national Parliament of Bangladesh is one of the largest legislative centers.\n",
            "\n",
            "Which is the longest beach of Bangladesh\n",
            "The Bay of Bengal, bounded by India, Bangladesh, Myanmar, Maldives, and Sri Lanka, is the biggest bay in the world.\n",
            "\n",
            "What is the length of the longest sea beach of the world\n",
            "The Cox Bazaar is the longest sea beach in the world, covering 125km.\n",
            "\n",
            "Why does Bangladeshi people rarely smile\n",
            "The people of Bangladesh rarely smile because they consider frequent smiling to be a sign of immaturity.\n",
            "\n",
            "Why don’t Bangladeshi people smile frequently\n",
            "The people of Bangladesh rarely smile because they consider frequent smiling to be a sign of immaturity.\n",
            "\n",
            "What is the biggest export industry of bangladesh\n",
            "Despite widespread farming in Bangladesh, the biggest exports in the country come from the garment industry.\n",
            "\n",
            "What does the garment industry do for the country\n",
            "Despite widespread farming in Bangladesh, the biggest exports in the country come from the garment industry.\n",
            "\n",
            "How many newspapers are published in Bangladesh\n",
            "More than 2,000 periodicals and daily newspapers are published in Bangladesh, despite the countrys readership standing at only 15%.\n",
            "\n",
            "What is the % of readership in bangladesh\n",
            "More than 2,000 periodicals and daily newspapers are published in Bangladesh, despite the countrys readership standing at only 15%.\n",
            "\n",
            "How many people reads newspaper\n",
            "More than 2,000 periodicals and daily newspapers are published in Bangladesh, despite the countrys readership standing at only 15%.\n",
            "\n",
            "Where is the world’s largest river/mangrove situated\n",
            "In area, it is the 92nd-largest country, spanning 147,570 square kilometers (56,980 sq mi).\n",
            "\n",
            "What is taka\n",
            "The currency of Bangladesh is the Bangladeshi taka, which means currency in Bengali.\n",
            "\n",
            "What is the currency of Bangladesh\n",
            "The currency of Bangladesh is the Bangladeshi taka, which means currency in Bengali.\n",
            "\n",
            "Who has the third lagest Muslim  population\n",
            "Bangladesh has the third largest Muslim population in the world after Indonesia and Pakistan.\n",
            "\n",
            "Which hand is considered unclean\n",
            "In Bangladesh, the left hand is considered to be unclean.\n",
            "\n",
            "Which hand is used for eating/passing food/passing business card\n",
            "The right hand is used when eating, passing food, or passing business cards.\n",
            "\n",
            "How is the popularity of Cricket in Bangladesh\n",
            "Cricket is the most popular sport in Bangladesh.\n",
            "\n",
            "What is the most popular sports in Bangladesh\n",
            "Cricket is the most popular sport in Bangladesh.\n",
            "\n",
            "When did bangladesh first participated in Cricket World Cup\n",
            "In 1999, the Bangladesh national cricket team was part of the Cricket World Cup.\n",
            "\n",
            "When did Bangladesh received Test Status\n",
            "In 2000, it received the Test status, which is an honor in international cricket.\n",
            "\n",
            "What is Test Status\n",
            "In 2000, it received the Test status, which is an honor in international cricket.\n",
            "\n",
            "What is the highest point of Bangladesh\n",
            "The highest point in Bangladesh is the Saka Haphong in the southeastern Mowdok Range, which has a height of 1,052 m (3,451 ft).\n",
            "\n",
            "Where is Saka Haphong situated\n",
            "Bangladeshs oldest known city site is Mahasthangarh.\n",
            "\n",
            "What is the height of the highest point of Bangladesh\n",
            "The highest point in Bangladesh is the Saka Haphong in the southeastern Mowdok Range, which has a height of 1,052 m (3,451 ft).\n",
            "\n",
            "What is the national sport of Bangladesh\n",
            "Cricket is the most popular sport in Bangladesh.\n",
            "\n",
            "What is the status of Kabaddi in Bangladesh\n",
            "The capital of Bangladesh is Dhaka.\n",
            "\n",
            "Who wrote the national anthem of Bangladesh\n",
            "The national anthem was written by Rabindranath Tagore.\n",
            "\n",
            "What did Rabindrannath Tagore wrote?\n",
            "The national anthem was written by Rabindranath Tagore.\n",
            "\n",
            "What is the national bird of Bangladesh\n",
            "The Magpie Robin (or Doyel or Doel) is the national bird of Bangladesh.\n",
            "\n",
            "What is the status of Doel in Bangladesh\n",
            "Bangladesh is a country in South Asia.\n",
            "\n",
            "What is the national flower of Bangladesh\n",
            "The national flower of Bangladesh is the white-flowered water lily, called Shapla.\n",
            "\n",
            "What is shapla\n",
            "The currency of Bangladesh is the Bangladeshi taka, which means currency in Bengali.\n",
            "\n",
            "Which is the national tree of bangladesh\n",
            "Bangladesh is a country in South Asia.\n",
            "\n",
            "Why thousands got killed\n",
            "Cyclones and floods have killed thousands and impeded economic growth.\n",
            "\n",
            "What affected economic growth\n",
            "Cyclones and floods have killed thousands and impeded economic growth.\n",
            "\n",
            "Why the ground never freezes\n",
            "Due to its low-lying elevation, the ground in Bangladesh has never frozen.\n",
            "\n",
            "What is the coldest recorded temperature?\n",
            "The coldest temperature on record is a low of 4.5C in Jessore during the winter of 2011.\n",
            "\n",
            "When was the coldest temperature recorded?\n",
            "The coldest temperature on record is a low of 4.5C in Jessore during the winter of 2011.\n",
            "\n",
            "Where was the coldest temperature recorded\n",
            "The coldest temperature on record is a low of 4.5C in Jessore during the winter of 2011.\n",
            "\n",
            "How is the status of poverty in Bangladesh\n",
            "30% of the Bangladesh population live below the poverty line.\n",
            "\n",
            "Tell us about Tasmin Lucia Khan\n",
            "Renowned British journalist Tasmin Lucia Khan is of Bengali descent.\n",
            "\n",
            "How is the soil fertility in Bangladesh?\n",
            "Bangladesh has a shortage of rocks for construction.\n",
            "\n",
            "What is the oldest city of Bangladesh\n",
            "The capital of Bangladesh is Dhaka.\n",
            "\n"
          ],
          "name": "stdout"
        }
      ]
    },
    {
      "cell_type": "markdown",
      "metadata": {
        "id": "1vX2CjP_cCK4",
        "colab_type": "text"
      },
      "source": [
        "## Evaluation"
      ]
    },
    {
      "cell_type": "code",
      "metadata": {
        "id": "dYcWjhyph1VX",
        "colab_type": "code",
        "outputId": "c461af7b-97f1-49b5-9d81-9967f28ffb52",
        "colab": {
          "base_uri": "https://localhost:8080/",
          "height": 34
        }
      },
      "source": [
        "sum([answers[i] == true_answer_sentences[i] for i in range(len(answers))])"
      ],
      "execution_count": 23,
      "outputs": [
        {
          "output_type": "execute_result",
          "data": {
            "text/plain": [
              "45"
            ]
          },
          "metadata": {
            "tags": []
          },
          "execution_count": 23
        }
      ]
    },
    {
      "cell_type": "code",
      "metadata": {
        "id": "eLgQeJNw5usg",
        "colab_type": "code",
        "colab": {}
      },
      "source": [
        "y_pred = [nltk.word_tokenize(s) for s in answers]\n",
        "y_true = [nltk.word_tokenize(s) for s in true_answer_sentences]"
      ],
      "execution_count": 0,
      "outputs": []
    },
    {
      "cell_type": "code",
      "metadata": {
        "id": "VCh8Y0G3f71d",
        "colab_type": "code",
        "outputId": "7bb9dee3-24ee-427b-b223-4fe61e558adf",
        "colab": {
          "base_uri": "https://localhost:8080/",
          "height": 51
        }
      },
      "source": [
        "i, j = 0,20\n",
        "y_true = y_true[i]\n",
        "y_pred = y_pred[i]\n",
        "print(y_true)\n",
        "print(y_pred)"
      ],
      "execution_count": 25,
      "outputs": [
        {
          "output_type": "stream",
          "text": [
            "['Bangladesh', 'is', 'a', 'country', 'in', 'South', 'Asia', '.']\n",
            "['Bangladesh', 'is', 'one', 'of', 'the', 'most', 'disaster', 'prone', 'areas', 'in', 'the', 'world', '.']\n"
          ],
          "name": "stdout"
        }
      ]
    },
    {
      "cell_type": "code",
      "metadata": {
        "id": "dABoPAAoeWR8",
        "colab_type": "code",
        "outputId": "6b8ec8c5-6c20-416a-cfb6-02d35ab90339",
        "colab": {
          "base_uri": "https://localhost:8080/",
          "height": 68
        }
      },
      "source": [
        "from seqeval.metrics import precision_score, recall_score, accuracy_score\n",
        "\n",
        "\n",
        "print(precision_score(y_true, y_pred))\n",
        "print(recall_score(y_true, y_pred))\n",
        "print(accuracy_score(y_true, y_pred))"
      ],
      "execution_count": 26,
      "outputs": [
        {
          "output_type": "stream",
          "text": [
            "0.16666666666666666\n",
            "0.2857142857142857\n",
            "0.25\n"
          ],
          "name": "stdout"
        }
      ]
    },
    {
      "cell_type": "code",
      "metadata": {
        "id": "Fxl1xictciK7",
        "colab_type": "code",
        "outputId": "fad758e2-b6b3-4cbc-ee1b-c22f0dd7ccd7",
        "colab": {
          "base_uri": "https://localhost:8080/",
          "height": 51
        }
      },
      "source": [
        "from nltk.translate import bleu_score\n",
        "y_pred = [nltk.word_tokenize(s) for s in answers]\n",
        "y_true = [nltk.word_tokenize(s) for s in true_answer_sentences]\n",
        "print(len(y_pred))\n",
        "print(len(y_true))"
      ],
      "execution_count": 27,
      "outputs": [
        {
          "output_type": "stream",
          "text": [
            "60\n",
            "60\n"
          ],
          "name": "stdout"
        }
      ]
    },
    {
      "cell_type": "code",
      "metadata": {
        "id": "TCXX49sGcrHB",
        "colab_type": "code",
        "outputId": "a4099390-897f-480c-ee4d-ec0eb9a88e47",
        "colab": {
          "base_uri": "https://localhost:8080/",
          "height": 102
        }
      },
      "source": [
        "bleu_score.corpus_bleu(y_true, y_pred)"
      ],
      "execution_count": 28,
      "outputs": [
        {
          "output_type": "stream",
          "text": [
            "/usr/local/lib/python3.6/dist-packages/nltk/translate/bleu_score.py:490: UserWarning: \n",
            "Corpus/Sentence contains 0 counts of 2-gram overlaps.\n",
            "BLEU scores might be undesirable; use SmoothingFunction().\n",
            "  warnings.warn(_msg)\n"
          ],
          "name": "stderr"
        },
        {
          "output_type": "execute_result",
          "data": {
            "text/plain": [
              "0.6012638755248773"
            ]
          },
          "metadata": {
            "tags": []
          },
          "execution_count": 28
        }
      ]
    },
    {
      "cell_type": "markdown",
      "metadata": {
        "id": "waXl0zr4piy9",
        "colab_type": "text"
      },
      "source": [
        "This losses are for NER. And not applicable in this context"
      ]
    },
    {
      "cell_type": "markdown",
      "metadata": {
        "id": "FwJx59AMpvI7",
        "colab_type": "text"
      },
      "source": [
        "## Evaluation for different model"
      ]
    },
    {
      "cell_type": "code",
      "metadata": {
        "id": "Mkpz6P5TeWM-",
        "colab_type": "code",
        "outputId": "0d227efd-a5c8-4be9-e565-09a8cc58a22f",
        "colab": {
          "base_uri": "https://localhost:8080/",
          "height": 221
        }
      },
      "source": [
        "module_urls = [\"https://tfhub.dev/google/universal-sentence-encoder-lite/1\",\"https://tfhub.dev/google/universal-sentence-encoder-lite/2\", \"https://tfhub.dev/google/universal-sentence-encoder/2\", \"https://tfhub.dev/google/universal-sentence-encoder-large/3\"]\n",
        "\n",
        "for model_url in module_urls:\n",
        "  embed = hub.Module(module_url)\n",
        "  \n",
        "  similarity_input_placeholder = tf.placeholder(tf.string, shape=(None))\n",
        "  similarity_message_encodings = embed(similarity_input_placeholder)\n",
        "\n",
        "  session = tf.Session()\n",
        "  session.run(tf.global_variables_initializer())\n",
        "  session.run(tf.tables_initializer())\n",
        "  \n",
        "  \n",
        "  message_embeddings = session.run(\n",
        "    similarity_message_encodings, feed_dict={similarity_input_placeholder: messages})\n",
        "  query_embedding = session.run(\n",
        "      similarity_message_encodings, feed_dict={similarity_input_placeholder: query})\n",
        "\n",
        "  corr = np.inner(query_embedding, message_embeddings)\n",
        "  session.close()\n",
        "  \n",
        "  answers = [messages[corr[i].argmax()] for i in range(corr.shape[0])]\n",
        "  print(sum([answers[i] == true_answer_sentences[i] for i in range(len(answers))]))\n",
        "  \n",
        "  y_pred = [nltk.word_tokenize(s) for s in answers]\n",
        "  print(bleu_score.corpus_bleu(y_true, y_pred))"
      ],
      "execution_count": 48,
      "outputs": [
        {
          "output_type": "stream",
          "text": [
            "45\n",
            "0.6012638755248773\n"
          ],
          "name": "stdout"
        },
        {
          "output_type": "stream",
          "text": [
            "/usr/local/lib/python3.6/dist-packages/nltk/translate/bleu_score.py:490: UserWarning: \n",
            "Corpus/Sentence contains 0 counts of 2-gram overlaps.\n",
            "BLEU scores might be undesirable; use SmoothingFunction().\n",
            "  warnings.warn(_msg)\n"
          ],
          "name": "stderr"
        },
        {
          "output_type": "stream",
          "text": [
            "45\n",
            "0.6012638755248773\n",
            "45\n",
            "0.6012638755248773\n",
            "45\n",
            "0.6012638755248773\n"
          ],
          "name": "stdout"
        }
      ]
    },
    {
      "cell_type": "markdown",
      "metadata": {
        "id": "q6Oyj62PVOcV",
        "colab_type": "text"
      },
      "source": [
        "# Other previous approaches"
      ]
    },
    {
      "cell_type": "code",
      "metadata": {
        "id": "q4UDcRFHWtHa",
        "colab_type": "code",
        "colab": {}
      },
      "source": [
        "def print_question_response(responses):\n",
        "  for i in range(len(query)):\n",
        "    print(query[i])\n",
        "    print(responses[i])\n",
        "    print()"
      ],
      "execution_count": 0,
      "outputs": []
    },
    {
      "cell_type": "code",
      "metadata": {
        "id": "xAUNGWRjYGgW",
        "colab_type": "code",
        "colab": {}
      },
      "source": [
        "def calculate_accuracy_and_bleu(responses):\n",
        "  correct = 0\n",
        "  for i in range(len(query)):\n",
        "    if responses[i] == true_answer_sentences[i]:\n",
        "      correct += 1\n",
        "  print(correct/len(query))\n",
        "  \n",
        "  y_pred = [nltk.word_tokenize(s) for s in responses]\n",
        "  print(bleu_score.corpus_bleu(y_true, y_pred))"
      ],
      "execution_count": 0,
      "outputs": []
    },
    {
      "cell_type": "code",
      "metadata": {
        "id": "oZSecSQLbi72",
        "colab_type": "code",
        "colab": {}
      },
      "source": [
        ""
      ],
      "execution_count": 0,
      "outputs": []
    },
    {
      "cell_type": "markdown",
      "metadata": {
        "id": "d-amIBH3VE8B",
        "colab_type": "text"
      },
      "source": [
        "## jaccard Similarity\n"
      ]
    },
    {
      "cell_type": "code",
      "metadata": {
        "id": "-n7XpEXvVFsS",
        "colab_type": "code",
        "colab": {}
      },
      "source": [
        "def jaccard_similarity(query, document):\n",
        "    query = query.lower()\n",
        "    document = document.lower()\n",
        "    \n",
        "    intersection = set(query).intersection(set(document))\n",
        "    union = set(query).union(set(document))\n",
        "    return len(intersection)/len(union)"
      ],
      "execution_count": 0,
      "outputs": []
    },
    {
      "cell_type": "code",
      "metadata": {
        "id": "VoFduFjuWFMy",
        "colab_type": "code",
        "colab": {}
      },
      "source": [
        "def find_best_answer_with_jaccard_similarity(question):\n",
        "    sim_ = -1\n",
        "    answer = None\n",
        "    for response in messages:\n",
        "        sim = jaccard_similarity(question, response)\n",
        "        if sim > sim_:\n",
        "            sim_ = sim\n",
        "            answer = response\n",
        "    return answer           "
      ],
      "execution_count": 0,
      "outputs": []
    },
    {
      "cell_type": "code",
      "metadata": {
        "id": "Rs57cITxXFUh",
        "colab_type": "code",
        "colab": {
          "base_uri": "https://localhost:8080/",
          "height": 34
        },
        "outputId": "109234dc-1e85-4374-b565-091dfbeacb72"
      },
      "source": [
        "find_best_answer_with_jaccard_similarity(\"what is bangladesh\")"
      ],
      "execution_count": 43,
      "outputs": [
        {
          "output_type": "execute_result",
          "data": {
            "text/plain": [
              "'Bangladesh has the worlds largest river and the worlds largest mangrove.'"
            ]
          },
          "metadata": {
            "tags": []
          },
          "execution_count": 43
        }
      ]
    },
    {
      "cell_type": "code",
      "metadata": {
        "id": "kqKy2BtCXIDo",
        "colab_type": "code",
        "colab": {}
      },
      "source": [
        "answers = []\n",
        "for q in query:\n",
        "  answers.append(find_best_answer_with_jaccard_similarity(q))\n",
        "print_question_response(answers)"
      ],
      "execution_count": 0,
      "outputs": []
    },
    {
      "cell_type": "code",
      "metadata": {
        "id": "p9ED3ttYYj0U",
        "colab_type": "code",
        "colab": {
          "base_uri": "https://localhost:8080/",
          "height": 119
        },
        "outputId": "c17e1417-a612-4de3-e7fd-f71ff6309ff0"
      },
      "source": [
        "calculate_accuracy_and_bleu(answers)"
      ],
      "execution_count": 59,
      "outputs": [
        {
          "output_type": "stream",
          "text": [
            "0.11666666666666667\n",
            "0.5790814738322342\n"
          ],
          "name": "stdout"
        },
        {
          "output_type": "stream",
          "text": [
            "/usr/local/lib/python3.6/dist-packages/nltk/translate/bleu_score.py:490: UserWarning: \n",
            "Corpus/Sentence contains 0 counts of 2-gram overlaps.\n",
            "BLEU scores might be undesirable; use SmoothingFunction().\n",
            "  warnings.warn(_msg)\n"
          ],
          "name": "stderr"
        }
      ]
    },
    {
      "cell_type": "markdown",
      "metadata": {
        "id": "PLYEpY_zvaax",
        "colab_type": "text"
      },
      "source": [
        "## CountVectorizer Cosine Similarity"
      ]
    },
    {
      "cell_type": "code",
      "metadata": {
        "id": "34aUnjkUalFn",
        "colab_type": "code",
        "colab": {}
      },
      "source": [
        "def cosine_distance_countvectorizer_method(s1, s2):\n",
        "    \n",
        "    # sentences to list\n",
        "    allsentences = [s1 , s2]\n",
        "    \n",
        "    # packages\n",
        "    from sklearn.feature_extraction.text import CountVectorizer\n",
        "    from scipy.spatial import distance\n",
        "    \n",
        "    # text to vector\n",
        "    vectorizer = CountVectorizer()\n",
        "    all_sentences_to_vector = vectorizer.fit_transform(allsentences)\n",
        "    text_to_vector_v1 = all_sentences_to_vector.toarray()[0].tolist()\n",
        "    text_to_vector_v2 = all_sentences_to_vector.toarray()[1].tolist()\n",
        "    \n",
        "    \n",
        "    # distance of similarity\n",
        "    cosine = distance.cosine(text_to_vector_v1, text_to_vector_v2)\n",
        "    # print('Similarity of two sentences are equal to ',round((1-cosine)*100,2),'%')\n",
        "    return cosine"
      ],
      "execution_count": 0,
      "outputs": []
    },
    {
      "cell_type": "code",
      "metadata": {
        "id": "fGc_uTupvirB",
        "colab_type": "code",
        "colab": {}
      },
      "source": [
        "def find_best_answer_with_countvectorizer(question):\n",
        "    sim_ = -1\n",
        "    answer = None\n",
        "    for response in messages:\n",
        "        sim = cosine_distance_countvectorizer_method(question, response)\n",
        "        if sim > sim_:\n",
        "            sim_ = sim\n",
        "            answer = response\n",
        "    return answer     "
      ],
      "execution_count": 0,
      "outputs": []
    },
    {
      "cell_type": "code",
      "metadata": {
        "id": "U01nDsutvwlz",
        "colab_type": "code",
        "colab": {
          "base_uri": "https://localhost:8080/",
          "height": 34
        },
        "outputId": "52151fd5-05ce-4872-d84a-7999463ddffe"
      },
      "source": [
        "find_best_answer_with_countvectorizer(\"Which is the national tree of bangladesh\")"
      ],
      "execution_count": 73,
      "outputs": [
        {
          "output_type": "execute_result",
          "data": {
            "text/plain": [
              "'It has grismo (summer), barsha (rainy season), sharat (autumn), hemanto (cool season), sheet (winter), and bashonto (spring).'"
            ]
          },
          "metadata": {
            "tags": []
          },
          "execution_count": 73
        }
      ]
    },
    {
      "cell_type": "code",
      "metadata": {
        "id": "M_wpSDudwhPw",
        "colab_type": "code",
        "colab": {
          "base_uri": "https://localhost:8080/",
          "height": 1000
        },
        "outputId": "943ab942-cd02-4521-e7de-291e98ba3039"
      },
      "source": [
        "answers = []\n",
        "for q in query:\n",
        "  answers.append(find_best_answer_with_countvectorizer(q))\n",
        "print_question_response(answers)"
      ],
      "execution_count": 105,
      "outputs": [
        {
          "output_type": "stream",
          "text": [
            "/usr/local/lib/python3.6/dist-packages/numpy/core/fromnumeric.py:3118: RuntimeWarning: Mean of empty slice.\n",
            "  out=out, **kwargs)\n",
            "/usr/local/lib/python3.6/dist-packages/numpy/core/_methods.py:85: RuntimeWarning: invalid value encountered in double_scalars\n",
            "  ret = ret.dtype.type(ret / rcount)\n"
          ],
          "name": "stderr"
        },
        {
          "output_type": "stream",
          "text": [
            "Tell us about Bangladesh\n",
            "Bangladesh is a country in South Asia.\n",
            "\n",
            "Where is bangladesh situated\n",
            "The Bay of Bengal, bounded by India, Bangladesh, Myanmar, Maldives, and Sri Lanka, is the biggest bay in the world.\n",
            "\n",
            "How does bangladesh ranks in the world\n",
            "Bangladesh has the third largest Muslim population in the world after Indonesia and Pakistan.\n",
            "\n",
            "What is the population of bangladesh\n",
            "30% of the Bangladesh population live below the poverty line.\n",
            "\n",
            "What is the size of the country\n",
            "However, the country's overall standard of living has been improving.\n",
            "\n",
            "What does the word “Bangladesh” means\n",
            "The word Bangladesh means the people of Bengal in the local Bangla language.\n",
            "\n",
            "What is the official name of Bangladesh\n",
            "The country's official name is the Peoples Republic of Bangladesh.\n",
            "\n",
            "How many season bangladesh have\n",
            "Bangladesh has six seasons instead of four.\n",
            "\n",
            "Tell the names of the seasons of bangladesh\n",
            "Bangladesh has six seasons instead of four.\n",
            "\n",
            "What is the Bay of Bengal\n",
            "Bangladesh has the worlds largest river and the worlds largest mangrove.\n",
            "\n",
            "Tell us about Royal bengal tiger\n",
            "The national animal of Bangladesh is the Royal bengal tiger.\n",
            "\n",
            "What is the percentage of farmers\n",
            "Almost half of the Bangladeshi population (45%) are farmers.\n",
            "\n",
            "How is the impact of farming in GDP\n",
            "Farming makes up 18% of the nations GDP.\n",
            "\n",
            "What is the capital of Bangladesh\n",
            "The capital of Bangladesh is Dhaka.\n",
            "\n",
            "Tell us about Dhaka\n",
            "The people of Bangladesh rarely smile because they consider frequent smiling to be a sign of immaturity.\n",
            "\n",
            "What is the population of Dhaka\n",
            "The capital of Bangladesh is Dhaka.\n",
            "\n",
            "Which city is referred as the City of Mosque\n",
            "It is referred to as the City of Mosques.\n",
            "\n",
            "What is the largest legislative center of bangladesh.\n",
            "The national Parliament of Bangladesh is one of the largest legislative centers.\n",
            "\n",
            "Which is the longest beach of Bangladesh\n",
            "The Cox Bazaar is the longest sea beach in the world, covering 125km.\n",
            "\n",
            "What is the length of the longest sea beach of the world\n",
            "The Cox Bazaar is the longest sea beach in the world, covering 125km.\n",
            "\n",
            "Why does Bangladeshi people rarely smile\n",
            "The people of Bangladesh rarely smile because they consider frequent smiling to be a sign of immaturity.\n",
            "\n",
            "Why don’t Bangladeshi people smile frequently\n",
            "The people of Bangladesh rarely smile because they consider frequent smiling to be a sign of immaturity.\n",
            "\n",
            "What is the biggest export industry of bangladesh\n",
            "Despite widespread farming in Bangladesh, the biggest exports in the country come from the garment industry.\n",
            "\n",
            "What does the garment industry do for the country\n",
            "Despite widespread farming in Bangladesh, the biggest exports in the country come from the garment industry.\n",
            "\n",
            "How many newspapers are published in Bangladesh\n",
            "More than 2,000 periodicals and daily newspapers are published in Bangladesh, despite the countrys readership standing at only 15%.\n",
            "\n",
            "What is the % of readership in bangladesh\n",
            "More than 2,000 periodicals and daily newspapers are published in Bangladesh, despite the countrys readership standing at only 15%.\n",
            "\n",
            "How many people reads newspaper\n",
            "More than 2,000 periodicals and daily newspapers are published in Bangladesh, despite the countrys readership standing at only 15%.\n",
            "\n",
            "Where is the world’s largest river/mangrove situated\n",
            "Bangladesh has the worlds largest river and the worlds largest mangrove.\n",
            "\n",
            "What is taka\n",
            "The currency of Bangladesh is the Bangladeshi taka, which means currency in Bengali.\n",
            "\n",
            "What is the currency of Bangladesh\n",
            "The currency of Bangladesh is the Bangladeshi taka, which means currency in Bengali.\n",
            "\n",
            "Who has the third lagest Muslim  population\n",
            "Bangladesh has the third largest Muslim population in the world after Indonesia and Pakistan.\n",
            "\n",
            "Which hand is considered unclean\n",
            "In Bangladesh, the left hand is considered to be unclean.\n",
            "\n",
            "Which hand is used for eating/passing food/passing business card\n",
            "The right hand is used when eating, passing food, or passing business cards.\n",
            "\n",
            "How is the popularity of Cricket in Bangladesh\n",
            "Cricket is the most popular sport in Bangladesh.\n",
            "\n",
            "What is the most popular sports in Bangladesh\n",
            "Cricket is the most popular sport in Bangladesh.\n",
            "\n",
            "When did bangladesh first participated in Cricket World Cup\n",
            "In 1999, the Bangladesh national cricket team was part of the Cricket World Cup.\n",
            "\n",
            "When did Bangladesh received Test Status\n",
            "In 2000, it received the Test status, which is an honor in international cricket.\n",
            "\n",
            "What is Test Status\n",
            "In 2000, it received the Test status, which is an honor in international cricket.\n",
            "\n",
            "What is the highest point of Bangladesh\n",
            "The highest point in Bangladesh is the Saka Haphong in the southeastern Mowdok Range, which has a height of 1,052 m (3,451 ft).\n",
            "\n",
            "Where is Saka Haphong situated\n",
            "In area, it is the 92nd-largest country, spanning 147,570 square kilometers (56,980 sq mi).\n",
            "\n",
            "What is the height of the highest point of Bangladesh\n",
            "The highest point in Bangladesh is the Saka Haphong in the southeastern Mowdok Range, which has a height of 1,052 m (3,451 ft).\n",
            "\n",
            "What is the national sport of Bangladesh\n",
            "Cricket is the most popular sport in Bangladesh.\n",
            "\n",
            "What is the status of Kabaddi in Bangladesh\n",
            "Cricket is the most popular sport in Bangladesh.\n",
            "\n",
            "Who wrote the national anthem of Bangladesh\n",
            "The country's official name is the Peoples Republic of Bangladesh.\n",
            "\n",
            "What did Rabindrannath Tagore wrote?\n",
            "The national anthem was written by Rabindranath Tagore.\n",
            "\n",
            "What is the national bird of Bangladesh\n",
            "The national animal of Bangladesh is the Royal bengal tiger.\n",
            "\n",
            "What is the status of Doel in Bangladesh\n",
            "The country's official name is the Peoples Republic of Bangladesh.\n",
            "\n",
            "What is the national flower of Bangladesh\n",
            "The national animal of Bangladesh is the Royal bengal tiger.\n",
            "\n",
            "What is shapla\n",
            "None\n",
            "\n",
            "Which is the national tree of bangladesh\n",
            "The national animal of Bangladesh is the Royal bengal tiger.\n",
            "\n",
            "Why thousands got killed\n",
            "Almost half of the Bangladeshi population (45%) are farmers.\n",
            "\n",
            "What affected economic growth\n",
            "Farming makes up 18% of the nations GDP.\n",
            "\n",
            "Why the ground never freezes\n",
            "Due to its low-lying elevation, the ground in Bangladesh has never frozen.\n",
            "\n",
            "What is the coldest recorded temperature?\n",
            "The coldest temperature on record is a low of 4.5C in Jessore during the winter of 2011.\n",
            "\n",
            "When was the coldest temperature recorded?\n",
            "The coldest temperature on record is a low of 4.5C in Jessore during the winter of 2011.\n",
            "\n",
            "Where was the coldest temperature recorded\n",
            "The coldest temperature on record is a low of 4.5C in Jessore during the winter of 2011.\n",
            "\n",
            "How is the status of poverty in Bangladesh\n",
            "30% of the Bangladesh population live below the poverty line.\n",
            "\n",
            "Tell us about Tasmin Lucia Khan\n",
            "The country's official name is the Peoples Republic of Bangladesh.\n",
            "\n",
            "How is the soil fertility in Bangladesh?\n",
            "Bangladesh has a shortage of rocks for construction.\n",
            "\n",
            "What is the oldest city of Bangladesh\n",
            "Bangladesh has the third largest Muslim population in the world after Indonesia and Pakistan.\n",
            "\n"
          ],
          "name": "stdout"
        }
      ]
    },
    {
      "cell_type": "code",
      "metadata": {
        "id": "wFkTFqHZvzdy",
        "colab_type": "code",
        "colab": {
          "base_uri": "https://localhost:8080/",
          "height": 119
        },
        "outputId": "2c63a7b4-1b80-47dc-86bd-8730777430ec"
      },
      "source": [
        "calculate_accuracy_and_bleu(answers)"
      ],
      "execution_count": 75,
      "outputs": [
        {
          "output_type": "stream",
          "text": [
            "0.016666666666666666\n",
            "0.5415082421846514\n"
          ],
          "name": "stdout"
        },
        {
          "output_type": "stream",
          "text": [
            "/usr/local/lib/python3.6/dist-packages/nltk/translate/bleu_score.py:490: UserWarning: \n",
            "Corpus/Sentence contains 0 counts of 2-gram overlaps.\n",
            "BLEU scores might be undesirable; use SmoothingFunction().\n",
            "  warnings.warn(_msg)\n"
          ],
          "name": "stderr"
        }
      ]
    },
    {
      "cell_type": "markdown",
      "metadata": {
        "id": "OiWMGGjXyYTC",
        "colab_type": "text"
      },
      "source": [
        "## GLoVE 50d\n"
      ]
    },
    {
      "cell_type": "code",
      "metadata": {
        "id": "1nk3Rj8OxBXy",
        "colab_type": "code",
        "colab": {
          "base_uri": "https://localhost:8080/",
          "height": 357
        },
        "outputId": "c316e89a-091e-44c8-e5c0-e62070a190a9"
      },
      "source": [
        "!wget http://nlp.stanford.edu/data/glove.6B.zip"
      ],
      "execution_count": 76,
      "outputs": [
        {
          "output_type": "stream",
          "text": [
            "--2019-08-28 05:54:13--  http://nlp.stanford.edu/data/glove.6B.zip\n",
            "Resolving nlp.stanford.edu (nlp.stanford.edu)... 171.64.67.140\n",
            "Connecting to nlp.stanford.edu (nlp.stanford.edu)|171.64.67.140|:80... connected.\n",
            "HTTP request sent, awaiting response... 302 Found\n",
            "Location: https://nlp.stanford.edu/data/glove.6B.zip [following]\n",
            "--2019-08-28 05:54:13--  https://nlp.stanford.edu/data/glove.6B.zip\n",
            "Connecting to nlp.stanford.edu (nlp.stanford.edu)|171.64.67.140|:443... connected.\n",
            "HTTP request sent, awaiting response... 301 Moved Permanently\n",
            "Location: http://downloads.cs.stanford.edu/nlp/data/glove.6B.zip [following]\n",
            "--2019-08-28 05:54:14--  http://downloads.cs.stanford.edu/nlp/data/glove.6B.zip\n",
            "Resolving downloads.cs.stanford.edu (downloads.cs.stanford.edu)... 171.64.64.22\n",
            "Connecting to downloads.cs.stanford.edu (downloads.cs.stanford.edu)|171.64.64.22|:80... connected.\n",
            "HTTP request sent, awaiting response... 200 OK\n",
            "Length: 862182613 (822M) [application/zip]\n",
            "Saving to: ‘glove.6B.zip’\n",
            "\n",
            "glove.6B.zip        100%[===================>] 822.24M  51.7MB/s    in 18s     \n",
            "\n",
            "2019-08-28 05:54:32 (46.0 MB/s) - ‘glove.6B.zip’ saved [862182613/862182613]\n",
            "\n"
          ],
          "name": "stdout"
        }
      ]
    },
    {
      "cell_type": "code",
      "metadata": {
        "id": "jYD-ouByyeZB",
        "colab_type": "code",
        "colab": {
          "base_uri": "https://localhost:8080/",
          "height": 102
        },
        "outputId": "833db153-d24c-4b03-973c-59659cf6698e"
      },
      "source": [
        "!unzip glove.6B.zip"
      ],
      "execution_count": 78,
      "outputs": [
        {
          "output_type": "stream",
          "text": [
            "Archive:  glove.6B.zip\n",
            "  inflating: glove.6B.50d.txt        \n",
            "  inflating: glove.6B.100d.txt       \n",
            "  inflating: glove.6B.200d.txt       \n",
            "  inflating: glove.6B.300d.txt       \n"
          ],
          "name": "stdout"
        }
      ]
    },
    {
      "cell_type": "code",
      "metadata": {
        "id": "U3g_66zUyjBh",
        "colab_type": "code",
        "colab": {
          "base_uri": "https://localhost:8080/",
          "height": 51
        },
        "outputId": "1bcb9d82-9fe0-43c8-dba4-4720c6d4444d"
      },
      "source": [
        "gloveFile = \"glove.6B.50d.txt\"\n",
        "\n",
        "\n",
        "import numpy as np\n",
        "\n",
        "def loadGloveModel(gloveFile):\n",
        "    print (\"Loading Glove Model\")\n",
        "    with open(gloveFile, encoding=\"utf8\" ) as f:\n",
        "        content = f.readlines()\n",
        "    model = {}\n",
        "    for line in content:\n",
        "        splitLine = line.split()\n",
        "        word = splitLine[0]\n",
        "        embedding = np.array([float(val) for val in splitLine[1:]])\n",
        "        model[word] = embedding\n",
        "    print (\"Done.\",len(model),\" words loaded!\")\n",
        "    return model\n",
        "model = loadGloveModel(gloveFile)\n",
        "\n"
      ],
      "execution_count": 116,
      "outputs": [
        {
          "output_type": "stream",
          "text": [
            "Loading Glove Model\n",
            "Done. 400000  words loaded!\n"
          ],
          "name": "stdout"
        }
      ]
    },
    {
      "cell_type": "code",
      "metadata": {
        "id": "0nDDOeKF2FDg",
        "colab_type": "code",
        "colab": {
          "base_uri": "https://localhost:8080/",
          "height": 34
        },
        "outputId": "f6e3b97a-3417-4a25-eaff-3940aed7eae6"
      },
      "source": [
        "\"he\" in model"
      ],
      "execution_count": 117,
      "outputs": [
        {
          "output_type": "execute_result",
          "data": {
            "text/plain": [
              "True"
            ]
          },
          "metadata": {
            "tags": []
          },
          "execution_count": 117
        }
      ]
    },
    {
      "cell_type": "code",
      "metadata": {
        "id": "H3J6xDBbzUTS",
        "colab_type": "code",
        "colab": {
          "base_uri": "https://localhost:8080/",
          "height": 51
        },
        "outputId": "1fc7f669-bc40-4c68-85b7-ca819c8ecd22"
      },
      "source": [
        "import re\n",
        "from nltk.corpus import stopwords\n",
        "import pandas as pd\n",
        "import nltk\n",
        "nltk.download('stopwords')\n",
        "\n",
        "def preprocess(raw_text):\n",
        "\n",
        "    # keep only words\n",
        "    letters_only_text = re.sub(\"[^a-zA-Z]\", \" \", raw_text)\n",
        "\n",
        "    # convert to lower case and split \n",
        "    words = letters_only_text.lower().split()\n",
        "\n",
        "    # remove stopwords\n",
        "    stopword_set = set(stopwords.words(\"english\"))\n",
        "    cleaned_words = list(set([w for w in words if w not in stopword_set]))\n",
        "\n",
        "    return cleaned_words\n",
        "\n",
        "def cosine_distance_between_two_words(word1, word2):\n",
        "    import scipy\n",
        "    return (1- scipy.spatial.distance.cosine(model[word1], model[word2]))\n",
        "\n",
        "def calculate_heat_matrix_for_two_sentences(s1,s2):\n",
        "    s1 = preprocess(s1)\n",
        "    s2 = preprocess(s2)\n",
        "    result_list = [[cosine_distance_between_two_words(word1, word2) for word2 in s2] for word1 in s1]\n",
        "    result_df = pd.DataFrame(result_list)\n",
        "    result_df.columns = s2\n",
        "    result_df.index = s1\n",
        "    return result_df\n",
        "\n",
        "def cosine_distance_wordembedding_method(s1, s2):\n",
        "    import scipy\n",
        "    vector_1 = np.mean([model[word] for word in preprocess(s1) if word in model],axis=0)\n",
        "    vector_2 = np.mean([model[word] for word in preprocess(s2) if word in model],axis=0)\n",
        "    cosine = scipy.spatial.distance.cosine(vector_1, vector_2)\n",
        "    # print('Word Embedding method with a cosine distance asses that our two sentences are similar to',round((1-cosine)*100,2),'%')\n",
        "    return round((1-cosine)*100,2)\n",
        "\n",
        "def heat_map_matrix_between_two_sentences(s1,s2):\n",
        "    df = calculate_heat_matrix_for_two_sentences(s1,s2)\n",
        "    import seaborn as sns\n",
        "    import matplotlib.pyplot as plt\n",
        "    fig, ax = plt.subplots(figsize=(5,5)) \n",
        "    ax_blue = sns.heatmap(df, cmap=\"YlGnBu\")\n",
        "    # ax_red = sns.heatmap(df)\n",
        "    print(cosine_distance_wordembedding_method(s1, s2))\n",
        "    return ax_blue"
      ],
      "execution_count": 118,
      "outputs": [
        {
          "output_type": "stream",
          "text": [
            "[nltk_data] Downloading package stopwords to /root/nltk_data...\n",
            "[nltk_data]   Package stopwords is already up-to-date!\n"
          ],
          "name": "stdout"
        }
      ]
    },
    {
      "cell_type": "code",
      "metadata": {
        "id": "kpISOPekzU7C",
        "colab_type": "code",
        "colab": {}
      },
      "source": [
        "def find_best_answer_with_embedding(question):\n",
        "    sim_ = -1\n",
        "    answer = None\n",
        "    for response in messages:\n",
        "        sim = cosine_distance_wordembedding_method(question, response)\n",
        "        if sim > sim_:\n",
        "            sim_ = sim\n",
        "            answer = response\n",
        "    return answer "
      ],
      "execution_count": 0,
      "outputs": []
    },
    {
      "cell_type": "code",
      "metadata": {
        "id": "DwV_zbECzMY6",
        "colab_type": "code",
        "colab": {
          "base_uri": "https://localhost:8080/",
          "height": 34
        },
        "outputId": "30dc0029-d164-4e28-907c-6ad6961c49a3"
      },
      "source": [
        "find_best_answer_with_embedding(\"Which is the national tree of bangladesh\")"
      ],
      "execution_count": 120,
      "outputs": [
        {
          "output_type": "execute_result",
          "data": {
            "text/plain": [
              "'The national animal of Bangladesh is the Royal bengal tiger.'"
            ]
          },
          "metadata": {
            "tags": []
          },
          "execution_count": 120
        }
      ]
    },
    {
      "cell_type": "code",
      "metadata": {
        "id": "lPQwvPPSz0LU",
        "colab_type": "code",
        "colab": {
          "base_uri": "https://localhost:8080/",
          "height": 1000
        },
        "outputId": "088af945-e8e9-4753-c4ed-52e077c4bca7"
      },
      "source": [
        "answers = []\n",
        "for q in query:\n",
        "  answers.append(find_best_answer_with_embedding(q))\n",
        "print_question_response(answers)"
      ],
      "execution_count": 121,
      "outputs": [
        {
          "output_type": "stream",
          "text": [
            "/usr/local/lib/python3.6/dist-packages/numpy/core/fromnumeric.py:3118: RuntimeWarning: Mean of empty slice.\n",
            "  out=out, **kwargs)\n",
            "/usr/local/lib/python3.6/dist-packages/numpy/core/_methods.py:85: RuntimeWarning: invalid value encountered in double_scalars\n",
            "  ret = ret.dtype.type(ret / rcount)\n"
          ],
          "name": "stderr"
        },
        {
          "output_type": "stream",
          "text": [
            "Tell us about Bangladesh\n",
            "Bangladesh is a country in South Asia.\n",
            "\n",
            "Where is bangladesh situated\n",
            "The Bay of Bengal, bounded by India, Bangladesh, Myanmar, Maldives, and Sri Lanka, is the biggest bay in the world.\n",
            "\n",
            "How does bangladesh ranks in the world\n",
            "Bangladesh has the third largest Muslim population in the world after Indonesia and Pakistan.\n",
            "\n",
            "What is the population of bangladesh\n",
            "30% of the Bangladesh population live below the poverty line.\n",
            "\n",
            "What is the size of the country\n",
            "However, the country's overall standard of living has been improving.\n",
            "\n",
            "What does the word “Bangladesh” means\n",
            "The word Bangladesh means the people of Bengal in the local Bangla language.\n",
            "\n",
            "What is the official name of Bangladesh\n",
            "The country's official name is the Peoples Republic of Bangladesh.\n",
            "\n",
            "How many season bangladesh have\n",
            "Bangladesh has six seasons instead of four.\n",
            "\n",
            "Tell the names of the seasons of bangladesh\n",
            "Bangladesh has six seasons instead of four.\n",
            "\n",
            "What is the Bay of Bengal\n",
            "Bangladesh has the worlds largest river and the worlds largest mangrove.\n",
            "\n",
            "Tell us about Royal bengal tiger\n",
            "The national animal of Bangladesh is the Royal bengal tiger.\n",
            "\n",
            "What is the percentage of farmers\n",
            "Almost half of the Bangladeshi population (45%) are farmers.\n",
            "\n",
            "How is the impact of farming in GDP\n",
            "Farming makes up 18% of the nations GDP.\n",
            "\n",
            "What is the capital of Bangladesh\n",
            "The capital of Bangladesh is Dhaka.\n",
            "\n",
            "Tell us about Dhaka\n",
            "The people of Bangladesh rarely smile because they consider frequent smiling to be a sign of immaturity.\n",
            "\n",
            "What is the population of Dhaka\n",
            "The capital of Bangladesh is Dhaka.\n",
            "\n",
            "Which city is referred as the City of Mosque\n",
            "It is referred to as the City of Mosques.\n",
            "\n",
            "What is the largest legislative center of bangladesh.\n",
            "The national Parliament of Bangladesh is one of the largest legislative centers.\n",
            "\n",
            "Which is the longest beach of Bangladesh\n",
            "The Cox Bazaar is the longest sea beach in the world, covering 125km.\n",
            "\n",
            "What is the length of the longest sea beach of the world\n",
            "The Cox Bazaar is the longest sea beach in the world, covering 125km.\n",
            "\n",
            "Why does Bangladeshi people rarely smile\n",
            "The people of Bangladesh rarely smile because they consider frequent smiling to be a sign of immaturity.\n",
            "\n",
            "Why don’t Bangladeshi people smile frequently\n",
            "The people of Bangladesh rarely smile because they consider frequent smiling to be a sign of immaturity.\n",
            "\n",
            "What is the biggest export industry of bangladesh\n",
            "Despite widespread farming in Bangladesh, the biggest exports in the country come from the garment industry.\n",
            "\n",
            "What does the garment industry do for the country\n",
            "Despite widespread farming in Bangladesh, the biggest exports in the country come from the garment industry.\n",
            "\n",
            "How many newspapers are published in Bangladesh\n",
            "More than 2,000 periodicals and daily newspapers are published in Bangladesh, despite the countrys readership standing at only 15%.\n",
            "\n",
            "What is the % of readership in bangladesh\n",
            "More than 2,000 periodicals and daily newspapers are published in Bangladesh, despite the countrys readership standing at only 15%.\n",
            "\n",
            "How many people reads newspaper\n",
            "More than 2,000 periodicals and daily newspapers are published in Bangladesh, despite the countrys readership standing at only 15%.\n",
            "\n",
            "Where is the world’s largest river/mangrove situated\n",
            "Bangladesh has the worlds largest river and the worlds largest mangrove.\n",
            "\n",
            "What is taka\n",
            "The currency of Bangladesh is the Bangladeshi taka, which means currency in Bengali.\n",
            "\n",
            "What is the currency of Bangladesh\n",
            "The currency of Bangladesh is the Bangladeshi taka, which means currency in Bengali.\n",
            "\n",
            "Who has the third lagest Muslim  population\n",
            "Bangladesh has the third largest Muslim population in the world after Indonesia and Pakistan.\n",
            "\n",
            "Which hand is considered unclean\n",
            "In Bangladesh, the left hand is considered to be unclean.\n",
            "\n",
            "Which hand is used for eating/passing food/passing business card\n",
            "The right hand is used when eating, passing food, or passing business cards.\n",
            "\n",
            "How is the popularity of Cricket in Bangladesh\n",
            "Cricket is the most popular sport in Bangladesh.\n",
            "\n",
            "What is the most popular sports in Bangladesh\n",
            "Cricket is the most popular sport in Bangladesh.\n",
            "\n",
            "When did bangladesh first participated in Cricket World Cup\n",
            "In 1999, the Bangladesh national cricket team was part of the Cricket World Cup.\n",
            "\n",
            "When did Bangladesh received Test Status\n",
            "In 2000, it received the Test status, which is an honor in international cricket.\n",
            "\n",
            "What is Test Status\n",
            "In 2000, it received the Test status, which is an honor in international cricket.\n",
            "\n",
            "What is the highest point of Bangladesh\n",
            "The highest point in Bangladesh is the Saka Haphong in the southeastern Mowdok Range, which has a height of 1,052 m (3,451 ft).\n",
            "\n",
            "Where is Saka Haphong situated\n",
            "In area, it is the 92nd-largest country, spanning 147,570 square kilometers (56,980 sq mi).\n",
            "\n",
            "What is the height of the highest point of Bangladesh\n",
            "The highest point in Bangladesh is the Saka Haphong in the southeastern Mowdok Range, which has a height of 1,052 m (3,451 ft).\n",
            "\n",
            "What is the national sport of Bangladesh\n",
            "Cricket is the most popular sport in Bangladesh.\n",
            "\n",
            "What is the status of Kabaddi in Bangladesh\n",
            "Cricket is the most popular sport in Bangladesh.\n",
            "\n",
            "Who wrote the national anthem of Bangladesh\n",
            "The country's official name is the Peoples Republic of Bangladesh.\n",
            "\n",
            "What did Rabindrannath Tagore wrote?\n",
            "The national anthem was written by Rabindranath Tagore.\n",
            "\n",
            "What is the national bird of Bangladesh\n",
            "The national animal of Bangladesh is the Royal bengal tiger.\n",
            "\n",
            "What is the status of Doel in Bangladesh\n",
            "The country's official name is the Peoples Republic of Bangladesh.\n",
            "\n",
            "What is the national flower of Bangladesh\n",
            "The national animal of Bangladesh is the Royal bengal tiger.\n",
            "\n",
            "What is shapla\n",
            "None\n",
            "\n",
            "Which is the national tree of bangladesh\n",
            "The national animal of Bangladesh is the Royal bengal tiger.\n",
            "\n",
            "Why thousands got killed\n",
            "Almost half of the Bangladeshi population (45%) are farmers.\n",
            "\n",
            "What affected economic growth\n",
            "Farming makes up 18% of the nations GDP.\n",
            "\n",
            "Why the ground never freezes\n",
            "Due to its low-lying elevation, the ground in Bangladesh has never frozen.\n",
            "\n",
            "What is the coldest recorded temperature?\n",
            "The coldest temperature on record is a low of 4.5C in Jessore during the winter of 2011.\n",
            "\n",
            "When was the coldest temperature recorded?\n",
            "The coldest temperature on record is a low of 4.5C in Jessore during the winter of 2011.\n",
            "\n",
            "Where was the coldest temperature recorded\n",
            "The coldest temperature on record is a low of 4.5C in Jessore during the winter of 2011.\n",
            "\n",
            "How is the status of poverty in Bangladesh\n",
            "30% of the Bangladesh population live below the poverty line.\n",
            "\n",
            "Tell us about Tasmin Lucia Khan\n",
            "The country's official name is the Peoples Republic of Bangladesh.\n",
            "\n",
            "How is the soil fertility in Bangladesh?\n",
            "Bangladesh has a shortage of rocks for construction.\n",
            "\n",
            "What is the oldest city of Bangladesh\n",
            "Bangladesh has the third largest Muslim population in the world after Indonesia and Pakistan.\n",
            "\n"
          ],
          "name": "stdout"
        }
      ]
    },
    {
      "cell_type": "code",
      "metadata": {
        "id": "wcZh7KAb28ih",
        "colab_type": "code",
        "colab": {
          "base_uri": "https://localhost:8080/",
          "height": 119
        },
        "outputId": "773cc412-16d7-408b-c33b-32d013bc1ea8"
      },
      "source": [
        "answers = [str(a) for a in answers]\n",
        "calculate_accuracy_and_bleu(answers)"
      ],
      "execution_count": 122,
      "outputs": [
        {
          "output_type": "stream",
          "text": [
            "0.5666666666666667\n",
            "0.5910149593602474\n"
          ],
          "name": "stdout"
        },
        {
          "output_type": "stream",
          "text": [
            "/usr/local/lib/python3.6/dist-packages/nltk/translate/bleu_score.py:490: UserWarning: \n",
            "Corpus/Sentence contains 0 counts of 2-gram overlaps.\n",
            "BLEU scores might be undesirable; use SmoothingFunction().\n",
            "  warnings.warn(_msg)\n"
          ],
          "name": "stderr"
        }
      ]
    },
    {
      "cell_type": "markdown",
      "metadata": {
        "id": "JIt0NVd04Nuz",
        "colab_type": "text"
      },
      "source": [
        "## GLoVE 300d"
      ]
    },
    {
      "cell_type": "code",
      "metadata": {
        "id": "U58IjsQE3Bbj",
        "colab_type": "code",
        "colab": {
          "base_uri": "https://localhost:8080/",
          "height": 51
        },
        "outputId": "94c0f90b-ddfb-481a-ffd9-e38813d9257f"
      },
      "source": [
        "gloveFile = \"glove.6B.300d.txt\"\n",
        "model = loadGloveModel(gloveFile)"
      ],
      "execution_count": 125,
      "outputs": [
        {
          "output_type": "stream",
          "text": [
            "Loading Glove Model\n",
            "Done. 400000  words loaded!\n"
          ],
          "name": "stdout"
        }
      ]
    },
    {
      "cell_type": "code",
      "metadata": {
        "id": "HhZefef83LIR",
        "colab_type": "code",
        "colab": {
          "base_uri": "https://localhost:8080/",
          "height": 1000
        },
        "outputId": "208a9f92-fdf2-4ee3-e4a6-cb5e988bad83"
      },
      "source": [
        "answers = []\n",
        "for q in query:\n",
        "  answers.append(find_best_answer_with_embedding(q))\n",
        "print_question_response(answers)"
      ],
      "execution_count": 126,
      "outputs": [
        {
          "output_type": "stream",
          "text": [
            "/usr/local/lib/python3.6/dist-packages/numpy/core/fromnumeric.py:3118: RuntimeWarning: Mean of empty slice.\n",
            "  out=out, **kwargs)\n",
            "/usr/local/lib/python3.6/dist-packages/numpy/core/_methods.py:85: RuntimeWarning: invalid value encountered in double_scalars\n",
            "  ret = ret.dtype.type(ret / rcount)\n"
          ],
          "name": "stderr"
        },
        {
          "output_type": "stream",
          "text": [
            "Tell us about Bangladesh\n",
            "Bangladesh is a country in South Asia.\n",
            "\n",
            "Where is bangladesh situated\n",
            "The Bay of Bengal, bounded by India, Bangladesh, Myanmar, Maldives, and Sri Lanka, is the biggest bay in the world.\n",
            "\n",
            "How does bangladesh ranks in the world\n",
            "Bangladesh has the third largest Muslim population in the world after Indonesia and Pakistan.\n",
            "\n",
            "What is the population of bangladesh\n",
            "30% of the Bangladesh population live below the poverty line.\n",
            "\n",
            "What is the size of the country\n",
            "However, the country's overall standard of living has been improving.\n",
            "\n",
            "What does the word “Bangladesh” means\n",
            "The word Bangladesh means the people of Bengal in the local Bangla language.\n",
            "\n",
            "What is the official name of Bangladesh\n",
            "The country's official name is the Peoples Republic of Bangladesh.\n",
            "\n",
            "How many season bangladesh have\n",
            "Bangladesh has six seasons instead of four.\n",
            "\n",
            "Tell the names of the seasons of bangladesh\n",
            "Bangladesh has six seasons instead of four.\n",
            "\n",
            "What is the Bay of Bengal\n",
            "The Bay of Bengal, bounded by India, Bangladesh, Myanmar, Maldives, and Sri Lanka, is the biggest bay in the world.\n",
            "\n",
            "Tell us about Royal bengal tiger\n",
            "The national animal of Bangladesh is the Royal bengal tiger.\n",
            "\n",
            "What is the percentage of farmers\n",
            "Almost half of the Bangladeshi population (45%) are farmers.\n",
            "\n",
            "How is the impact of farming in GDP\n",
            "Farming makes up 18% of the nations GDP.\n",
            "\n",
            "What is the capital of Bangladesh\n",
            "The capital of Bangladesh is Dhaka.\n",
            "\n",
            "Tell us about Dhaka\n",
            "The capital of Bangladesh is Dhaka.\n",
            "\n",
            "What is the population of Dhaka\n",
            "The capital of Bangladesh is Dhaka.\n",
            "\n",
            "Which city is referred as the City of Mosque\n",
            "It is referred to as the City of Mosques.\n",
            "\n",
            "What is the largest legislative center of bangladesh.\n",
            "The national Parliament of Bangladesh is one of the largest legislative centers.\n",
            "\n",
            "Which is the longest beach of Bangladesh\n",
            "The Cox Bazaar is the longest sea beach in the world, covering 125km.\n",
            "\n",
            "What is the length of the longest sea beach of the world\n",
            "The Cox Bazaar is the longest sea beach in the world, covering 125km.\n",
            "\n",
            "Why does Bangladeshi people rarely smile\n",
            "The people of Bangladesh rarely smile because they consider frequent smiling to be a sign of immaturity.\n",
            "\n",
            "Why don’t Bangladeshi people smile frequently\n",
            "The people of Bangladesh rarely smile because they consider frequent smiling to be a sign of immaturity.\n",
            "\n",
            "What is the biggest export industry of bangladesh\n",
            "Despite widespread farming in Bangladesh, the biggest exports in the country come from the garment industry.\n",
            "\n",
            "What does the garment industry do for the country\n",
            "Despite widespread farming in Bangladesh, the biggest exports in the country come from the garment industry.\n",
            "\n",
            "How many newspapers are published in Bangladesh\n",
            "More than 2,000 periodicals and daily newspapers are published in Bangladesh, despite the countrys readership standing at only 15%.\n",
            "\n",
            "What is the % of readership in bangladesh\n",
            "More than 2,000 periodicals and daily newspapers are published in Bangladesh, despite the countrys readership standing at only 15%.\n",
            "\n",
            "How many people reads newspaper\n",
            "More than 2,000 periodicals and daily newspapers are published in Bangladesh, despite the countrys readership standing at only 15%.\n",
            "\n",
            "Where is the world’s largest river/mangrove situated\n",
            "Bangladesh has the worlds largest river and the worlds largest mangrove.\n",
            "\n",
            "What is taka\n",
            "The currency of Bangladesh is the Bangladeshi taka, which means currency in Bengali.\n",
            "\n",
            "What is the currency of Bangladesh\n",
            "The currency of Bangladesh is the Bangladeshi taka, which means currency in Bengali.\n",
            "\n",
            "Who has the third lagest Muslim  population\n",
            "Bangladesh has the third largest Muslim population in the world after Indonesia and Pakistan.\n",
            "\n",
            "Which hand is considered unclean\n",
            "In Bangladesh, the left hand is considered to be unclean.\n",
            "\n",
            "Which hand is used for eating/passing food/passing business card\n",
            "The right hand is used when eating, passing food, or passing business cards.\n",
            "\n",
            "How is the popularity of Cricket in Bangladesh\n",
            "Cricket is the most popular sport in Bangladesh.\n",
            "\n",
            "What is the most popular sports in Bangladesh\n",
            "Cricket is the most popular sport in Bangladesh.\n",
            "\n",
            "When did bangladesh first participated in Cricket World Cup\n",
            "In 1999, the Bangladesh national cricket team was part of the Cricket World Cup.\n",
            "\n",
            "When did Bangladesh received Test Status\n",
            "In 2000, it received the Test status, which is an honor in international cricket.\n",
            "\n",
            "What is Test Status\n",
            "In 2000, it received the Test status, which is an honor in international cricket.\n",
            "\n",
            "What is the highest point of Bangladesh\n",
            "The highest point in Bangladesh is the Saka Haphong in the southeastern Mowdok Range, which has a height of 1,052 m (3,451 ft).\n",
            "\n",
            "Where is Saka Haphong situated\n",
            "The highest point in Bangladesh is the Saka Haphong in the southeastern Mowdok Range, which has a height of 1,052 m (3,451 ft).\n",
            "\n",
            "What is the height of the highest point of Bangladesh\n",
            "The highest point in Bangladesh is the Saka Haphong in the southeastern Mowdok Range, which has a height of 1,052 m (3,451 ft).\n",
            "\n",
            "What is the national sport of Bangladesh\n",
            "Cricket is the most popular sport in Bangladesh.\n",
            "\n",
            "What is the status of Kabaddi in Bangladesh\n",
            "Cricket is the most popular sport in Bangladesh.\n",
            "\n",
            "Who wrote the national anthem of Bangladesh\n",
            "The national Parliament of Bangladesh is one of the largest legislative centers.\n",
            "\n",
            "What did Rabindrannath Tagore wrote?\n",
            "The national anthem was written by Rabindranath Tagore.\n",
            "\n",
            "What is the national bird of Bangladesh\n",
            "The national animal of Bangladesh is the Royal bengal tiger.\n",
            "\n",
            "What is the status of Doel in Bangladesh\n",
            "The Bay of Bengal, bounded by India, Bangladesh, Myanmar, Maldives, and Sri Lanka, is the biggest bay in the world.\n",
            "\n",
            "What is the national flower of Bangladesh\n",
            "The national flower of Bangladesh is the white-flowered water lily, called Shapla.\n",
            "\n",
            "What is shapla\n",
            "None\n",
            "\n",
            "Which is the national tree of bangladesh\n",
            "Jackfruit (Kathal in Bengali) is the national fruit and the mango tree is the national tree of Bangladesh.\n",
            "\n",
            "Why thousands got killed\n",
            "Cyclones and floods have killed thousands and impeded economic growth.\n",
            "\n",
            "What affected economic growth\n",
            "Cyclones and floods have killed thousands and impeded economic growth.\n",
            "\n",
            "Why the ground never freezes\n",
            "Due to its low-lying elevation, the ground in Bangladesh has never frozen.\n",
            "\n",
            "What is the coldest recorded temperature?\n",
            "The coldest temperature on record is a low of 4.5C in Jessore during the winter of 2011.\n",
            "\n",
            "When was the coldest temperature recorded?\n",
            "The coldest temperature on record is a low of 4.5C in Jessore during the winter of 2011.\n",
            "\n",
            "Where was the coldest temperature recorded\n",
            "The coldest temperature on record is a low of 4.5C in Jessore during the winter of 2011.\n",
            "\n",
            "How is the status of poverty in Bangladesh\n",
            "30% of the Bangladesh population live below the poverty line.\n",
            "\n",
            "Tell us about Tasmin Lucia Khan\n",
            "Renowned British journalist Tasmin Lucia Khan is of Bengali descent.\n",
            "\n",
            "How is the soil fertility in Bangladesh?\n",
            "The alluvial soils deposited by the rivers make Bangladesh's soils some of the most fertile delta soils in the world.\n",
            "\n",
            "What is the oldest city of Bangladesh\n",
            "Bangladeshs oldest known city site is Mahasthangarh.\n",
            "\n"
          ],
          "name": "stdout"
        }
      ]
    },
    {
      "cell_type": "code",
      "metadata": {
        "id": "tnc4ewER4YN_",
        "colab_type": "code",
        "colab": {
          "base_uri": "https://localhost:8080/",
          "height": 119
        },
        "outputId": "ab2d08a4-286b-4b47-cfb9-d774408c9274"
      },
      "source": [
        "answers = [str(a) for a in answers]\n",
        "calculate_accuracy_and_bleu(answers)"
      ],
      "execution_count": 127,
      "outputs": [
        {
          "output_type": "stream",
          "text": [
            "0.7166666666666667\n",
            "0.5889555100189485\n"
          ],
          "name": "stdout"
        },
        {
          "output_type": "stream",
          "text": [
            "/usr/local/lib/python3.6/dist-packages/nltk/translate/bleu_score.py:490: UserWarning: \n",
            "Corpus/Sentence contains 0 counts of 2-gram overlaps.\n",
            "BLEU scores might be undesirable; use SmoothingFunction().\n",
            "  warnings.warn(_msg)\n"
          ],
          "name": "stderr"
        }
      ]
    },
    {
      "cell_type": "code",
      "metadata": {
        "id": "lcu6VOR84b_5",
        "colab_type": "code",
        "colab": {}
      },
      "source": [
        ""
      ],
      "execution_count": 0,
      "outputs": []
    }
  ]
}