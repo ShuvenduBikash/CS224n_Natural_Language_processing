{
 "cells": [
  {
   "cell_type": "markdown",
   "metadata": {
    "colab_type": "text",
    "id": "4hln4mOU_Zt6"
   },
   "source": [
    "# Loading data"
   ]
  },
  {
   "cell_type": "code",
   "execution_count": 1,
   "metadata": {
    "colab": {
     "autoexec": {
      "startup": false,
      "wait_interval": 0
     },
     "base_uri": "https://localhost:8080/",
     "height": 34
    },
    "colab_type": "code",
    "executionInfo": {
     "elapsed": 8141,
     "status": "ok",
     "timestamp": 1526098812938,
     "user": {
      "displayName": "Shuvendu Bikash",
      "photoUrl": "//lh6.googleusercontent.com/-qmLdelcDhNY/AAAAAAAAAAI/AAAAAAAAOyw/0BejXT-_QPo/s50-c-k-no/photo.jpg",
      "userId": "106434026064423574094"
     },
     "user_tz": -360
    },
    "id": "SWGB-YXd5LMG",
    "outputId": "11abe5e4-04c5-47fd-ac94-2631b0ff1aa6"
   },
   "outputs": [
    {
     "name": "stderr",
     "output_type": "stream",
     "text": [
      "Using TensorFlow backend.\n"
     ]
    }
   ],
   "source": [
    "import keras"
   ]
  },
  {
   "cell_type": "code",
   "execution_count": null,
   "metadata": {
    "colab": {
     "autoexec": {
      "startup": false,
      "wait_interval": 0
     },
     "base_uri": "https://localhost:8080/",
     "height": 204
    },
    "colab_type": "code",
    "executionInfo": {
     "elapsed": 2879,
     "status": "ok",
     "timestamp": 1526098815870,
     "user": {
      "displayName": "Shuvendu Bikash",
      "photoUrl": "//lh6.googleusercontent.com/-qmLdelcDhNY/AAAAAAAAAAI/AAAAAAAAOyw/0BejXT-_QPo/s50-c-k-no/photo.jpg",
      "userId": "106434026064423574094"
     },
     "user_tz": -360
    },
    "id": "NLMKbl0g5a4q",
    "outputId": "c518ea2d-dfeb-448d-d2fe-e0764537e238"
   },
   "outputs": [],
   "source": [
    "!wget http://www.manythings.org/anki/fra-eng.zip"
   ]
  },
  {
   "cell_type": "code",
   "execution_count": 4,
   "metadata": {
    "colab": {
     "autoexec": {
      "startup": false,
      "wait_interval": 0
     },
     "base_uri": "https://localhost:8080/",
     "height": 68
    },
    "colab_type": "code",
    "executionInfo": {
     "elapsed": 1925,
     "status": "ok",
     "timestamp": 1526098817874,
     "user": {
      "displayName": "Shuvendu Bikash",
      "photoUrl": "//lh6.googleusercontent.com/-qmLdelcDhNY/AAAAAAAAAAI/AAAAAAAAOyw/0BejXT-_QPo/s50-c-k-no/photo.jpg",
      "userId": "106434026064423574094"
     },
     "user_tz": -360
    },
    "id": "jNRTeUFk5001",
    "outputId": "51b0c287-30b7-411f-b18a-7edf3a306d64"
   },
   "outputs": [
    {
     "name": "stdout",
     "output_type": "stream",
     "text": [
      "Archive:  fra-eng.zip\r\n",
      "  inflating: _about.txt              \n",
      "  inflating: fra.txt                 \n"
     ]
    }
   ],
   "source": [
    "!unzip fra-eng.zip"
   ]
  },
  {
   "cell_type": "markdown",
   "metadata": {
    "colab_type": "text",
    "id": "cLgKoVRz_up5"
   },
   "source": [
    "# Preprocessing data"
   ]
  },
  {
   "cell_type": "code",
   "execution_count": 17,
   "metadata": {
    "colab": {
     "autoexec": {
      "startup": false,
      "wait_interval": 0
     },
     "base_uri": "https://localhost:8080/",
     "height": 35
    },
    "colab_type": "code",
    "executionInfo": {
     "elapsed": 1402,
     "status": "ok",
     "timestamp": 1526098819621,
     "user": {
      "displayName": "Shuvendu Bikash",
      "photoUrl": "//lh6.googleusercontent.com/-qmLdelcDhNY/AAAAAAAAAAI/AAAAAAAAOyw/0BejXT-_QPo/s50-c-k-no/photo.jpg",
      "userId": "106434026064423574094"
     },
     "user_tz": -360
    },
    "id": "JvI6fvHj7Gz7",
    "outputId": "142a8c8d-7281-4e51-d9a5-4d115f1d5be6"
   },
   "outputs": [
    {
     "name": "stdout",
     "output_type": "stream",
     "text": [
      "Total number of translation pair :  4379\n"
     ]
    }
   ],
   "source": [
    "from keras.models import Model\n",
    "from keras.layers import Input, LSTM, Dense\n",
    "import numpy as np\n",
    "\n",
    "batch_size = 64  # Batch size for training.\n",
    "epochs = 100  # Number of epochs to train for.\n",
    "latent_dim = 256  # Latent dimensionality of the encoding space.\n",
    "num_samples = 10000  # Number of samples to train on.\n",
    "\n",
    "data_path = 'data\\\\ben.txt'\n",
    "\n",
    "input_texts = []\n",
    "target_texts = []\n",
    "input_characters = set()\n",
    "target_characters = set()\n",
    "with open(data_path, 'r', encoding='utf-8') as f:\n",
    "    lines = f.read().split('\\n')\n",
    "    \n",
    "print(\"Total number of translation pair : \", len(lines))"
   ]
  },
  {
   "cell_type": "code",
   "execution_count": 18,
   "metadata": {
    "colab": {
     "autoexec": {
      "startup": false,
      "wait_interval": 0
     }
    },
    "colab_type": "code",
    "id": "qsDGtd3uAlE6"
   },
   "outputs": [],
   "source": [
    "for line in lines[: min(num_samples, len(lines) - 1)]:\n",
    "    input_text, target_text = line.split('\\t')\n",
    "    # We use \"tab\" as the \"start sequence\" character\n",
    "    # for the targets, and \"\\n\" as \"end sequence\" character.\n",
    "    target_text = '\\t' + target_text + '\\n'\n",
    "    input_texts.append(input_text)\n",
    "    target_texts.append(target_text)\n",
    "    for char in input_text:\n",
    "        if char not in input_characters:\n",
    "            input_characters.add(char)\n",
    "    for char in target_text:\n",
    "        if char not in target_characters:\n",
    "            target_characters.add(char)"
   ]
  },
  {
   "cell_type": "code",
   "execution_count": 19,
   "metadata": {
    "colab": {
     "autoexec": {
      "startup": false,
      "wait_interval": 0
     },
     "base_uri": "https://localhost:8080/",
     "height": 241
    },
    "colab_type": "code",
    "executionInfo": {
     "elapsed": 1425,
     "status": "ok",
     "timestamp": 1526098823589,
     "user": {
      "displayName": "Shuvendu Bikash",
      "photoUrl": "//lh6.googleusercontent.com/-qmLdelcDhNY/AAAAAAAAAAI/AAAAAAAAOyw/0BejXT-_QPo/s50-c-k-no/photo.jpg",
      "userId": "106434026064423574094"
     },
     "user_tz": -360
    },
    "id": "Ib6EVJLT_-Ga",
    "outputId": "c47f2b76-3d63-4479-eb31-6665ff449308"
   },
   "outputs": [
    {
     "name": "stdout",
     "output_type": "stream",
     "text": [
      "input characters:  {'u', 'h', ' ', 't', '%', 'I', 'T', 'Y', '€', 'V', '$', \"'\", '7', 'i', '?', 'y', ':', '0', '2', '5', '\"', 'D', 'p', 'w', 'o', 's', 'H', 'O', 'g', ',', 'f', 'k', '1', 'n', 'v', 'd', '!', 'F', '6', '3', 'G', 'j', 'm', 'L', 'r', 'c', 'B', 'e', 'W', 'l', 'b', 'U', 'S', 'a', '8', 'P', '.', 'z', '9', 'N', 'A', 'M', 'q', 'x', 'R', '-', 'K', '4', 'C', 'J', 'E'}\n",
      "target characters:  {'খ', '।', 'প', 'ু', '৮', '?', 'ঢ', 'ভ', '\"', 'থ', ',', '৩', 'ধ', 'ৈ', '!', 'ো', 'শ', 'ঘ', 'ৌ', 'P', '.', 'উ', 'স', 'ত', 'ণ', '-', 'ঔ', 'চ', '১', 'ঃ', 'ৎ', 'ি', 'ঠ', 'ূ', 'ং', 'র', '৬', '০', 'া', '3', 'ন', 'অ', 'ট', '\\u200c', 'ক', 'A', 'M', 'ই', 'ও', 'ঐ', 'ঞ', 'ব', 'ী', 'য়', 'জ', 'ষ', '\\u200d', 'ঝ', '\\t', '1', 'য', 'ড়', '৭', 'ছ', 'ে', 'ঁ', 'ল', 'U', 'ৃ', ' ', '%', '\\n', '€', '$', \"'\", 'ম', ':', '৫', '৯', '়', 'হ', 'ঊ', 'গ', 'এ', 'ঈ', 'দ', 'ড', 'ফ', '্', 'ঙ', '২', '৪', 'আ'}\n",
      "Go.    --->    \tযাও।\n",
      "\n",
      "Go.    --->    \tযান।\n",
      "\n",
      "Go.    --->    \tযা।\n",
      "\n",
      "Run!    --->    \tপালাও!\n",
      "\n",
      "Run!    --->    \tপালান!\n",
      "\n"
     ]
    }
   ],
   "source": [
    "print(\"input characters: \", input_characters)\n",
    "print(\"target characters: \", target_characters)\n",
    "\n",
    "# sample translation\n",
    "for i in range(5):\n",
    "  print(input_texts[i]+ \"    --->    \"+target_texts[i])"
   ]
  },
  {
   "cell_type": "code",
   "execution_count": 20,
   "metadata": {
    "colab": {
     "autoexec": {
      "startup": false,
      "wait_interval": 0
     },
     "base_uri": "https://localhost:8080/",
     "height": 102
    },
    "colab_type": "code",
    "executionInfo": {
     "elapsed": 828,
     "status": "ok",
     "timestamp": 1526098824696,
     "user": {
      "displayName": "Shuvendu Bikash",
      "photoUrl": "//lh6.googleusercontent.com/-qmLdelcDhNY/AAAAAAAAAAI/AAAAAAAAOyw/0BejXT-_QPo/s50-c-k-no/photo.jpg",
      "userId": "106434026064423574094"
     },
     "user_tz": -360
    },
    "id": "NGsbskODAZPx",
    "outputId": "edc4e622-e939-4a07-c0d2-c6b1978210ba"
   },
   "outputs": [
    {
     "name": "stdout",
     "output_type": "stream",
     "text": [
      "Number of samples: 4378\n",
      "Number of unique input tokens: 71\n",
      "Number of unique output tokens: 93\n",
      "Max sequence length for inputs: 96\n",
      "Max sequence length for outputs: 95\n"
     ]
    }
   ],
   "source": [
    "input_characters = sorted(list(input_characters))\n",
    "target_characters = sorted(list(target_characters))\n",
    "num_encoder_tokens = len(input_characters)\n",
    "num_decoder_tokens = len(target_characters)\n",
    "max_encoder_seq_length = max([len(txt) for txt in input_texts])\n",
    "max_decoder_seq_length = max([len(txt) for txt in target_texts])\n",
    "\n",
    "\n",
    "print('Number of samples:', len(input_texts))\n",
    "print('Number of unique input tokens:', num_encoder_tokens)\n",
    "print('Number of unique output tokens:', num_decoder_tokens)\n",
    "print('Max sequence length for inputs:', max_encoder_seq_length)\n",
    "print('Max sequence length for outputs:', max_decoder_seq_length)"
   ]
  },
  {
   "cell_type": "markdown",
   "metadata": {
    "colab_type": "text",
    "id": "4SBLtAoJEAi0"
   },
   "source": [
    "### Assign token index"
   ]
  },
  {
   "cell_type": "code",
   "execution_count": 21,
   "metadata": {
    "colab": {
     "autoexec": {
      "startup": false,
      "wait_interval": 0
     }
    },
    "colab_type": "code",
    "id": "ogxB-m2KD-Jc"
   },
   "outputs": [],
   "source": [
    "input_token_index = dict(\n",
    "    [(char, i) for i, char in enumerate(input_characters)])\n",
    "\n",
    "target_token_index = dict(\n",
    "    [(char, i) for i, char in enumerate(target_characters)])"
   ]
  },
  {
   "cell_type": "markdown",
   "metadata": {
    "colab_type": "text",
    "id": "BAXcGE94FXyz"
   },
   "source": [
    "### Prepare one-hot encoder data representation : Shape (batch, sentence_len, encode_dim)"
   ]
  },
  {
   "cell_type": "code",
   "execution_count": 22,
   "metadata": {
    "colab": {
     "autoexec": {
      "startup": false,
      "wait_interval": 0
     },
     "base_uri": "https://localhost:8080/",
     "height": 68
    },
    "colab_type": "code",
    "executionInfo": {
     "elapsed": 1070,
     "status": "ok",
     "timestamp": 1526098827398,
     "user": {
      "displayName": "Shuvendu Bikash",
      "photoUrl": "//lh6.googleusercontent.com/-qmLdelcDhNY/AAAAAAAAAAI/AAAAAAAAOyw/0BejXT-_QPo/s50-c-k-no/photo.jpg",
      "userId": "106434026064423574094"
     },
     "user_tz": -360
    },
    "id": "Ox53nSv1B5rv",
    "outputId": "ccba3211-a76d-478e-fffd-20ea39654150"
   },
   "outputs": [
    {
     "name": "stdout",
     "output_type": "stream",
     "text": [
      "encoder input data shape:  (4378, 96, 71)\n",
      "decoder input data shape:  (4378, 95, 93)\n",
      "decoder target data shape:  (4378, 95, 93)\n"
     ]
    }
   ],
   "source": [
    "encoder_input_data = np.zeros(\n",
    "    (len(input_texts), max_encoder_seq_length, num_encoder_tokens),\n",
    "    dtype='float32')\n",
    "decoder_input_data = np.zeros(\n",
    "    (len(input_texts), max_decoder_seq_length, num_decoder_tokens),\n",
    "    dtype='float32')\n",
    "decoder_target_data = np.zeros(\n",
    "    (len(input_texts), max_decoder_seq_length, num_decoder_tokens),\n",
    "    dtype='float32')\n",
    "\n",
    "print(\"encoder input data shape: \", encoder_input_data.shape)\n",
    "print(\"decoder input data shape: \", decoder_input_data.shape)\n",
    "print(\"decoder target data shape: \", decoder_target_data.shape)"
   ]
  },
  {
   "cell_type": "markdown",
   "metadata": {
    "colab_type": "text",
    "id": "JZ7wn0N-Nu01"
   },
   "source": [
    "### decoder input :   HELLO    --->   decoder target:  ELLO"
   ]
  },
  {
   "cell_type": "code",
   "execution_count": 23,
   "metadata": {
    "colab": {
     "autoexec": {
      "startup": false,
      "wait_interval": 0
     }
    },
    "colab_type": "code",
    "id": "hILiqt3fF-Dc"
   },
   "outputs": [],
   "source": [
    "for i, (input_text, target_text) in enumerate(zip(input_texts, target_texts)):\n",
    "    for t, char in enumerate(input_text):\n",
    "        encoder_input_data[i, t, input_token_index[char]] = 1.\n",
    "    for t, char in enumerate(target_text):\n",
    "        # decoder_target_data is ahead of decoder_input_data by one timestep\n",
    "        decoder_input_data[i, t, target_token_index[char]] = 1.\n",
    "        if t > 0:\n",
    "            # decoder_target_data will be ahead by one timestep\n",
    "            # and will not include the start character.\n",
    "            decoder_target_data[i, t - 1, target_token_index[char]] = 1.\n"
   ]
  },
  {
   "cell_type": "markdown",
   "metadata": {
    "colab_type": "text",
    "id": "EnR2fRRDF0C8"
   },
   "source": [
    "# Build the Sequence to Sequence model"
   ]
  },
  {
   "cell_type": "code",
   "execution_count": 24,
   "metadata": {
    "colab": {
     "autoexec": {
      "startup": false,
      "wait_interval": 0
     }
    },
    "colab_type": "code",
    "id": "_KqiAdLvEsob"
   },
   "outputs": [],
   "source": [
    "# Define input sequence\n",
    "encoder_inputs = Input(shape=(None, num_encoder_tokens))\n",
    "# LSTM as encoder\n",
    "encoder = LSTM(latent_dim, return_state=True)\n",
    "encoder_outputs, state_h, state_c = encoder(encoder_inputs)\n",
    "# we only need 'encoder_outputs'\n",
    "encoder_states = [state_h, state_c]\n",
    "\n",
    "\n",
    "# set up the decoder, using `encoder_states` as initial state\n",
    "decoder_inputs = Input(shape=(None, num_decoder_tokens))\n",
    "# we set up decoder to return full output sequences, and to return internal\n",
    "# states as well. we don't use the return states in training model, but\n",
    "# we will use them in referance\n",
    "decoder_lstm = LSTM(latent_dim, return_sequences=True, return_state=True)\n",
    "decoder_outputs, _, _ = decoder_lstm(decoder_inputs, initial_state=encoder_states)\n",
    "\n",
    "decoder_dense = Dense(num_decoder_tokens, activation='softmax')\n",
    "decoder_outputs = decoder_dense(decoder_outputs)\n",
    "\n",
    "# define a model that will turn 'encoder_input_data' & 'decoder_input_data'\n",
    "# into 'decoder_target_data'\n",
    "model = Model([encoder_inputs, decoder_inputs], decoder_outputs)"
   ]
  },
  {
   "cell_type": "code",
   "execution_count": 25,
   "metadata": {
    "colab": {
     "autoexec": {
      "startup": false,
      "wait_interval": 0
     },
     "base_uri": "https://localhost:8080/",
     "height": 340
    },
    "colab_type": "code",
    "executionInfo": {
     "elapsed": 1083,
     "status": "ok",
     "timestamp": 1526098832317,
     "user": {
      "displayName": "Shuvendu Bikash",
      "photoUrl": "//lh6.googleusercontent.com/-qmLdelcDhNY/AAAAAAAAAAI/AAAAAAAAOyw/0BejXT-_QPo/s50-c-k-no/photo.jpg",
      "userId": "106434026064423574094"
     },
     "user_tz": -360
    },
    "id": "8qzfCtbyeLCE",
    "outputId": "16255dd8-e165-4ce7-f82a-a01a1eb9feee"
   },
   "outputs": [
    {
     "name": "stdout",
     "output_type": "stream",
     "text": [
      "__________________________________________________________________________________________________\n",
      "Layer (type)                    Output Shape         Param #     Connected to                     \n",
      "==================================================================================================\n",
      "input_5 (InputLayer)            (None, None, 71)     0                                            \n",
      "__________________________________________________________________________________________________\n",
      "input_6 (InputLayer)            (None, None, 93)     0                                            \n",
      "__________________________________________________________________________________________________\n",
      "lstm_3 (LSTM)                   [(None, 256), (None, 335872      input_5[0][0]                    \n",
      "__________________________________________________________________________________________________\n",
      "lstm_4 (LSTM)                   [(None, None, 256),  358400      input_6[0][0]                    \n",
      "                                                                 lstm_3[0][1]                     \n",
      "                                                                 lstm_3[0][2]                     \n",
      "__________________________________________________________________________________________________\n",
      "dense_2 (Dense)                 (None, None, 93)     23901       lstm_4[0][0]                     \n",
      "==================================================================================================\n",
      "Total params: 718,173\n",
      "Trainable params: 718,173\n",
      "Non-trainable params: 0\n",
      "__________________________________________________________________________________________________\n"
     ]
    }
   ],
   "source": [
    "model.summary()"
   ]
  },
  {
   "cell_type": "code",
   "execution_count": 26,
   "metadata": {
    "colab": {
     "autoexec": {
      "startup": false,
      "wait_interval": 0
     },
     "base_uri": "https://localhost:8080/",
     "height": 3728
    },
    "colab_type": "code",
    "executionInfo": {
     "elapsed": 2409642,
     "status": "ok",
     "timestamp": 1526101242210,
     "user": {
      "displayName": "Shuvendu Bikash",
      "photoUrl": "//lh6.googleusercontent.com/-qmLdelcDhNY/AAAAAAAAAAI/AAAAAAAAOyw/0BejXT-_QPo/s50-c-k-no/photo.jpg",
      "userId": "106434026064423574094"
     },
     "user_tz": -360
    },
    "id": "_BfyaMQ6eNZg",
    "outputId": "85a2ef74-c117-4ec2-87da-b13ada37c08c"
   },
   "outputs": [
    {
     "name": "stdout",
     "output_type": "stream",
     "text": [
      "Train on 3502 samples, validate on 876 samples\n",
      "Epoch 1/100\n",
      "3502/3502 [==============================] - 11s 3ms/step - loss: 0.7031 - val_loss: 1.2541\n",
      "Epoch 2/100\n",
      "3502/3502 [==============================] - 10s 3ms/step - loss: 0.6381 - val_loss: 1.1626\n",
      "Epoch 3/100\n",
      "3502/3502 [==============================] - 10s 3ms/step - loss: 0.5664 - val_loss: 1.0366\n",
      "Epoch 4/100\n",
      "3502/3502 [==============================] - 10s 3ms/step - loss: 0.5121 - val_loss: 0.9844\n",
      "Epoch 5/100\n",
      "3502/3502 [==============================] - 10s 3ms/step - loss: 0.4746 - val_loss: 0.9499\n",
      "Epoch 6/100\n",
      "3502/3502 [==============================] - 10s 3ms/step - loss: 0.4484 - val_loss: 0.9090\n",
      "Epoch 7/100\n",
      "3502/3502 [==============================] - 10s 3ms/step - loss: 0.4306 - val_loss: 0.9012\n",
      "Epoch 8/100\n",
      "3502/3502 [==============================] - 10s 3ms/step - loss: 0.4128 - val_loss: 0.9118\n",
      "Epoch 9/100\n",
      "3502/3502 [==============================] - 10s 3ms/step - loss: 0.3989 - val_loss: 0.8614\n",
      "Epoch 10/100\n",
      "3502/3502 [==============================] - 10s 3ms/step - loss: 0.3860 - val_loss: 0.8526\n",
      "Epoch 11/100\n",
      "3502/3502 [==============================] - 10s 3ms/step - loss: 0.3749 - val_loss: 0.8531\n",
      "Epoch 12/100\n",
      "3502/3502 [==============================] - 10s 3ms/step - loss: 0.3651 - val_loss: 0.8309\n",
      "Epoch 13/100\n",
      "3502/3502 [==============================] - 10s 3ms/step - loss: 0.3549 - val_loss: 0.8377\n",
      "Epoch 14/100\n",
      "3502/3502 [==============================] - 10s 3ms/step - loss: 0.3453 - val_loss: 0.8293\n",
      "Epoch 15/100\n",
      "3502/3502 [==============================] - 10s 3ms/step - loss: 0.3414 - val_loss: 0.8085\n",
      "Epoch 16/100\n",
      "3502/3502 [==============================] - 10s 3ms/step - loss: 0.3348 - val_loss: 0.8254\n",
      "Epoch 17/100\n",
      "3502/3502 [==============================] - 10s 3ms/step - loss: 0.3224 - val_loss: 0.8365\n",
      "Epoch 18/100\n",
      "3502/3502 [==============================] - 10s 3ms/step - loss: 0.3135 - val_loss: 0.8080\n",
      "Epoch 19/100\n",
      "3502/3502 [==============================] - 10s 3ms/step - loss: 0.3057 - val_loss: 0.8052\n",
      "Epoch 20/100\n",
      "3502/3502 [==============================] - 10s 3ms/step - loss: 0.2988 - val_loss: 0.8065\n",
      "Epoch 21/100\n",
      "3502/3502 [==============================] - 10s 3ms/step - loss: 0.2914 - val_loss: 0.8040\n",
      "Epoch 22/100\n",
      "3502/3502 [==============================] - 10s 3ms/step - loss: 0.2845 - val_loss: 0.8042\n",
      "Epoch 23/100\n",
      "3502/3502 [==============================] - 10s 3ms/step - loss: 0.2765 - val_loss: 0.8171\n",
      "Epoch 24/100\n",
      "3502/3502 [==============================] - 10s 3ms/step - loss: 0.2746 - val_loss: 0.8019\n",
      "Epoch 25/100\n",
      "3502/3502 [==============================] - 10s 3ms/step - loss: 0.2685 - val_loss: 0.8168\n",
      "Epoch 26/100\n",
      "3502/3502 [==============================] - 10s 3ms/step - loss: 0.2612 - val_loss: 0.8257\n",
      "Epoch 27/100\n",
      "3502/3502 [==============================] - 10s 3ms/step - loss: 0.2532 - val_loss: 0.8168\n",
      "Epoch 28/100\n",
      "3502/3502 [==============================] - 10s 3ms/step - loss: 0.2465 - val_loss: 0.8288\n",
      "Epoch 29/100\n",
      "3502/3502 [==============================] - 10s 3ms/step - loss: 0.2401 - val_loss: 0.8401\n",
      "Epoch 30/100\n",
      "3502/3502 [==============================] - 10s 3ms/step - loss: 0.2347 - val_loss: 0.8401\n",
      "Epoch 31/100\n",
      "3502/3502 [==============================] - 10s 3ms/step - loss: 0.2293 - val_loss: 0.8484\n",
      "Epoch 32/100\n",
      "3502/3502 [==============================] - 10s 3ms/step - loss: 0.2236 - val_loss: 0.8456\n",
      "Epoch 33/100\n",
      "3502/3502 [==============================] - 10s 3ms/step - loss: 0.2187 - val_loss: 0.8521\n",
      "Epoch 34/100\n",
      "3502/3502 [==============================] - 10s 3ms/step - loss: 0.2134 - val_loss: 0.8642\n",
      "Epoch 35/100\n",
      "3502/3502 [==============================] - 10s 3ms/step - loss: 0.2084 - val_loss: 0.8808\n",
      "Epoch 36/100\n",
      "3502/3502 [==============================] - 10s 3ms/step - loss: 0.2037 - val_loss: 0.8827\n",
      "Epoch 37/100\n",
      "3502/3502 [==============================] - 11s 3ms/step - loss: 0.1990 - val_loss: 0.8904\n",
      "Epoch 38/100\n",
      "3502/3502 [==============================] - 11s 3ms/step - loss: 0.1951 - val_loss: 0.8950\n",
      "Epoch 39/100\n",
      "3502/3502 [==============================] - 11s 3ms/step - loss: 0.1914 - val_loss: 0.8886\n",
      "Epoch 40/100\n",
      "3502/3502 [==============================] - 11s 3ms/step - loss: 0.1871 - val_loss: 0.9203\n",
      "Epoch 41/100\n",
      "3502/3502 [==============================] - 10s 3ms/step - loss: 0.1830 - val_loss: 0.9299\n",
      "Epoch 42/100\n",
      "3502/3502 [==============================] - 11s 3ms/step - loss: 0.1787 - val_loss: 0.9272\n",
      "Epoch 43/100\n",
      "3502/3502 [==============================] - 11s 3ms/step - loss: 0.1749 - val_loss: 0.9393\n",
      "Epoch 44/100\n",
      "3502/3502 [==============================] - 11s 3ms/step - loss: 0.1717 - val_loss: 0.9648\n",
      "Epoch 45/100\n",
      "3502/3502 [==============================] - 10s 3ms/step - loss: 0.1684 - val_loss: 0.9611\n",
      "Epoch 46/100\n",
      "3502/3502 [==============================] - 10s 3ms/step - loss: 0.1652 - val_loss: 0.9728\n",
      "Epoch 47/100\n",
      "3502/3502 [==============================] - 10s 3ms/step - loss: 0.1620 - val_loss: 0.9821\n",
      "Epoch 48/100\n",
      "3502/3502 [==============================] - 10s 3ms/step - loss: 0.1591 - val_loss: 0.9877\n",
      "Epoch 49/100\n",
      "3502/3502 [==============================] - 10s 3ms/step - loss: 0.1556 - val_loss: 1.0158\n",
      "Epoch 50/100\n",
      "3502/3502 [==============================] - 11s 3ms/step - loss: 0.1533 - val_loss: 1.0086\n",
      "Epoch 51/100\n",
      "3502/3502 [==============================] - 11s 3ms/step - loss: 0.1506 - val_loss: 1.0216\n",
      "Epoch 52/100\n",
      "3502/3502 [==============================] - 11s 3ms/step - loss: 0.1479 - val_loss: 1.0279\n",
      "Epoch 53/100\n",
      "3502/3502 [==============================] - 11s 3ms/step - loss: 0.1447 - val_loss: 1.0134\n",
      "Epoch 54/100\n",
      "3502/3502 [==============================] - 11s 3ms/step - loss: 0.1425 - val_loss: 1.0458\n",
      "Epoch 55/100\n",
      "3502/3502 [==============================] - 11s 3ms/step - loss: 0.1395 - val_loss: 1.0479\n",
      "Epoch 56/100\n",
      "3502/3502 [==============================] - 11s 3ms/step - loss: 0.1371 - val_loss: 1.0578\n",
      "Epoch 57/100\n",
      "3502/3502 [==============================] - 11s 3ms/step - loss: 0.1350 - val_loss: 1.0660\n",
      "Epoch 58/100\n",
      "3502/3502 [==============================] - 10s 3ms/step - loss: 0.1331 - val_loss: 1.0767\n",
      "Epoch 59/100\n",
      "3502/3502 [==============================] - 12s 3ms/step - loss: 0.1313 - val_loss: 1.0754\n",
      "Epoch 60/100\n",
      "3502/3502 [==============================] - 12s 3ms/step - loss: 0.1286 - val_loss: 1.0684\n",
      "Epoch 61/100\n",
      "3502/3502 [==============================] - 12s 3ms/step - loss: 0.1289 - val_loss: 1.0993\n",
      "Epoch 62/100\n",
      "3502/3502 [==============================] - 11s 3ms/step - loss: 0.1345 - val_loss: 1.0900\n",
      "Epoch 63/100\n",
      "3502/3502 [==============================] - 10s 3ms/step - loss: 0.1291 - val_loss: 1.0932\n",
      "Epoch 64/100\n",
      "3502/3502 [==============================] - 10s 3ms/step - loss: 0.1247 - val_loss: 1.0975\n",
      "Epoch 65/100\n",
      "3502/3502 [==============================] - 11s 3ms/step - loss: 0.1219 - val_loss: 1.1150\n",
      "Epoch 66/100\n",
      "3502/3502 [==============================] - 11s 3ms/step - loss: 0.1197 - val_loss: 1.1279\n",
      "Epoch 67/100\n",
      "3502/3502 [==============================] - 10s 3ms/step - loss: 0.1177 - val_loss: 1.1351\n",
      "Epoch 68/100\n",
      "3502/3502 [==============================] - 11s 3ms/step - loss: 0.1158 - val_loss: 1.1323\n",
      "Epoch 69/100\n",
      "3502/3502 [==============================] - 10s 3ms/step - loss: 0.1156 - val_loss: 1.1427\n",
      "Epoch 70/100\n",
      "3502/3502 [==============================] - 11s 3ms/step - loss: 0.1134 - val_loss: 1.1560\n",
      "Epoch 71/100\n",
      "3502/3502 [==============================] - 11s 3ms/step - loss: 0.1113 - val_loss: 1.1751\n",
      "Epoch 72/100\n",
      "3502/3502 [==============================] - 10s 3ms/step - loss: 0.1102 - val_loss: 1.1730\n",
      "Epoch 73/100\n",
      "3502/3502 [==============================] - 11s 3ms/step - loss: 0.1092 - val_loss: 1.1765\n",
      "Epoch 74/100\n",
      "3502/3502 [==============================] - 11s 3ms/step - loss: 0.1079 - val_loss: 1.1987\n",
      "Epoch 75/100\n",
      "3502/3502 [==============================] - 11s 3ms/step - loss: 0.1066 - val_loss: 1.1785\n",
      "Epoch 76/100\n",
      "3502/3502 [==============================] - 10s 3ms/step - loss: 0.1056 - val_loss: 1.1903\n",
      "Epoch 77/100\n",
      "3502/3502 [==============================] - 11s 3ms/step - loss: 0.1041 - val_loss: 1.1971\n",
      "Epoch 78/100\n"
     ]
    },
    {
     "name": "stdout",
     "output_type": "stream",
     "text": [
      "3502/3502 [==============================] - 10s 3ms/step - loss: 0.1032 - val_loss: 1.1931\n",
      "Epoch 79/100\n",
      "3502/3502 [==============================] - 11s 3ms/step - loss: 0.1020 - val_loss: 1.2132\n",
      "Epoch 80/100\n",
      "3502/3502 [==============================] - 11s 3ms/step - loss: 0.1013 - val_loss: 1.2062\n",
      "Epoch 81/100\n",
      "3502/3502 [==============================] - 11s 3ms/step - loss: 0.1002 - val_loss: 1.2194\n",
      "Epoch 82/100\n",
      "3502/3502 [==============================] - 10s 3ms/step - loss: 0.0984 - val_loss: 1.2108\n",
      "Epoch 83/100\n",
      "3502/3502 [==============================] - 11s 3ms/step - loss: 0.0981 - val_loss: 1.2260\n",
      "Epoch 84/100\n",
      "3502/3502 [==============================] - 10s 3ms/step - loss: 0.0980 - val_loss: 1.2621\n",
      "Epoch 85/100\n",
      "3502/3502 [==============================] - 11s 3ms/step - loss: 0.0968 - val_loss: 1.2599\n",
      "Epoch 86/100\n",
      "3502/3502 [==============================] - 11s 3ms/step - loss: 0.0963 - val_loss: 1.2546\n",
      "Epoch 87/100\n",
      "3502/3502 [==============================] - 11s 3ms/step - loss: 0.0954 - val_loss: 1.2584\n",
      "Epoch 88/100\n",
      "3502/3502 [==============================] - 10s 3ms/step - loss: 0.0945 - val_loss: 1.2693\n",
      "Epoch 89/100\n",
      "3502/3502 [==============================] - 11s 3ms/step - loss: 0.0936 - val_loss: 1.2594\n",
      "Epoch 90/100\n",
      "3502/3502 [==============================] - 11s 3ms/step - loss: 0.0929 - val_loss: 1.2614\n",
      "Epoch 91/100\n",
      "3502/3502 [==============================] - 11s 3ms/step - loss: 0.0927 - val_loss: 1.2857\n",
      "Epoch 92/100\n",
      "3502/3502 [==============================] - 10s 3ms/step - loss: 0.0917 - val_loss: 1.2742\n",
      "Epoch 93/100\n",
      "3502/3502 [==============================] - 10s 3ms/step - loss: 0.0915 - val_loss: 1.2850\n",
      "Epoch 94/100\n",
      "3502/3502 [==============================] - 10s 3ms/step - loss: 0.0905 - val_loss: 1.2811\n",
      "Epoch 95/100\n",
      "3502/3502 [==============================] - 10s 3ms/step - loss: 0.0900 - val_loss: 1.2954\n",
      "Epoch 96/100\n",
      "3502/3502 [==============================] - 10s 3ms/step - loss: 0.0892 - val_loss: 1.3088\n",
      "Epoch 97/100\n",
      "3502/3502 [==============================] - 10s 3ms/step - loss: 0.0885 - val_loss: 1.2948\n",
      "Epoch 98/100\n",
      "3502/3502 [==============================] - 10s 3ms/step - loss: 0.0881 - val_loss: 1.3043\n",
      "Epoch 99/100\n",
      "3502/3502 [==============================] - 10s 3ms/step - loss: 0.0881 - val_loss: 1.2996\n",
      "Epoch 100/100\n",
      "3502/3502 [==============================] - 10s 3ms/step - loss: 0.0874 - val_loss: 1.3083\n"
     ]
    },
    {
     "ename": "OSError",
     "evalue": "Unable to create file (unable to open file: name = 'saved_model\\s2s.h5', errno = 2, error message = 'No such file or directory', flags = 13, o_flags = 302)",
     "output_type": "error",
     "traceback": [
      "\u001b[1;31m---------------------------------------------------------------------------\u001b[0m",
      "\u001b[1;31mOSError\u001b[0m                                   Traceback (most recent call last)",
      "\u001b[1;32m<ipython-input-26-0d899d61aa5b>\u001b[0m in \u001b[0;36m<module>\u001b[1;34m()\u001b[0m\n\u001b[0;32m      6\u001b[0m          )\n\u001b[0;32m      7\u001b[0m \u001b[1;33m\u001b[0m\u001b[0m\n\u001b[1;32m----> 8\u001b[1;33m \u001b[0mmodel\u001b[0m\u001b[1;33m.\u001b[0m\u001b[0msave\u001b[0m\u001b[1;33m(\u001b[0m\u001b[1;34m'saved_model\\\\s2s.h5'\u001b[0m\u001b[1;33m)\u001b[0m\u001b[1;33m\u001b[0m\u001b[0m\n\u001b[0m",
      "\u001b[1;32mc:\\users\\bikas\\anaconda3\\lib\\site-packages\\keras\\engine\\topology.py\u001b[0m in \u001b[0;36msave\u001b[1;34m(self, filepath, overwrite, include_optimizer)\u001b[0m\n\u001b[0;32m   2578\u001b[0m         \"\"\"\n\u001b[0;32m   2579\u001b[0m         \u001b[1;32mfrom\u001b[0m \u001b[1;33m.\u001b[0m\u001b[1;33m.\u001b[0m\u001b[0mmodels\u001b[0m \u001b[1;32mimport\u001b[0m \u001b[0msave_model\u001b[0m\u001b[1;33m\u001b[0m\u001b[0m\n\u001b[1;32m-> 2580\u001b[1;33m         \u001b[0msave_model\u001b[0m\u001b[1;33m(\u001b[0m\u001b[0mself\u001b[0m\u001b[1;33m,\u001b[0m \u001b[0mfilepath\u001b[0m\u001b[1;33m,\u001b[0m \u001b[0moverwrite\u001b[0m\u001b[1;33m,\u001b[0m \u001b[0minclude_optimizer\u001b[0m\u001b[1;33m)\u001b[0m\u001b[1;33m\u001b[0m\u001b[0m\n\u001b[0m\u001b[0;32m   2581\u001b[0m \u001b[1;33m\u001b[0m\u001b[0m\n\u001b[0;32m   2582\u001b[0m     \u001b[1;32mdef\u001b[0m \u001b[0msave_weights\u001b[0m\u001b[1;33m(\u001b[0m\u001b[0mself\u001b[0m\u001b[1;33m,\u001b[0m \u001b[0mfilepath\u001b[0m\u001b[1;33m,\u001b[0m \u001b[0moverwrite\u001b[0m\u001b[1;33m=\u001b[0m\u001b[1;32mTrue\u001b[0m\u001b[1;33m)\u001b[0m\u001b[1;33m:\u001b[0m\u001b[1;33m\u001b[0m\u001b[0m\n",
      "\u001b[1;32mc:\\users\\bikas\\anaconda3\\lib\\site-packages\\keras\\models.py\u001b[0m in \u001b[0;36msave_model\u001b[1;34m(model, filepath, overwrite, include_optimizer)\u001b[0m\n\u001b[0;32m    104\u001b[0m             \u001b[1;32mreturn\u001b[0m\u001b[1;33m\u001b[0m\u001b[0m\n\u001b[0;32m    105\u001b[0m \u001b[1;33m\u001b[0m\u001b[0m\n\u001b[1;32m--> 106\u001b[1;33m     \u001b[1;32mwith\u001b[0m \u001b[0mh5py\u001b[0m\u001b[1;33m.\u001b[0m\u001b[0mFile\u001b[0m\u001b[1;33m(\u001b[0m\u001b[0mfilepath\u001b[0m\u001b[1;33m,\u001b[0m \u001b[0mmode\u001b[0m\u001b[1;33m=\u001b[0m\u001b[1;34m'w'\u001b[0m\u001b[1;33m)\u001b[0m \u001b[1;32mas\u001b[0m \u001b[0mf\u001b[0m\u001b[1;33m:\u001b[0m\u001b[1;33m\u001b[0m\u001b[0m\n\u001b[0m\u001b[0;32m    107\u001b[0m         \u001b[0mf\u001b[0m\u001b[1;33m.\u001b[0m\u001b[0mattrs\u001b[0m\u001b[1;33m[\u001b[0m\u001b[1;34m'keras_version'\u001b[0m\u001b[1;33m]\u001b[0m \u001b[1;33m=\u001b[0m \u001b[0mstr\u001b[0m\u001b[1;33m(\u001b[0m\u001b[0mkeras_version\u001b[0m\u001b[1;33m)\u001b[0m\u001b[1;33m.\u001b[0m\u001b[0mencode\u001b[0m\u001b[1;33m(\u001b[0m\u001b[1;34m'utf8'\u001b[0m\u001b[1;33m)\u001b[0m\u001b[1;33m\u001b[0m\u001b[0m\n\u001b[0;32m    108\u001b[0m         \u001b[0mf\u001b[0m\u001b[1;33m.\u001b[0m\u001b[0mattrs\u001b[0m\u001b[1;33m[\u001b[0m\u001b[1;34m'backend'\u001b[0m\u001b[1;33m]\u001b[0m \u001b[1;33m=\u001b[0m \u001b[0mK\u001b[0m\u001b[1;33m.\u001b[0m\u001b[0mbackend\u001b[0m\u001b[1;33m(\u001b[0m\u001b[1;33m)\u001b[0m\u001b[1;33m.\u001b[0m\u001b[0mencode\u001b[0m\u001b[1;33m(\u001b[0m\u001b[1;34m'utf8'\u001b[0m\u001b[1;33m)\u001b[0m\u001b[1;33m\u001b[0m\u001b[0m\n",
      "\u001b[1;32mc:\\users\\bikas\\anaconda3\\lib\\site-packages\\h5py\\_hl\\files.py\u001b[0m in \u001b[0;36m__init__\u001b[1;34m(self, name, mode, driver, libver, userblock_size, swmr, **kwds)\u001b[0m\n\u001b[0;32m    267\u001b[0m             \u001b[1;32mwith\u001b[0m \u001b[0mphil\u001b[0m\u001b[1;33m:\u001b[0m\u001b[1;33m\u001b[0m\u001b[0m\n\u001b[0;32m    268\u001b[0m                 \u001b[0mfapl\u001b[0m \u001b[1;33m=\u001b[0m \u001b[0mmake_fapl\u001b[0m\u001b[1;33m(\u001b[0m\u001b[0mdriver\u001b[0m\u001b[1;33m,\u001b[0m \u001b[0mlibver\u001b[0m\u001b[1;33m,\u001b[0m \u001b[1;33m**\u001b[0m\u001b[0mkwds\u001b[0m\u001b[1;33m)\u001b[0m\u001b[1;33m\u001b[0m\u001b[0m\n\u001b[1;32m--> 269\u001b[1;33m                 \u001b[0mfid\u001b[0m \u001b[1;33m=\u001b[0m \u001b[0mmake_fid\u001b[0m\u001b[1;33m(\u001b[0m\u001b[0mname\u001b[0m\u001b[1;33m,\u001b[0m \u001b[0mmode\u001b[0m\u001b[1;33m,\u001b[0m \u001b[0muserblock_size\u001b[0m\u001b[1;33m,\u001b[0m \u001b[0mfapl\u001b[0m\u001b[1;33m,\u001b[0m \u001b[0mswmr\u001b[0m\u001b[1;33m=\u001b[0m\u001b[0mswmr\u001b[0m\u001b[1;33m)\u001b[0m\u001b[1;33m\u001b[0m\u001b[0m\n\u001b[0m\u001b[0;32m    270\u001b[0m \u001b[1;33m\u001b[0m\u001b[0m\n\u001b[0;32m    271\u001b[0m                 \u001b[1;32mif\u001b[0m \u001b[0mswmr_support\u001b[0m\u001b[1;33m:\u001b[0m\u001b[1;33m\u001b[0m\u001b[0m\n",
      "\u001b[1;32mc:\\users\\bikas\\anaconda3\\lib\\site-packages\\h5py\\_hl\\files.py\u001b[0m in \u001b[0;36mmake_fid\u001b[1;34m(name, mode, userblock_size, fapl, fcpl, swmr)\u001b[0m\n\u001b[0;32m    103\u001b[0m         \u001b[0mfid\u001b[0m \u001b[1;33m=\u001b[0m \u001b[0mh5f\u001b[0m\u001b[1;33m.\u001b[0m\u001b[0mcreate\u001b[0m\u001b[1;33m(\u001b[0m\u001b[0mname\u001b[0m\u001b[1;33m,\u001b[0m \u001b[0mh5f\u001b[0m\u001b[1;33m.\u001b[0m\u001b[0mACC_EXCL\u001b[0m\u001b[1;33m,\u001b[0m \u001b[0mfapl\u001b[0m\u001b[1;33m=\u001b[0m\u001b[0mfapl\u001b[0m\u001b[1;33m,\u001b[0m \u001b[0mfcpl\u001b[0m\u001b[1;33m=\u001b[0m\u001b[0mfcpl\u001b[0m\u001b[1;33m)\u001b[0m\u001b[1;33m\u001b[0m\u001b[0m\n\u001b[0;32m    104\u001b[0m     \u001b[1;32melif\u001b[0m \u001b[0mmode\u001b[0m \u001b[1;33m==\u001b[0m \u001b[1;34m'w'\u001b[0m\u001b[1;33m:\u001b[0m\u001b[1;33m\u001b[0m\u001b[0m\n\u001b[1;32m--> 105\u001b[1;33m         \u001b[0mfid\u001b[0m \u001b[1;33m=\u001b[0m \u001b[0mh5f\u001b[0m\u001b[1;33m.\u001b[0m\u001b[0mcreate\u001b[0m\u001b[1;33m(\u001b[0m\u001b[0mname\u001b[0m\u001b[1;33m,\u001b[0m \u001b[0mh5f\u001b[0m\u001b[1;33m.\u001b[0m\u001b[0mACC_TRUNC\u001b[0m\u001b[1;33m,\u001b[0m \u001b[0mfapl\u001b[0m\u001b[1;33m=\u001b[0m\u001b[0mfapl\u001b[0m\u001b[1;33m,\u001b[0m \u001b[0mfcpl\u001b[0m\u001b[1;33m=\u001b[0m\u001b[0mfcpl\u001b[0m\u001b[1;33m)\u001b[0m\u001b[1;33m\u001b[0m\u001b[0m\n\u001b[0m\u001b[0;32m    106\u001b[0m     \u001b[1;32melif\u001b[0m \u001b[0mmode\u001b[0m \u001b[1;33m==\u001b[0m \u001b[1;34m'a'\u001b[0m\u001b[1;33m:\u001b[0m\u001b[1;33m\u001b[0m\u001b[0m\n\u001b[0;32m    107\u001b[0m         \u001b[1;31m# Open in append mode (read/write).\u001b[0m\u001b[1;33m\u001b[0m\u001b[1;33m\u001b[0m\u001b[0m\n",
      "\u001b[1;32mh5py\\_objects.pyx\u001b[0m in \u001b[0;36mh5py._objects.with_phil.wrapper\u001b[1;34m()\u001b[0m\n",
      "\u001b[1;32mh5py\\_objects.pyx\u001b[0m in \u001b[0;36mh5py._objects.with_phil.wrapper\u001b[1;34m()\u001b[0m\n",
      "\u001b[1;32mh5py\\h5f.pyx\u001b[0m in \u001b[0;36mh5py.h5f.create\u001b[1;34m()\u001b[0m\n",
      "\u001b[1;31mOSError\u001b[0m: Unable to create file (unable to open file: name = 'saved_model\\s2s.h5', errno = 2, error message = 'No such file or directory', flags = 13, o_flags = 302)"
     ]
    }
   ],
   "source": [
    "model.compile(optimizer='rmsprop', loss='categorical_crossentropy')\n",
    "model.fit([encoder_input_data, decoder_input_data], decoder_target_data,\n",
    "          batch_size=batch_size,\n",
    "          epochs=epochs,\n",
    "          validation_split=0.2\n",
    "         )\n"
   ]
  },
  {
   "cell_type": "code",
   "execution_count": 27,
   "metadata": {},
   "outputs": [
    {
     "name": "stderr",
     "output_type": "stream",
     "text": [
      "c:\\users\\bikas\\anaconda3\\lib\\site-packages\\keras\\engine\\topology.py:2368: UserWarning: Layer lstm_4 was passed non-serializable keyword arguments: {'initial_state': [<tf.Tensor 'lstm_3/while/Exit_2:0' shape=(?, 256) dtype=float32>, <tf.Tensor 'lstm_3/while/Exit_3:0' shape=(?, 256) dtype=float32>]}. They will not be included in the serialized model (and thus will be missing at deserialization time).\n",
      "  str(node.arguments) + '. They will not be included '\n"
     ]
    }
   ],
   "source": [
    "model.save('saved_models\\\\s2s.h5')"
   ]
  },
  {
   "cell_type": "markdown",
   "metadata": {
    "colab_type": "text",
    "id": "PaTlkWHDpCQn"
   },
   "source": [
    "# Inferance with this model"
   ]
  },
  {
   "cell_type": "code",
   "execution_count": 33,
   "metadata": {
    "colab": {
     "autoexec": {
      "startup": false,
      "wait_interval": 0
     }
    },
    "colab_type": "code",
    "id": "QAEozxWNpAmr"
   },
   "outputs": [],
   "source": [
    "encoder_model = Model(encoder_inputs, encoder_states)\n",
    "\n",
    "decoder_state_input_h = Input(shape=(latent_dim,))\n",
    "decoder_state_input_c = Input(shape=(latent_dim,))\n",
    "decoder_state_inputs = [decoder_state_input_h, decoder_state_input_c]\n",
    "decoder_outputs, state_h, state_c = decoder_lstm(decoder_inputs, initial_state=decoder_state_inputs)\n",
    "\n",
    "decoder_states = [state_h, state_c]\n",
    "decoder_outputs = decoder_dense(decoder_outputs)\n",
    "\n",
    "decoder_model = Model(\n",
    "    [decoder_inputs]+decoder_state_inputs,\n",
    "    [decoder_outputs]+decoder_states\n",
    ")"
   ]
  },
  {
   "cell_type": "markdown",
   "metadata": {},
   "source": [
    "### One-hot output to char"
   ]
  },
  {
   "cell_type": "code",
   "execution_count": 34,
   "metadata": {},
   "outputs": [],
   "source": [
    "# Reverse-lookup token index to decode sequences back to something readable.\n",
    "reverse_input_char_index = dict(\n",
    "    (i, char) for char, i in input_token_index.items())\n",
    "reverse_target_char_index = dict(\n",
    "    (i, char) for char, i in target_token_index.items())"
   ]
  },
  {
   "cell_type": "markdown",
   "metadata": {},
   "source": [
    "### Decode sequence"
   ]
  },
  {
   "cell_type": "code",
   "execution_count": 35,
   "metadata": {},
   "outputs": [],
   "source": [
    "def decode_sequence(input_seq):\n",
    "    # Encode the input as state vectors.\n",
    "    states_value = encoder_model.predict(input_seq)\n",
    "\n",
    "    # Generate empty target sequence of length 1.\n",
    "    target_seq = np.zeros((1, 1, num_decoder_tokens))\n",
    "    # Populate the first character of target sequence with the start character.\n",
    "    target_seq[0, 0, target_token_index['\\t']] = 1.\n",
    "\n",
    "    # Sampling loop for a batch of sequences\n",
    "    # (to simplify, here we assume a batch of size 1).\n",
    "    stop_condition = False\n",
    "    decoded_sentence = ''\n",
    "    while not stop_condition:\n",
    "        output_tokens, h, c = decoder_model.predict(\n",
    "            [target_seq] + states_value)\n",
    "\n",
    "        # Sample a token\n",
    "        sampled_token_index = np.argmax(output_tokens[0, -1, :])\n",
    "        sampled_char = reverse_target_char_index[sampled_token_index]\n",
    "        decoded_sentence += sampled_char\n",
    "\n",
    "        # Exit condition: either hit max length\n",
    "        # or find stop character.\n",
    "        if (sampled_char == '\\n' or\n",
    "           len(decoded_sentence) > max_decoder_seq_length):\n",
    "            stop_condition = True\n",
    "\n",
    "        # Update the target sequence (of length 1).\n",
    "        target_seq = np.zeros((1, 1, num_decoder_tokens))\n",
    "        target_seq[0, 0, sampled_token_index] = 1.\n",
    "\n",
    "        # Update states\n",
    "        states_value = [h, c]\n",
    "\n",
    "    return decoded_sentence"
   ]
  },
  {
   "cell_type": "code",
   "execution_count": 36,
   "metadata": {},
   "outputs": [
    {
     "name": "stdout",
     "output_type": "stream",
     "text": [
      "-\n",
      "Input sentence: Go.\n",
      "Decoded sentence: টম চিৎকার করছে।\n",
      "\n",
      "-\n",
      "Input sentence: Go.\n",
      "Decoded sentence: টম চিৎকার করছে।\n",
      "\n",
      "-\n",
      "Input sentence: Go.\n",
      "Decoded sentence: টম চিৎকার করছে।\n",
      "\n",
      "-\n",
      "Input sentence: Run!\n",
      "Decoded sentence: আমাকে একটা দেখান।\n",
      "\n",
      "-\n",
      "Input sentence: Run!\n",
      "Decoded sentence: আমাকে একটা দেখান।\n",
      "\n",
      "-\n",
      "Input sentence: Who?\n",
      "Decoded sentence: টম চিৎকার করছে।\n",
      "\n",
      "-\n",
      "Input sentence: Fire!\n",
      "Decoded sentence: টম চিৎকার করছে।\n",
      "\n",
      "-\n",
      "Input sentence: Help!\n",
      "Decoded sentence: টম চিৎকার করছে।\n",
      "\n",
      "-\n",
      "Input sentence: Help!\n",
      "Decoded sentence: টম চিৎকার করছে।\n",
      "\n",
      "-\n",
      "Input sentence: Stop!\n",
      "Decoded sentence: টম চিৎকার করছে।\n",
      "\n",
      "-\n",
      "Input sentence: Stop!\n",
      "Decoded sentence: টম চিৎকার করছে।\n",
      "\n",
      "-\n",
      "Input sentence: Stop!\n",
      "Decoded sentence: টম চিৎকার করছে।\n",
      "\n",
      "-\n",
      "Input sentence: Hello!\n",
      "Decoded sentence: টম চিৎকার করছে।\n",
      "\n",
      "-\n",
      "Input sentence: I see.\n",
      "Decoded sentence: আমি একটা চিন্তি পর্বাস নি।\n",
      "\n",
      "-\n",
      "Input sentence: I try.\n",
      "Decoded sentence: আমি একটা চিন্তি নি।\n",
      "\n",
      "-\n",
      "Input sentence: Smile.\n",
      "Decoded sentence: টম চিৎকার করছে।\n",
      "\n",
      "-\n",
      "Input sentence: Smile.\n",
      "Decoded sentence: টম চিৎকার করছে।\n",
      "\n",
      "-\n",
      "Input sentence: Attack!\n",
      "Decoded sentence: টম চিৎকার করছে।\n",
      "\n",
      "-\n",
      "Input sentence: Get up.\n",
      "Decoded sentence: টম চিৎকার করছে।\n",
      "\n",
      "-\n",
      "Input sentence: Get up.\n",
      "Decoded sentence: টম চিৎকার করছে।\n",
      "\n",
      "-\n",
      "Input sentence: Got it!\n",
      "Decoded sentence: টম চিৎকার করছে।\n",
      "\n",
      "-\n",
      "Input sentence: Got it!\n",
      "Decoded sentence: টম চিৎকার করছে।\n",
      "\n",
      "-\n",
      "Input sentence: Got it?\n",
      "Decoded sentence: টম চিৎকার করছে।\n",
      "\n",
      "-\n",
      "Input sentence: Got it?\n",
      "Decoded sentence: টম চিৎকার করছে।\n",
      "\n",
      "-\n",
      "Input sentence: Got it?\n",
      "Decoded sentence: টম চিৎকার করছে।\n",
      "\n",
      "-\n",
      "Input sentence: I know.\n",
      "Decoded sentence: আমি একটা চিন্তি নি।\n",
      "\n",
      "-\n",
      "Input sentence: I know.\n",
      "Decoded sentence: আমি একটা চিন্তি নি।\n",
      "\n",
      "-\n",
      "Input sentence: I lost.\n",
      "Decoded sentence: আমি একটা চিন্তি নি।\n",
      "\n",
      "-\n",
      "Input sentence: I'm 19.\n",
      "Decoded sentence: আমি একটা চিন্তি নি।\n",
      "\n",
      "-\n",
      "Input sentence: I'm OK.\n",
      "Decoded sentence: আমি একটা চিন্তি নি।\n",
      "\n",
      "-\n",
      "Input sentence: Listen.\n",
      "Decoded sentence: টম চিৎকার করছে।\n",
      "\n",
      "-\n",
      "Input sentence: Listen.\n",
      "Decoded sentence: টম চিৎকার করছে।\n",
      "\n",
      "-\n",
      "Input sentence: No way!\n",
      "Decoded sentence: আমাকে একটা দেখান।\n",
      "\n",
      "-\n",
      "Input sentence: Really?\n",
      "Decoded sentence: আমাকে একটা দেখান।\n",
      "\n",
      "-\n",
      "Input sentence: Really?\n",
      "Decoded sentence: আমাকে একটা দেখান।\n",
      "\n",
      "-\n",
      "Input sentence: Thanks.\n",
      "Decoded sentence: টম চিৎকার করছে।\n",
      "\n",
      "-\n",
      "Input sentence: Try it.\n",
      "Decoded sentence: টম চিৎকার করছে।\n",
      "\n",
      "-\n",
      "Input sentence: Try it.\n",
      "Decoded sentence: টম চিৎকার করছে।\n",
      "\n",
      "-\n",
      "Input sentence: We won.\n",
      "Decoded sentence: টম চিৎকার করছে।\n",
      "\n",
      "-\n",
      "Input sentence: Why me?\n",
      "Decoded sentence: আমাকে একটা দেখান।\n",
      "\n",
      "-\n",
      "Input sentence: Ask Tom.\n",
      "Decoded sentence: টম চিৎকার করছে।\n",
      "\n",
      "-\n",
      "Input sentence: Ask Tom.\n",
      "Decoded sentence: টম চিৎকার করছে।\n",
      "\n",
      "-\n",
      "Input sentence: Ask Tom.\n",
      "Decoded sentence: টম চিৎকার করছে।\n",
      "\n",
      "-\n",
      "Input sentence: Call me.\n",
      "Decoded sentence: আমাকে একটা দেখান।\n",
      "\n",
      "-\n",
      "Input sentence: Call me.\n",
      "Decoded sentence: আমাকে একটা দেখান।\n",
      "\n",
      "-\n",
      "Input sentence: Call me.\n",
      "Decoded sentence: আমাকে একটা দেখান।\n",
      "\n",
      "-\n",
      "Input sentence: Call us.\n",
      "Decoded sentence: আমাকে একটা দেখান।\n",
      "\n",
      "-\n",
      "Input sentence: Call us.\n",
      "Decoded sentence: আমাকে একটা দেখান।\n",
      "\n",
      "-\n",
      "Input sentence: Call us.\n",
      "Decoded sentence: আমাকে একটা দেখান।\n",
      "\n",
      "-\n",
      "Input sentence: Come in.\n",
      "Decoded sentence: আমাকে একটা দেখান।\n",
      "\n",
      "-\n",
      "Input sentence: Come in.\n",
      "Decoded sentence: আমাকে একটা দেখান।\n",
      "\n",
      "-\n",
      "Input sentence: Get Tom.\n",
      "Decoded sentence: টম চিৎকার করছে।\n",
      "\n",
      "-\n",
      "Input sentence: Get Tom.\n",
      "Decoded sentence: টম চিৎকার করছে।\n",
      "\n",
      "-\n",
      "Input sentence: Get Tom.\n",
      "Decoded sentence: টম চিৎকার করছে।\n",
      "\n",
      "-\n",
      "Input sentence: Get Tom.\n",
      "Decoded sentence: টম চিৎকার করছে।\n",
      "\n",
      "-\n",
      "Input sentence: Get Tom.\n",
      "Decoded sentence: টম চিৎকার করছে।\n",
      "\n",
      "-\n",
      "Input sentence: Get Tom.\n",
      "Decoded sentence: টম চিৎকার করছে।\n",
      "\n",
      "-\n",
      "Input sentence: Get out.\n",
      "Decoded sentence: টম চিৎকার করছে।\n",
      "\n",
      "-\n",
      "Input sentence: Get out.\n",
      "Decoded sentence: টম চিৎকার করছে।\n",
      "\n",
      "-\n",
      "Input sentence: Go away!\n",
      "Decoded sentence: টম চিৎকার করছে।\n",
      "\n",
      "-\n",
      "Input sentence: Go away!\n",
      "Decoded sentence: টম চিৎকার করছে।\n",
      "\n",
      "-\n",
      "Input sentence: Go away.\n",
      "Decoded sentence: আমাকে একটা দেখান।\n",
      "\n",
      "-\n",
      "Input sentence: Go away.\n",
      "Decoded sentence: আমাকে একটা দেখান।\n",
      "\n",
      "-\n",
      "Input sentence: Go home.\n",
      "Decoded sentence: টম চিৎকার করছে।\n",
      "\n",
      "-\n",
      "Input sentence: Go home.\n",
      "Decoded sentence: টম চিৎকার করছে।\n",
      "\n",
      "-\n",
      "Input sentence: Go home.\n",
      "Decoded sentence: টম চিৎকার করছে।\n",
      "\n",
      "-\n",
      "Input sentence: Go slow.\n",
      "Decoded sentence: টম চিৎকার করছে।\n",
      "\n",
      "-\n",
      "Input sentence: Go slow.\n",
      "Decoded sentence: টম চিৎকার করছে।\n",
      "\n",
      "-\n",
      "Input sentence: Go slow.\n",
      "Decoded sentence: টম চিৎকার করছে।\n",
      "\n",
      "-\n",
      "Input sentence: Goodbye!\n",
      "Decoded sentence: টম চিৎকার করছে।\n",
      "\n",
      "-\n",
      "Input sentence: Goodbye!\n",
      "Decoded sentence: টম চিৎকার করছে।\n",
      "\n",
      "-\n",
      "Input sentence: He came.\n",
      "Decoded sentence: টম চিৎকার করছে।\n",
      "\n",
      "-\n",
      "Input sentence: He came.\n",
      "Decoded sentence: টম চিৎকার করছে।\n",
      "\n",
      "-\n",
      "Input sentence: He came.\n",
      "Decoded sentence: টম চিৎকার করছে।\n",
      "\n",
      "-\n",
      "Input sentence: He came.\n",
      "Decoded sentence: টম চিৎকার করছে।\n",
      "\n",
      "-\n",
      "Input sentence: He runs.\n",
      "Decoded sentence: টম চিৎকার করছে।\n",
      "\n",
      "-\n",
      "Input sentence: He runs.\n",
      "Decoded sentence: টম চিৎকার করছে।\n",
      "\n",
      "-\n",
      "Input sentence: He runs.\n",
      "Decoded sentence: টম চিৎকার করছে।\n",
      "\n",
      "-\n",
      "Input sentence: He runs.\n",
      "Decoded sentence: টম চিৎকার করছে।\n",
      "\n",
      "-\n",
      "Input sentence: He runs.\n",
      "Decoded sentence: টম চিৎকার করছে।\n",
      "\n",
      "-\n",
      "Input sentence: He runs.\n",
      "Decoded sentence: টম চিৎকার করছে।\n",
      "\n",
      "-\n",
      "Input sentence: Help me!\n",
      "Decoded sentence: টম চিৎকার করছে।\n",
      "\n",
      "-\n",
      "Input sentence: Help us.\n",
      "Decoded sentence: টম চিৎকার করছে।\n",
      "\n",
      "-\n",
      "Input sentence: Help us.\n",
      "Decoded sentence: টম চিৎকার করছে।\n",
      "\n",
      "-\n",
      "Input sentence: Help us.\n",
      "Decoded sentence: টম চিৎকার করছে।\n",
      "\n",
      "-\n",
      "Input sentence: Hit Tom.\n",
      "Decoded sentence: টম চিৎকার করছে।\n",
      "\n",
      "-\n",
      "Input sentence: Hit Tom.\n",
      "Decoded sentence: টম চিৎকার করছে।\n",
      "\n",
      "-\n",
      "Input sentence: Hit Tom.\n",
      "Decoded sentence: টম চিৎকার করছে।\n",
      "\n",
      "-\n",
      "Input sentence: I agree.\n",
      "Decoded sentence: আমি একটা চিন্তি নি।\n",
      "\n",
      "-\n",
      "Input sentence: I tried.\n",
      "Decoded sentence: আমি একটা চিন্তি নি।\n",
      "\n",
      "-\n",
      "Input sentence: I tried.\n",
      "Decoded sentence: আমি একটা চিন্তি নি।\n",
      "\n",
      "-\n",
      "Input sentence: I'm Tom.\n",
      "Decoded sentence: আমি একটা চিন্তি নি।\n",
      "\n",
      "-\n",
      "Input sentence: I'm shy.\n",
      "Decoded sentence: আমি একটা চিন্তি নি।\n",
      "\n",
      "-\n",
      "Input sentence: I'm wet.\n",
      "Decoded sentence: আমি একটা চিন্তি নি।\n",
      "\n",
      "-\n",
      "Input sentence: It's me.\n",
      "Decoded sentence: টম চিৎকার করছে।\n",
      "\n",
      "-\n",
      "Input sentence: Keep it.\n",
      "Decoded sentence: টম চিৎকার করছে।\n",
      "\n",
      "-\n",
      "Input sentence: Keep it.\n",
      "Decoded sentence: টম চিৎকার করছে।\n",
      "\n",
      "-\n",
      "Input sentence: Keep it.\n",
      "Decoded sentence: টম চিৎকার করছে।\n",
      "\n",
      "-\n",
      "Input sentence: Me, too.\n",
      "Decoded sentence: টম চিৎকার করছে।\n",
      "\n",
      "-\n",
      "Input sentence: Perfect!\n",
      "Decoded sentence: আমাকে একটা দেখান।\n",
      "\n"
     ]
    }
   ],
   "source": [
    "for seq_index in range(100):\n",
    "    # Take one sequence (part of the training set)\n",
    "    # for trying out decoding.\n",
    "    input_seq = encoder_input_data[seq_index: seq_index + 1]\n",
    "    decoded_sentence = decode_sequence(input_seq)\n",
    "    print('-')\n",
    "    print('Input sentence:', input_texts[seq_index])\n",
    "    print('Decoded sentence:', decoded_sentence)"
   ]
  },
  {
   "cell_type": "code",
   "execution_count": null,
   "metadata": {},
   "outputs": [],
   "source": []
  }
 ],
 "metadata": {
  "accelerator": "GPU",
  "anaconda-cloud": {},
  "colab": {
   "collapsed_sections": [],
   "default_view": {},
   "name": "seq2seq_translation.ipynb",
   "provenance": [],
   "version": "0.3.2",
   "views": {}
  },
  "kernelspec": {
   "display_name": "Python [default]",
   "language": "python",
   "name": "python3"
  },
  "language_info": {
   "codemirror_mode": {
    "name": "ipython",
    "version": 3
   },
   "file_extension": ".py",
   "mimetype": "text/x-python",
   "name": "python",
   "nbconvert_exporter": "python",
   "pygments_lexer": "ipython3",
   "version": "3.5.2"
  }
 },
 "nbformat": 4,
 "nbformat_minor": 1
}
