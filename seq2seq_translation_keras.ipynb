{
 "cells": [
  {
   "cell_type": "markdown",
   "metadata": {
    "colab_type": "text",
    "id": "4hln4mOU_Zt6"
   },
   "source": [
    "# Loading data"
   ]
  },
  {
   "cell_type": "code",
   "execution_count": 1,
   "metadata": {
    "colab": {
     "autoexec": {
      "startup": false,
      "wait_interval": 0
     },
     "base_uri": "https://localhost:8080/",
     "height": 34
    },
    "colab_type": "code",
    "executionInfo": {
     "elapsed": 8141,
     "status": "ok",
     "timestamp": 1526098812938,
     "user": {
      "displayName": "Shuvendu Bikash",
      "photoUrl": "//lh6.googleusercontent.com/-qmLdelcDhNY/AAAAAAAAAAI/AAAAAAAAOyw/0BejXT-_QPo/s50-c-k-no/photo.jpg",
      "userId": "106434026064423574094"
     },
     "user_tz": -360
    },
    "id": "SWGB-YXd5LMG",
    "outputId": "11abe5e4-04c5-47fd-ac94-2631b0ff1aa6"
   },
   "outputs": [
    {
     "name": "stderr",
     "output_type": "stream",
     "text": [
      "Using TensorFlow backend.\n"
     ]
    }
   ],
   "source": [
    "import keras"
   ]
  },
  {
   "cell_type": "code",
   "execution_count": null,
   "metadata": {
    "colab": {
     "autoexec": {
      "startup": false,
      "wait_interval": 0
     },
     "base_uri": "https://localhost:8080/",
     "height": 204
    },
    "colab_type": "code",
    "executionInfo": {
     "elapsed": 2879,
     "status": "ok",
     "timestamp": 1526098815870,
     "user": {
      "displayName": "Shuvendu Bikash",
      "photoUrl": "//lh6.googleusercontent.com/-qmLdelcDhNY/AAAAAAAAAAI/AAAAAAAAOyw/0BejXT-_QPo/s50-c-k-no/photo.jpg",
      "userId": "106434026064423574094"
     },
     "user_tz": -360
    },
    "id": "NLMKbl0g5a4q",
    "outputId": "c518ea2d-dfeb-448d-d2fe-e0764537e238"
   },
   "outputs": [],
   "source": [
    "!wget http://www.manythings.org/anki/fra-eng.zip"
   ]
  },
  {
   "cell_type": "code",
   "execution_count": 4,
   "metadata": {
    "colab": {
     "autoexec": {
      "startup": false,
      "wait_interval": 0
     },
     "base_uri": "https://localhost:8080/",
     "height": 68
    },
    "colab_type": "code",
    "executionInfo": {
     "elapsed": 1925,
     "status": "ok",
     "timestamp": 1526098817874,
     "user": {
      "displayName": "Shuvendu Bikash",
      "photoUrl": "//lh6.googleusercontent.com/-qmLdelcDhNY/AAAAAAAAAAI/AAAAAAAAOyw/0BejXT-_QPo/s50-c-k-no/photo.jpg",
      "userId": "106434026064423574094"
     },
     "user_tz": -360
    },
    "id": "jNRTeUFk5001",
    "outputId": "51b0c287-30b7-411f-b18a-7edf3a306d64"
   },
   "outputs": [
    {
     "name": "stdout",
     "output_type": "stream",
     "text": [
      "Archive:  fra-eng.zip\r\n",
      "  inflating: _about.txt              \n",
      "  inflating: fra.txt                 \n"
     ]
    }
   ],
   "source": [
    "!unzip fra-eng.zip"
   ]
  },
  {
   "cell_type": "markdown",
   "metadata": {
    "colab_type": "text",
    "id": "cLgKoVRz_up5"
   },
   "source": [
    "# Preprocessing data"
   ]
  },
  {
   "cell_type": "code",
   "execution_count": 3,
   "metadata": {
    "colab": {
     "autoexec": {
      "startup": false,
      "wait_interval": 0
     },
     "base_uri": "https://localhost:8080/",
     "height": 35
    },
    "colab_type": "code",
    "executionInfo": {
     "elapsed": 1402,
     "status": "ok",
     "timestamp": 1526098819621,
     "user": {
      "displayName": "Shuvendu Bikash",
      "photoUrl": "//lh6.googleusercontent.com/-qmLdelcDhNY/AAAAAAAAAAI/AAAAAAAAOyw/0BejXT-_QPo/s50-c-k-no/photo.jpg",
      "userId": "106434026064423574094"
     },
     "user_tz": -360
    },
    "id": "JvI6fvHj7Gz7",
    "outputId": "142a8c8d-7281-4e51-d9a5-4d115f1d5be6"
   },
   "outputs": [
    {
     "name": "stdout",
     "output_type": "stream",
     "text": [
      "Total number of translation pair :  149862\n"
     ]
    }
   ],
   "source": [
    "from keras.models import Model\n",
    "from keras.layers import Input, LSTM, Dense\n",
    "import numpy as np\n",
    "\n",
    "batch_size = 64  # Batch size for training.\n",
    "epochs = 100  # Number of epochs to train for.\n",
    "latent_dim = 256  # Latent dimensionality of the encoding space.\n",
    "num_samples = 10000  # Number of samples to train on.\n",
    "\n",
    "data_path = 'data\\\\fra.txt'\n",
    "\n",
    "input_texts = []\n",
    "target_texts = []\n",
    "input_characters = set()\n",
    "target_characters = set()\n",
    "with open(data_path, 'r', encoding='utf-8') as f:\n",
    "    lines = f.read().split('\\n')\n",
    "    \n",
    "print(\"Total number of translation pair : \", len(lines))"
   ]
  },
  {
   "cell_type": "code",
   "execution_count": 4,
   "metadata": {
    "colab": {
     "autoexec": {
      "startup": false,
      "wait_interval": 0
     }
    },
    "colab_type": "code",
    "id": "qsDGtd3uAlE6"
   },
   "outputs": [],
   "source": [
    "for line in lines[: min(num_samples, len(lines) - 1)]:\n",
    "    input_text, target_text = line.split('\\t')\n",
    "    # We use \"tab\" as the \"start sequence\" character\n",
    "    # for the targets, and \"\\n\" as \"end sequence\" character.\n",
    "    target_text = '\\t' + target_text + '\\n'\n",
    "    input_texts.append(input_text)\n",
    "    target_texts.append(target_text)\n",
    "    for char in input_text:\n",
    "        if char not in input_characters:\n",
    "            input_characters.add(char)\n",
    "    for char in target_text:\n",
    "        if char not in target_characters:\n",
    "            target_characters.add(char)"
   ]
  },
  {
   "cell_type": "code",
   "execution_count": 5,
   "metadata": {
    "colab": {
     "autoexec": {
      "startup": false,
      "wait_interval": 0
     },
     "base_uri": "https://localhost:8080/",
     "height": 241
    },
    "colab_type": "code",
    "executionInfo": {
     "elapsed": 1425,
     "status": "ok",
     "timestamp": 1526098823589,
     "user": {
      "displayName": "Shuvendu Bikash",
      "photoUrl": "//lh6.googleusercontent.com/-qmLdelcDhNY/AAAAAAAAAAI/AAAAAAAAOyw/0BejXT-_QPo/s50-c-k-no/photo.jpg",
      "userId": "106434026064423574094"
     },
     "user_tz": -360
    },
    "id": "Ib6EVJLT_-Ga",
    "outputId": "c47f2b76-3d63-4479-eb31-6665ff449308"
   },
   "outputs": [
    {
     "name": "stdout",
     "output_type": "stream",
     "text": [
      "input characters:  {'u', 'h', ' ', 't', 'I', '’', 'T', 'Y', 'V', '$', \"'\", '7', 'i', 'y', '?', ':', '0', '2', '5', 'D', 'Q', 'w', 'p', 'o', 's', 'H', 'O', 'g', ',', 'f', 'k', '1', 'n', 'v', 'd', '!', 'F', '6', '3', 'G', 'j', 'm', 'L', 'r', 'c', 'B', 'e', 'W', 'l', 'b', 'U', 'S', 'a', '8', 'P', '.', 'z', '9', 'N', 'A', 'M', 'q', 'x', '&', 'R', '-', 'K', '4', 'C', 'J', 'E'}\n",
      "target characters:  {'t', 'V', 'T', 'Y', 'ê', '?', 'ô', '0', '\\u202f', 'w', 'o', 'û', ',', 'f', 'n', 'd', '!', '6', 'r', 'c', 'B', 'a', 'Ê', 'P', '.', '-', 'L', 'è', 'u', '’', 'â', 'i', 'î', 'D', 's', 'O', 'Ç', 'k', '3', 'm', 'ï', '\\u2009', 'S', '9', ')', 'A', 'M', 'q', 'j', 'À', 'J', 'E', '\\xa0', 'É', '«', '(', 'œ', 'é', '5', '‘', 'Q', '\\t', '1', 'v', 'à', 'l', 'b', 'U', '8', 'z', 'N', 'ë', '»', 'h', ' ', 'I', 'ç', '\\n', '$', \"'\", 'y', ':', 'p', 'g', 'H', 'F', 'G', 'e', 'x', '&', 'R', 'ù', 'K', 'C'}\n",
      "Go.    --->    \tVa !\n",
      "\n",
      "Run!    --->    \tCours !\n",
      "\n",
      "Run!    --->    \tCourez !\n",
      "\n",
      "Wow!    --->    \tÇa alors !\n",
      "\n",
      "Fire!    --->    \tAu feu !\n",
      "\n"
     ]
    }
   ],
   "source": [
    "print(\"input characters: \", input_characters)\n",
    "print(\"target characters: \", target_characters)\n",
    "\n",
    "# sample translation\n",
    "for i in range(5):\n",
    "  print(input_texts[i]+ \"    --->    \"+target_texts[i])"
   ]
  },
  {
   "cell_type": "code",
   "execution_count": 6,
   "metadata": {
    "colab": {
     "autoexec": {
      "startup": false,
      "wait_interval": 0
     },
     "base_uri": "https://localhost:8080/",
     "height": 102
    },
    "colab_type": "code",
    "executionInfo": {
     "elapsed": 828,
     "status": "ok",
     "timestamp": 1526098824696,
     "user": {
      "displayName": "Shuvendu Bikash",
      "photoUrl": "//lh6.googleusercontent.com/-qmLdelcDhNY/AAAAAAAAAAI/AAAAAAAAOyw/0BejXT-_QPo/s50-c-k-no/photo.jpg",
      "userId": "106434026064423574094"
     },
     "user_tz": -360
    },
    "id": "NGsbskODAZPx",
    "outputId": "edc4e622-e939-4a07-c0d2-c6b1978210ba"
   },
   "outputs": [
    {
     "name": "stdout",
     "output_type": "stream",
     "text": [
      "Number of samples: 10000\n",
      "Number of unique input tokens: 71\n",
      "Number of unique output tokens: 94\n",
      "Max sequence length for inputs: 16\n",
      "Max sequence length for outputs: 59\n"
     ]
    }
   ],
   "source": [
    "input_characters = sorted(list(input_characters))\n",
    "target_characters = sorted(list(target_characters))\n",
    "num_encoder_tokens = len(input_characters)\n",
    "num_decoder_tokens = len(target_characters)\n",
    "max_encoder_seq_length = max([len(txt) for txt in input_texts])\n",
    "max_decoder_seq_length = max([len(txt) for txt in target_texts])\n",
    "\n",
    "\n",
    "print('Number of samples:', len(input_texts))\n",
    "print('Number of unique input tokens:', num_encoder_tokens)\n",
    "print('Number of unique output tokens:', num_decoder_tokens)\n",
    "print('Max sequence length for inputs:', max_encoder_seq_length)\n",
    "print('Max sequence length for outputs:', max_decoder_seq_length)"
   ]
  },
  {
   "cell_type": "markdown",
   "metadata": {
    "colab_type": "text",
    "id": "4SBLtAoJEAi0"
   },
   "source": [
    "### Assign token index"
   ]
  },
  {
   "cell_type": "code",
   "execution_count": 7,
   "metadata": {
    "colab": {
     "autoexec": {
      "startup": false,
      "wait_interval": 0
     }
    },
    "colab_type": "code",
    "id": "ogxB-m2KD-Jc"
   },
   "outputs": [],
   "source": [
    "input_token_index = dict(\n",
    "    [(char, i) for i, char in enumerate(input_characters)])\n",
    "\n",
    "target_token_index = dict(\n",
    "    [(char, i) for i, char in enumerate(target_characters)])"
   ]
  },
  {
   "cell_type": "markdown",
   "metadata": {
    "colab_type": "text",
    "id": "BAXcGE94FXyz"
   },
   "source": [
    "### Prepare one-hot encoder data representation : Shape (batch, sentence_len, encode_dim)"
   ]
  },
  {
   "cell_type": "code",
   "execution_count": 8,
   "metadata": {
    "colab": {
     "autoexec": {
      "startup": false,
      "wait_interval": 0
     },
     "base_uri": "https://localhost:8080/",
     "height": 68
    },
    "colab_type": "code",
    "executionInfo": {
     "elapsed": 1070,
     "status": "ok",
     "timestamp": 1526098827398,
     "user": {
      "displayName": "Shuvendu Bikash",
      "photoUrl": "//lh6.googleusercontent.com/-qmLdelcDhNY/AAAAAAAAAAI/AAAAAAAAOyw/0BejXT-_QPo/s50-c-k-no/photo.jpg",
      "userId": "106434026064423574094"
     },
     "user_tz": -360
    },
    "id": "Ox53nSv1B5rv",
    "outputId": "ccba3211-a76d-478e-fffd-20ea39654150"
   },
   "outputs": [
    {
     "name": "stdout",
     "output_type": "stream",
     "text": [
      "encoder input data shape:  (10000, 16, 71)\n",
      "decoder input data shape:  (10000, 59, 94)\n",
      "decoder target data shape:  (10000, 59, 94)\n"
     ]
    }
   ],
   "source": [
    "encoder_input_data = np.zeros(\n",
    "    (len(input_texts), max_encoder_seq_length, num_encoder_tokens),\n",
    "    dtype='float32')\n",
    "decoder_input_data = np.zeros(\n",
    "    (len(input_texts), max_decoder_seq_length, num_decoder_tokens),\n",
    "    dtype='float32')\n",
    "decoder_target_data = np.zeros(\n",
    "    (len(input_texts), max_decoder_seq_length, num_decoder_tokens),\n",
    "    dtype='float32')\n",
    "\n",
    "print(\"encoder input data shape: \", encoder_input_data.shape)\n",
    "print(\"decoder input data shape: \", decoder_input_data.shape)\n",
    "print(\"decoder target data shape: \", decoder_target_data.shape)"
   ]
  },
  {
   "cell_type": "markdown",
   "metadata": {
    "colab_type": "text",
    "id": "JZ7wn0N-Nu01"
   },
   "source": [
    "### decoder input :   HELLO    --->   decoder target:  ELLO"
   ]
  },
  {
   "cell_type": "code",
   "execution_count": 9,
   "metadata": {
    "colab": {
     "autoexec": {
      "startup": false,
      "wait_interval": 0
     }
    },
    "colab_type": "code",
    "id": "hILiqt3fF-Dc"
   },
   "outputs": [],
   "source": [
    "for i, (input_text, target_text) in enumerate(zip(input_texts, target_texts)):\n",
    "    for t, char in enumerate(input_text):\n",
    "        encoder_input_data[i, t, input_token_index[char]] = 1.\n",
    "    for t, char in enumerate(target_text):\n",
    "        # decoder_target_data is ahead of decoder_input_data by one timestep\n",
    "        decoder_input_data[i, t, target_token_index[char]] = 1.\n",
    "        if t > 0:\n",
    "            # decoder_target_data will be ahead by one timestep\n",
    "            # and will not include the start character.\n",
    "            decoder_target_data[i, t - 1, target_token_index[char]] = 1.\n"
   ]
  },
  {
   "cell_type": "markdown",
   "metadata": {
    "colab_type": "text",
    "id": "EnR2fRRDF0C8"
   },
   "source": [
    "# Build the Sequence to Sequence model"
   ]
  },
  {
   "cell_type": "code",
   "execution_count": 10,
   "metadata": {
    "colab": {
     "autoexec": {
      "startup": false,
      "wait_interval": 0
     }
    },
    "colab_type": "code",
    "id": "_KqiAdLvEsob"
   },
   "outputs": [],
   "source": [
    "# Define input sequence\n",
    "encoder_inputs = Input(shape=(None, num_encoder_tokens))\n",
    "# LSTM as encoder\n",
    "encoder = LSTM(latent_dim, return_state=True)\n",
    "encoder_outputs, state_h, state_c = encoder(encoder_inputs)\n",
    "# we only need 'encoder_outputs'\n",
    "encoder_states = [state_h, state_c]\n",
    "\n",
    "\n",
    "# set up the decoder, using `encoder_states` as initial state\n",
    "decoder_inputs = Input(shape=(None, num_decoder_tokens))\n",
    "# we set up decoder to return full output sequences, and to return internal\n",
    "# states as well. we don't use the return states in training model, but\n",
    "# we will use them in referance\n",
    "decoder_lstm = LSTM(latent_dim, return_sequences=True, return_state=True)\n",
    "decoder_outputs, _, _ = decoder_lstm(decoder_inputs, initial_state=encoder_states)\n",
    "\n",
    "decoder_dense = Dense(num_decoder_tokens, activation='softmax')\n",
    "decoder_outputs = decoder_dense(decoder_outputs)\n",
    "\n",
    "# define a model that will turn 'encoder_input_data' & 'decoder_input_data'\n",
    "# into 'decoder_target_data'\n",
    "model = Model([encoder_inputs, decoder_inputs], decoder_outputs)"
   ]
  },
  {
   "cell_type": "code",
   "execution_count": 11,
   "metadata": {
    "colab": {
     "autoexec": {
      "startup": false,
      "wait_interval": 0
     },
     "base_uri": "https://localhost:8080/",
     "height": 340
    },
    "colab_type": "code",
    "executionInfo": {
     "elapsed": 1083,
     "status": "ok",
     "timestamp": 1526098832317,
     "user": {
      "displayName": "Shuvendu Bikash",
      "photoUrl": "//lh6.googleusercontent.com/-qmLdelcDhNY/AAAAAAAAAAI/AAAAAAAAOyw/0BejXT-_QPo/s50-c-k-no/photo.jpg",
      "userId": "106434026064423574094"
     },
     "user_tz": -360
    },
    "id": "8qzfCtbyeLCE",
    "outputId": "16255dd8-e165-4ce7-f82a-a01a1eb9feee"
   },
   "outputs": [
    {
     "name": "stdout",
     "output_type": "stream",
     "text": [
      "__________________________________________________________________________________________________\n",
      "Layer (type)                    Output Shape         Param #     Connected to                     \n",
      "==================================================================================================\n",
      "input_1 (InputLayer)            (None, None, 71)     0                                            \n",
      "__________________________________________________________________________________________________\n",
      "input_2 (InputLayer)            (None, None, 94)     0                                            \n",
      "__________________________________________________________________________________________________\n",
      "lstm_1 (LSTM)                   [(None, 256), (None, 335872      input_1[0][0]                    \n",
      "__________________________________________________________________________________________________\n",
      "lstm_2 (LSTM)                   [(None, None, 256),  359424      input_2[0][0]                    \n",
      "                                                                 lstm_1[0][1]                     \n",
      "                                                                 lstm_1[0][2]                     \n",
      "__________________________________________________________________________________________________\n",
      "dense_1 (Dense)                 (None, None, 94)     24158       lstm_2[0][0]                     \n",
      "==================================================================================================\n",
      "Total params: 719,454\n",
      "Trainable params: 719,454\n",
      "Non-trainable params: 0\n",
      "__________________________________________________________________________________________________\n"
     ]
    }
   ],
   "source": [
    "model.summary()"
   ]
  },
  {
   "cell_type": "code",
   "execution_count": 12,
   "metadata": {
    "colab": {
     "autoexec": {
      "startup": false,
      "wait_interval": 0
     },
     "base_uri": "https://localhost:8080/",
     "height": 3728
    },
    "colab_type": "code",
    "executionInfo": {
     "elapsed": 2409642,
     "status": "ok",
     "timestamp": 1526101242210,
     "user": {
      "displayName": "Shuvendu Bikash",
      "photoUrl": "//lh6.googleusercontent.com/-qmLdelcDhNY/AAAAAAAAAAI/AAAAAAAAOyw/0BejXT-_QPo/s50-c-k-no/photo.jpg",
      "userId": "106434026064423574094"
     },
     "user_tz": -360
    },
    "id": "_BfyaMQ6eNZg",
    "outputId": "85a2ef74-c117-4ec2-87da-b13ada37c08c"
   },
   "outputs": [
    {
     "name": "stdout",
     "output_type": "stream",
     "text": [
      "Train on 8000 samples, validate on 2000 samples\n",
      "Epoch 1/100\n",
      "8000/8000 [==============================] - 15s 2ms/step - loss: 0.9164 - val_loss: 0.9519\n",
      "Epoch 2/100\n",
      "8000/8000 [==============================] - 9s 1ms/step - loss: 0.7220 - val_loss: 0.8072\n",
      "Epoch 3/100\n",
      "8000/8000 [==============================] - 10s 1ms/step - loss: 0.6183 - val_loss: 0.7037\n",
      "Epoch 4/100\n",
      "8000/8000 [==============================] - 10s 1ms/step - loss: 0.5610 - val_loss: 0.6563\n",
      "Epoch 5/100\n",
      "8000/8000 [==============================] - 10s 1ms/step - loss: 0.5205 - val_loss: 0.6171\n",
      "Epoch 6/100\n",
      "8000/8000 [==============================] - 11s 1ms/step - loss: 0.4895 - val_loss: 0.5988\n",
      "Epoch 7/100\n",
      "8000/8000 [==============================] - 10s 1ms/step - loss: 0.4634 - val_loss: 0.5670\n",
      "Epoch 8/100\n",
      "8000/8000 [==============================] - 11s 1ms/step - loss: 0.4423 - val_loss: 0.5538\n",
      "Epoch 9/100\n",
      "8000/8000 [==============================] - 12s 1ms/step - loss: 0.4225 - val_loss: 0.5410\n",
      "Epoch 10/100\n",
      "8000/8000 [==============================] - 10s 1ms/step - loss: 0.4049 - val_loss: 0.5277\n",
      "Epoch 11/100\n",
      "8000/8000 [==============================] - 10s 1ms/step - loss: 0.3891 - val_loss: 0.5133\n",
      "Epoch 12/100\n",
      "8000/8000 [==============================] - 10s 1ms/step - loss: 0.3744 - val_loss: 0.5063\n",
      "Epoch 13/100\n",
      "8000/8000 [==============================] - 10s 1ms/step - loss: 0.3609 - val_loss: 0.4989\n",
      "Epoch 14/100\n",
      "8000/8000 [==============================] - 10s 1ms/step - loss: 0.3486 - val_loss: 0.4955\n",
      "Epoch 15/100\n",
      "8000/8000 [==============================] - 11s 1ms/step - loss: 0.3366 - val_loss: 0.4910\n",
      "Epoch 16/100\n",
      "8000/8000 [==============================] - 12s 1ms/step - loss: 0.3253 - val_loss: 0.4868\n",
      "Epoch 17/100\n",
      "8000/8000 [==============================] - 12s 1ms/step - loss: 0.3149 - val_loss: 0.4786\n",
      "Epoch 18/100\n",
      "8000/8000 [==============================] - 11s 1ms/step - loss: 0.3050 - val_loss: 0.4759\n",
      "Epoch 19/100\n",
      "8000/8000 [==============================] - 10s 1ms/step - loss: 0.2953 - val_loss: 0.4723\n",
      "Epoch 20/100\n",
      "8000/8000 [==============================] - 11s 1ms/step - loss: 0.2861 - val_loss: 0.4709\n",
      "Epoch 21/100\n",
      "8000/8000 [==============================] - 10s 1ms/step - loss: 0.2771 - val_loss: 0.4720\n",
      "Epoch 22/100\n",
      "8000/8000 [==============================] - 10s 1ms/step - loss: 0.2687 - val_loss: 0.4722\n",
      "Epoch 23/100\n",
      "8000/8000 [==============================] - 10s 1ms/step - loss: 0.2606 - val_loss: 0.4725\n",
      "Epoch 24/100\n",
      "8000/8000 [==============================] - 10s 1ms/step - loss: 0.2526 - val_loss: 0.4717\n",
      "Epoch 25/100\n",
      "8000/8000 [==============================] - 10s 1ms/step - loss: 0.2454 - val_loss: 0.4754\n",
      "Epoch 26/100\n",
      "8000/8000 [==============================] - 10s 1ms/step - loss: 0.2385 - val_loss: 0.4795\n",
      "Epoch 27/100\n",
      "8000/8000 [==============================] - 10s 1ms/step - loss: 0.2314 - val_loss: 0.4755\n",
      "Epoch 28/100\n",
      "8000/8000 [==============================] - 10s 1ms/step - loss: 0.2248 - val_loss: 0.4853\n",
      "Epoch 29/100\n",
      "8000/8000 [==============================] - 9s 1ms/step - loss: 0.2181 - val_loss: 0.4887\n",
      "Epoch 30/100\n",
      "8000/8000 [==============================] - 9s 1ms/step - loss: 0.2124 - val_loss: 0.4890\n",
      "Epoch 31/100\n",
      "8000/8000 [==============================] - 9s 1ms/step - loss: 0.2064 - val_loss: 0.4890\n",
      "Epoch 32/100\n",
      "8000/8000 [==============================] - 9s 1ms/step - loss: 0.2009 - val_loss: 0.4880\n",
      "Epoch 33/100\n",
      "8000/8000 [==============================] - 10s 1ms/step - loss: 0.1953 - val_loss: 0.5018\n",
      "Epoch 34/100\n",
      "8000/8000 [==============================] - 10s 1ms/step - loss: 0.1902 - val_loss: 0.5023\n",
      "Epoch 35/100\n",
      "8000/8000 [==============================] - 9s 1ms/step - loss: 0.1851 - val_loss: 0.5074\n",
      "Epoch 36/100\n",
      "8000/8000 [==============================] - 9s 1ms/step - loss: 0.1800 - val_loss: 0.5207\n",
      "Epoch 37/100\n",
      "8000/8000 [==============================] - 11s 1ms/step - loss: 0.1756 - val_loss: 0.5171\n",
      "Epoch 38/100\n",
      "8000/8000 [==============================] - 11s 1ms/step - loss: 0.1709 - val_loss: 0.5226\n",
      "Epoch 39/100\n",
      "8000/8000 [==============================] - 10s 1ms/step - loss: 0.1667 - val_loss: 0.5270\n",
      "Epoch 40/100\n",
      "8000/8000 [==============================] - 11s 1ms/step - loss: 0.1626 - val_loss: 0.5294\n",
      "Epoch 41/100\n",
      "8000/8000 [==============================] - 11s 1ms/step - loss: 0.1586 - val_loss: 0.5379\n",
      "Epoch 42/100\n",
      "8000/8000 [==============================] - 11s 1ms/step - loss: 0.1547 - val_loss: 0.5436\n",
      "Epoch 43/100\n",
      "8000/8000 [==============================] - 10s 1ms/step - loss: 0.1511 - val_loss: 0.5490\n",
      "Epoch 44/100\n",
      "8000/8000 [==============================] - 9s 1ms/step - loss: 0.1476 - val_loss: 0.5474\n",
      "Epoch 45/100\n",
      "8000/8000 [==============================] - 9s 1ms/step - loss: 0.1442 - val_loss: 0.5545\n",
      "Epoch 46/100\n",
      "8000/8000 [==============================] - 9s 1ms/step - loss: 0.1407 - val_loss: 0.5586\n",
      "Epoch 47/100\n",
      "8000/8000 [==============================] - 9s 1ms/step - loss: 0.1378 - val_loss: 0.5662\n",
      "Epoch 48/100\n",
      "8000/8000 [==============================] - 9s 1ms/step - loss: 0.1343 - val_loss: 0.5716\n",
      "Epoch 49/100\n",
      "8000/8000 [==============================] - 9s 1ms/step - loss: 0.1315 - val_loss: 0.5751\n",
      "Epoch 50/100\n",
      "8000/8000 [==============================] - 9s 1ms/step - loss: 0.1290 - val_loss: 0.5793\n",
      "Epoch 51/100\n",
      "8000/8000 [==============================] - 9s 1ms/step - loss: 0.1258 - val_loss: 0.5899\n",
      "Epoch 52/100\n",
      "8000/8000 [==============================] - 9s 1ms/step - loss: 0.1236 - val_loss: 0.5802\n",
      "Epoch 53/100\n",
      "8000/8000 [==============================] - 9s 1ms/step - loss: 0.1206 - val_loss: 0.6017\n",
      "Epoch 54/100\n",
      "8000/8000 [==============================] - 9s 1ms/step - loss: 0.1184 - val_loss: 0.5957\n",
      "Epoch 55/100\n",
      "8000/8000 [==============================] - 9s 1ms/step - loss: 0.1157 - val_loss: 0.5960\n",
      "Epoch 56/100\n",
      "8000/8000 [==============================] - 9s 1ms/step - loss: 0.1136 - val_loss: 0.6010\n",
      "Epoch 57/100\n",
      "8000/8000 [==============================] - 9s 1ms/step - loss: 0.1111 - val_loss: 0.6072\n",
      "Epoch 58/100\n",
      "8000/8000 [==============================] - 9s 1ms/step - loss: 0.1095 - val_loss: 0.6178\n",
      "Epoch 59/100\n",
      "8000/8000 [==============================] - 9s 1ms/step - loss: 0.1067 - val_loss: 0.6174\n",
      "Epoch 60/100\n",
      "8000/8000 [==============================] - 9s 1ms/step - loss: 0.1049 - val_loss: 0.6263\n",
      "Epoch 61/100\n",
      "8000/8000 [==============================] - 9s 1ms/step - loss: 0.1029 - val_loss: 0.6359\n",
      "Epoch 62/100\n",
      "8000/8000 [==============================] - 9s 1ms/step - loss: 0.1011 - val_loss: 0.6359\n",
      "Epoch 63/100\n",
      "8000/8000 [==============================] - 9s 1ms/step - loss: 0.0991 - val_loss: 0.6352\n",
      "Epoch 64/100\n",
      "8000/8000 [==============================] - 9s 1ms/step - loss: 0.0973 - val_loss: 0.6440\n",
      "Epoch 65/100\n",
      "8000/8000 [==============================] - 9s 1ms/step - loss: 0.0957 - val_loss: 0.6474\n",
      "Epoch 66/100\n",
      "8000/8000 [==============================] - 9s 1ms/step - loss: 0.0936 - val_loss: 0.6482\n",
      "Epoch 67/100\n",
      "8000/8000 [==============================] - 9s 1ms/step - loss: 0.0923 - val_loss: 0.6542\n",
      "Epoch 68/100\n",
      "8000/8000 [==============================] - 10s 1ms/step - loss: 0.0906 - val_loss: 0.6593\n",
      "Epoch 69/100\n",
      "8000/8000 [==============================] - 9s 1ms/step - loss: 0.0895 - val_loss: 0.6603\n",
      "Epoch 70/100\n",
      "8000/8000 [==============================] - 9s 1ms/step - loss: 0.0874 - val_loss: 0.6660\n",
      "Epoch 71/100\n",
      "8000/8000 [==============================] - 9s 1ms/step - loss: 0.0859 - val_loss: 0.6702\n",
      "Epoch 72/100\n",
      "8000/8000 [==============================] - 10s 1ms/step - loss: 0.0843 - val_loss: 0.6744\n",
      "Epoch 73/100\n",
      "8000/8000 [==============================] - 9s 1ms/step - loss: 0.0831 - val_loss: 0.6809\n",
      "Epoch 74/100\n",
      "8000/8000 [==============================] - 9s 1ms/step - loss: 0.0818 - val_loss: 0.6776\n",
      "Epoch 75/100\n",
      "8000/8000 [==============================] - 9s 1ms/step - loss: 0.0806 - val_loss: 0.6912\n",
      "Epoch 76/100\n",
      "8000/8000 [==============================] - 10s 1ms/step - loss: 0.0792 - val_loss: 0.6968\n",
      "Epoch 77/100\n",
      "8000/8000 [==============================] - 10s 1ms/step - loss: 0.0780 - val_loss: 0.7027\n",
      "Epoch 78/100\n",
      "8000/8000 [==============================] - 10s 1ms/step - loss: 0.0765 - val_loss: 0.6981\n",
      "Epoch 79/100\n"
     ]
    },
    {
     "name": "stdout",
     "output_type": "stream",
     "text": [
      "8000/8000 [==============================] - 10s 1ms/step - loss: 0.0756 - val_loss: 0.7019\n",
      "Epoch 80/100\n",
      "8000/8000 [==============================] - 9s 1ms/step - loss: 0.0746 - val_loss: 0.7054\n",
      "Epoch 81/100\n",
      "8000/8000 [==============================] - 9s 1ms/step - loss: 0.0732 - val_loss: 0.7075\n",
      "Epoch 82/100\n",
      "8000/8000 [==============================] - 10s 1ms/step - loss: 0.0720 - val_loss: 0.7082\n",
      "Epoch 83/100\n",
      "8000/8000 [==============================] - 9s 1ms/step - loss: 0.0710 - val_loss: 0.7131\n",
      "Epoch 84/100\n",
      "8000/8000 [==============================] - 10s 1ms/step - loss: 0.0697 - val_loss: 0.7178\n",
      "Epoch 85/100\n",
      "8000/8000 [==============================] - 10s 1ms/step - loss: 0.0691 - val_loss: 0.7215\n",
      "Epoch 86/100\n",
      "8000/8000 [==============================] - 10s 1ms/step - loss: 0.0676 - val_loss: 0.7226\n",
      "Epoch 87/100\n",
      "8000/8000 [==============================] - 9s 1ms/step - loss: 0.0668 - val_loss: 0.7276\n",
      "Epoch 88/100\n",
      "8000/8000 [==============================] - 9s 1ms/step - loss: 0.0657 - val_loss: 0.7296\n",
      "Epoch 89/100\n",
      "8000/8000 [==============================] - 10s 1ms/step - loss: 0.0647 - val_loss: 0.7400\n",
      "Epoch 90/100\n",
      "8000/8000 [==============================] - 10s 1ms/step - loss: 0.0641 - val_loss: 0.7384\n",
      "Epoch 91/100\n",
      "8000/8000 [==============================] - 9s 1ms/step - loss: 0.0629 - val_loss: 0.7484\n",
      "Epoch 92/100\n",
      "8000/8000 [==============================] - 9s 1ms/step - loss: 0.0620 - val_loss: 0.7409\n",
      "Epoch 93/100\n",
      "8000/8000 [==============================] - 9s 1ms/step - loss: 0.0611 - val_loss: 0.7526\n",
      "Epoch 94/100\n",
      "8000/8000 [==============================] - 9s 1ms/step - loss: 0.0606 - val_loss: 0.7540\n",
      "Epoch 95/100\n",
      "8000/8000 [==============================] - 10s 1ms/step - loss: 0.0597 - val_loss: 0.7527\n",
      "Epoch 96/100\n",
      "8000/8000 [==============================] - 10s 1ms/step - loss: 0.0587 - val_loss: 0.7503\n",
      "Epoch 97/100\n",
      "8000/8000 [==============================] - 9s 1ms/step - loss: 0.0578 - val_loss: 0.7610\n",
      "Epoch 98/100\n",
      "8000/8000 [==============================] - 9s 1ms/step - loss: 0.0571 - val_loss: 0.7633\n",
      "Epoch 99/100\n",
      "8000/8000 [==============================] - 10s 1ms/step - loss: 0.0563 - val_loss: 0.7670\n",
      "Epoch 100/100\n",
      "8000/8000 [==============================] - 10s 1ms/step - loss: 0.0556 - val_loss: 0.7686\n"
     ]
    },
    {
     "name": "stderr",
     "output_type": "stream",
     "text": [
      "c:\\users\\bikas\\anaconda3\\lib\\site-packages\\keras\\engine\\topology.py:2368: UserWarning: Layer lstm_2 was passed non-serializable keyword arguments: {'initial_state': [<tf.Tensor 'lstm_1/while/Exit_2:0' shape=(?, 256) dtype=float32>, <tf.Tensor 'lstm_1/while/Exit_3:0' shape=(?, 256) dtype=float32>]}. They will not be included in the serialized model (and thus will be missing at deserialization time).\n",
      "  str(node.arguments) + '. They will not be included '\n"
     ]
    }
   ],
   "source": [
    "model.compile(optimizer='rmsprop', loss='categorical_crossentropy')\n",
    "model.fit([encoder_input_data, decoder_input_data], decoder_target_data,\n",
    "          batch_size=batch_size,\n",
    "          epochs=epochs,\n",
    "          validation_split=0.2\n",
    "         )\n",
    "\n",
    "model.save('s2s.h5')"
   ]
  },
  {
   "cell_type": "markdown",
   "metadata": {
    "colab_type": "text",
    "id": "PaTlkWHDpCQn"
   },
   "source": [
    "# Inferance with this model"
   ]
  },
  {
   "cell_type": "code",
   "execution_count": 13,
   "metadata": {
    "colab": {
     "autoexec": {
      "startup": false,
      "wait_interval": 0
     }
    },
    "colab_type": "code",
    "id": "QAEozxWNpAmr"
   },
   "outputs": [],
   "source": [
    "encoder_model = Model(encoder_inputs, encoder_states)\n",
    "\n",
    "decoder_state_input_h = Input(shape=(latent_dim,))\n",
    "decoder_state_input_c = Input(shape=(latent_dim,))\n",
    "decoder_state_inputs = [decoder_state_input_h, decoder_state_input_c]\n",
    "decoder_outputs, state_h, state_c = decoder_lstm(decoder_inputs, initial_state=decoder_state_inputs)\n",
    "\n",
    "decoder_states = [state_h, state_c]\n",
    "decoder_outputs = decoder_dense(decoder_outputs)\n",
    "\n",
    "decoder_model = Model(\n",
    "    [decoder_inputs]+decoder_state_inputs,\n",
    "    [decoder_outputs]+decoder_states\n",
    ")"
   ]
  },
  {
   "cell_type": "markdown",
   "metadata": {},
   "source": [
    "### One-hot output to char"
   ]
  },
  {
   "cell_type": "code",
   "execution_count": 14,
   "metadata": {},
   "outputs": [],
   "source": [
    "# Reverse-lookup token index to decode sequences back to something readable.\n",
    "reverse_input_char_index = dict(\n",
    "    (i, char) for char, i in input_token_index.items())\n",
    "reverse_target_char_index = dict(\n",
    "    (i, char) for char, i in target_token_index.items())"
   ]
  },
  {
   "cell_type": "markdown",
   "metadata": {},
   "source": [
    "### Decode sequence"
   ]
  },
  {
   "cell_type": "code",
   "execution_count": 15,
   "metadata": {},
   "outputs": [],
   "source": [
    "def decode_sequence(input_seq):\n",
    "    # Encode the input as state vectors.\n",
    "    states_value = encoder_model.predict(input_seq)\n",
    "\n",
    "    # Generate empty target sequence of length 1.\n",
    "    target_seq = np.zeros((1, 1, num_decoder_tokens))\n",
    "    # Populate the first character of target sequence with the start character.\n",
    "    target_seq[0, 0, target_token_index['\\t']] = 1.\n",
    "\n",
    "    # Sampling loop for a batch of sequences\n",
    "    # (to simplify, here we assume a batch of size 1).\n",
    "    stop_condition = False\n",
    "    decoded_sentence = ''\n",
    "    while not stop_condition:\n",
    "        output_tokens, h, c = decoder_model.predict(\n",
    "            [target_seq] + states_value)\n",
    "\n",
    "        # Sample a token\n",
    "        sampled_token_index = np.argmax(output_tokens[0, -1, :])\n",
    "        sampled_char = reverse_target_char_index[sampled_token_index]\n",
    "        decoded_sentence += sampled_char\n",
    "\n",
    "        # Exit condition: either hit max length\n",
    "        # or find stop character.\n",
    "        if (sampled_char == '\\n' or\n",
    "           len(decoded_sentence) > max_decoder_seq_length):\n",
    "            stop_condition = True\n",
    "\n",
    "        # Update the target sequence (of length 1).\n",
    "        target_seq = np.zeros((1, 1, num_decoder_tokens))\n",
    "        target_seq[0, 0, sampled_token_index] = 1.\n",
    "\n",
    "        # Update states\n",
    "        states_value = [h, c]\n",
    "\n",
    "    return decoded_sentence"
   ]
  },
  {
   "cell_type": "code",
   "execution_count": 16,
   "metadata": {},
   "outputs": [
    {
     "name": "stdout",
     "output_type": "stream",
     "text": [
      "-\n",
      "Input sentence: Go.\n",
      "Decoded sentence: Va !\n",
      "\n",
      "-\n",
      "Input sentence: Run!\n",
      "Decoded sentence: Courez !\n",
      "\n",
      "-\n",
      "Input sentence: Run!\n",
      "Decoded sentence: Courez !\n",
      "\n",
      "-\n",
      "Input sentence: Wow!\n",
      "Decoded sentence: Ça alors !\n",
      "\n",
      "-\n",
      "Input sentence: Fire!\n",
      "Decoded sentence: Au feu !\n",
      "\n",
      "-\n",
      "Input sentence: Help!\n",
      "Decoded sentence: À l'aide !\n",
      "\n",
      "-\n",
      "Input sentence: Jump.\n",
      "Decoded sentence: Saute.\n",
      "\n",
      "-\n",
      "Input sentence: Stop!\n",
      "Decoded sentence: Arrête-toi !\n",
      "\n",
      "-\n",
      "Input sentence: Stop!\n",
      "Decoded sentence: Arrête-toi !\n",
      "\n",
      "-\n",
      "Input sentence: Stop!\n",
      "Decoded sentence: Arrête-toi !\n",
      "\n",
      "-\n",
      "Input sentence: Wait!\n",
      "Decoded sentence: Attendez !\n",
      "\n",
      "-\n",
      "Input sentence: Wait!\n",
      "Decoded sentence: Attendez !\n",
      "\n",
      "-\n",
      "Input sentence: Go on.\n",
      "Decoded sentence: Poursuivez.\n",
      "\n",
      "-\n",
      "Input sentence: Go on.\n",
      "Decoded sentence: Poursuivez.\n",
      "\n",
      "-\n",
      "Input sentence: Go on.\n",
      "Decoded sentence: Poursuivez.\n",
      "\n",
      "-\n",
      "Input sentence: I see.\n",
      "Decoded sentence: Je suis devenu mal.\n",
      "\n",
      "-\n",
      "Input sentence: I try.\n",
      "Decoded sentence: J'essaye.\n",
      "\n",
      "-\n",
      "Input sentence: I won!\n",
      "Decoded sentence: Je l'ai emporté !\n",
      "\n",
      "-\n",
      "Input sentence: I won!\n",
      "Decoded sentence: Je l'ai emporté !\n",
      "\n",
      "-\n",
      "Input sentence: Oh no!\n",
      "Decoded sentence: Oh non !\n",
      "\n",
      "-\n",
      "Input sentence: Attack!\n",
      "Decoded sentence: Attaqui !\n",
      "\n",
      "-\n",
      "Input sentence: Attack!\n",
      "Decoded sentence: Attaqui !\n",
      "\n",
      "-\n",
      "Input sentence: Cheers!\n",
      "Decoded sentence: Santé !\n",
      "\n",
      "-\n",
      "Input sentence: Cheers!\n",
      "Decoded sentence: Santé !\n",
      "\n",
      "-\n",
      "Input sentence: Cheers!\n",
      "Decoded sentence: Santé !\n",
      "\n",
      "-\n",
      "Input sentence: Cheers!\n",
      "Decoded sentence: Santé !\n",
      "\n",
      "-\n",
      "Input sentence: Get up.\n",
      "Decoded sentence: Lève-toi.\n",
      "\n",
      "-\n",
      "Input sentence: Go now.\n",
      "Decoded sentence: Vas-y maintenant.\n",
      "\n",
      "-\n",
      "Input sentence: Go now.\n",
      "Decoded sentence: Vas-y maintenant.\n",
      "\n",
      "-\n",
      "Input sentence: Go now.\n",
      "Decoded sentence: Vas-y maintenant.\n",
      "\n",
      "-\n",
      "Input sentence: Got it!\n",
      "Decoded sentence: J'ai pigé !\n",
      "\n",
      "-\n",
      "Input sentence: Got it!\n",
      "Decoded sentence: J'ai pigé !\n",
      "\n",
      "-\n",
      "Input sentence: Got it?\n",
      "Decoded sentence: Compris ?\n",
      "\n",
      "-\n",
      "Input sentence: Got it?\n",
      "Decoded sentence: Compris ?\n",
      "\n",
      "-\n",
      "Input sentence: Got it?\n",
      "Decoded sentence: Compris ?\n",
      "\n",
      "-\n",
      "Input sentence: Hop in.\n",
      "Decoded sentence: Montez.\n",
      "\n",
      "-\n",
      "Input sentence: Hop in.\n",
      "Decoded sentence: Montez.\n",
      "\n",
      "-\n",
      "Input sentence: Hug me.\n",
      "Decoded sentence: Serrez-moi dans vous !\n",
      "\n",
      "-\n",
      "Input sentence: Hug me.\n",
      "Decoded sentence: Serrez-moi dans vous !\n",
      "\n",
      "-\n",
      "Input sentence: I fell.\n",
      "Decoded sentence: Je suis tombé.\n",
      "\n",
      "-\n",
      "Input sentence: I fell.\n",
      "Decoded sentence: Je suis tombé.\n",
      "\n",
      "-\n",
      "Input sentence: I know.\n",
      "Decoded sentence: Je sais.\n",
      "\n",
      "-\n",
      "Input sentence: I left.\n",
      "Decoded sentence: Je suis partie troive.\n",
      "\n",
      "-\n",
      "Input sentence: I left.\n",
      "Decoded sentence: Je suis partie troive.\n",
      "\n",
      "-\n",
      "Input sentence: I lost.\n",
      "Decoded sentence: J'ai perdu.\n",
      "\n",
      "-\n",
      "Input sentence: I'm 19.\n",
      "Decoded sentence: J'ai les foies.\n",
      "\n",
      "-\n",
      "Input sentence: I'm OK.\n",
      "Decoded sentence: Je suis crédule.\n",
      "\n",
      "-\n",
      "Input sentence: I'm OK.\n",
      "Decoded sentence: Je suis crédule.\n",
      "\n",
      "-\n",
      "Input sentence: Listen.\n",
      "Decoded sentence: Écoutez !\n",
      "\n",
      "-\n",
      "Input sentence: No way!\n",
      "Decoded sentence: C'est par pousqu'in ?\n",
      "\n",
      "-\n",
      "Input sentence: No way!\n",
      "Decoded sentence: C'est par pousqu'in ?\n",
      "\n",
      "-\n",
      "Input sentence: No way!\n",
      "Decoded sentence: C'est par pousqu'in ?\n",
      "\n",
      "-\n",
      "Input sentence: No way!\n",
      "Decoded sentence: C'est par pousqu'in ?\n",
      "\n",
      "-\n",
      "Input sentence: No way!\n",
      "Decoded sentence: C'est par pousqu'in ?\n",
      "\n",
      "-\n",
      "Input sentence: No way!\n",
      "Decoded sentence: C'est par pousqu'in ?\n",
      "\n",
      "-\n",
      "Input sentence: No way!\n",
      "Decoded sentence: C'est par pousqu'in ?\n",
      "\n",
      "-\n",
      "Input sentence: No way!\n",
      "Decoded sentence: C'est par pousqu'in ?\n",
      "\n",
      "-\n",
      "Input sentence: No way!\n",
      "Decoded sentence: C'est par pousqu'in ?\n",
      "\n",
      "-\n",
      "Input sentence: Really?\n",
      "Decoded sentence: Vrai ?\n",
      "\n",
      "-\n",
      "Input sentence: Really?\n",
      "Decoded sentence: Vrai ?\n",
      "\n",
      "-\n",
      "Input sentence: Really?\n",
      "Decoded sentence: Vrai ?\n",
      "\n",
      "-\n",
      "Input sentence: Thanks.\n",
      "Decoded sentence: Merci !\n",
      "\n",
      "-\n",
      "Input sentence: We try.\n",
      "Decoded sentence: On essaye.\n",
      "\n",
      "-\n",
      "Input sentence: We won.\n",
      "Decoded sentence: Nous avons gagné.\n",
      "\n",
      "-\n",
      "Input sentence: We won.\n",
      "Decoded sentence: Nous avons gagné.\n",
      "\n",
      "-\n",
      "Input sentence: We won.\n",
      "Decoded sentence: Nous avons gagné.\n",
      "\n",
      "-\n",
      "Input sentence: We won.\n",
      "Decoded sentence: Nous avons gagné.\n",
      "\n",
      "-\n",
      "Input sentence: Ask Tom.\n",
      "Decoded sentence: Demande à Tom.\n",
      "\n",
      "-\n",
      "Input sentence: Awesome!\n",
      "Decoded sentence: Fantastique !\n",
      "\n",
      "-\n",
      "Input sentence: Be calm.\n",
      "Decoded sentence: Soyez calmes !\n",
      "\n",
      "-\n",
      "Input sentence: Be calm.\n",
      "Decoded sentence: Soyez calmes !\n",
      "\n",
      "-\n",
      "Input sentence: Be calm.\n",
      "Decoded sentence: Soyez calmes !\n",
      "\n",
      "-\n",
      "Input sentence: Be cool.\n",
      "Decoded sentence: Soyez détendus !\n",
      "\n",
      "-\n",
      "Input sentence: Be fair.\n",
      "Decoded sentence: Soyez équitables !\n",
      "\n",
      "-\n",
      "Input sentence: Be fair.\n",
      "Decoded sentence: Soyez équitables !\n",
      "\n",
      "-\n",
      "Input sentence: Be fair.\n",
      "Decoded sentence: Soyez équitables !\n",
      "\n",
      "-\n",
      "Input sentence: Be fair.\n",
      "Decoded sentence: Soyez équitables !\n",
      "\n",
      "-\n",
      "Input sentence: Be fair.\n",
      "Decoded sentence: Soyez équitables !\n",
      "\n",
      "-\n",
      "Input sentence: Be fair.\n",
      "Decoded sentence: Soyez équitables !\n",
      "\n",
      "-\n",
      "Input sentence: Be kind.\n",
      "Decoded sentence: Sois gentil.\n",
      "\n",
      "-\n",
      "Input sentence: Be nice.\n",
      "Decoded sentence: Soyez gentils !\n",
      "\n",
      "-\n",
      "Input sentence: Be nice.\n",
      "Decoded sentence: Soyez gentils !\n",
      "\n",
      "-\n",
      "Input sentence: Be nice.\n",
      "Decoded sentence: Soyez gentils !\n",
      "\n",
      "-\n",
      "Input sentence: Be nice.\n",
      "Decoded sentence: Soyez gentils !\n",
      "\n",
      "-\n",
      "Input sentence: Be nice.\n",
      "Decoded sentence: Soyez gentils !\n",
      "\n",
      "-\n",
      "Input sentence: Be nice.\n",
      "Decoded sentence: Soyez gentils !\n",
      "\n",
      "-\n",
      "Input sentence: Beat it.\n",
      "Decoded sentence: Dégage !\n",
      "\n",
      "-\n",
      "Input sentence: Call me.\n",
      "Decoded sentence: Appellez-moi !\n",
      "\n",
      "-\n",
      "Input sentence: Call me.\n",
      "Decoded sentence: Appellez-moi !\n",
      "\n",
      "-\n",
      "Input sentence: Call us.\n",
      "Decoded sentence: Appelez-nous !\n",
      "\n",
      "-\n",
      "Input sentence: Call us.\n",
      "Decoded sentence: Appelez-nous !\n",
      "\n",
      "-\n",
      "Input sentence: Come in.\n",
      "Decoded sentence: Entre.\n",
      "\n",
      "-\n",
      "Input sentence: Come in.\n",
      "Decoded sentence: Entre.\n",
      "\n",
      "-\n",
      "Input sentence: Come in.\n",
      "Decoded sentence: Entre.\n",
      "\n",
      "-\n",
      "Input sentence: Come in.\n",
      "Decoded sentence: Entre.\n",
      "\n",
      "-\n",
      "Input sentence: Come on!\n",
      "Decoded sentence: Allez !\n",
      "\n",
      "-\n",
      "Input sentence: Come on.\n",
      "Decoded sentence: Venez !\n",
      "\n",
      "-\n",
      "Input sentence: Come on.\n",
      "Decoded sentence: Venez !\n",
      "\n",
      "-\n",
      "Input sentence: Come on.\n",
      "Decoded sentence: Venez !\n",
      "\n",
      "-\n",
      "Input sentence: Drop it!\n",
      "Decoded sentence: Laissez-le tomber !\n",
      "\n"
     ]
    }
   ],
   "source": [
    "for seq_index in range(100):\n",
    "    # Take one sequence (part of the training set)\n",
    "    # for trying out decoding.\n",
    "    input_seq = encoder_input_data[seq_index: seq_index + 1]\n",
    "    decoded_sentence = decode_sequence(input_seq)\n",
    "    print('-')\n",
    "    print('Input sentence:', input_texts[seq_index])\n",
    "    print('Decoded sentence:', decoded_sentence)"
   ]
  },
  {
   "cell_type": "code",
   "execution_count": null,
   "metadata": {},
   "outputs": [],
   "source": []
  }
 ],
 "metadata": {
  "accelerator": "GPU",
  "anaconda-cloud": {},
  "colab": {
   "collapsed_sections": [],
   "default_view": {},
   "name": "seq2seq_translation.ipynb",
   "provenance": [],
   "version": "0.3.2",
   "views": {}
  },
  "kernelspec": {
   "display_name": "Python [default]",
   "language": "python",
   "name": "python3"
  },
  "language_info": {
   "codemirror_mode": {
    "name": "ipython",
    "version": 3
   },
   "file_extension": ".py",
   "mimetype": "text/x-python",
   "name": "python",
   "nbconvert_exporter": "python",
   "pygments_lexer": "ipython3",
   "version": "3.5.2"
  }
 },
 "nbformat": 4,
 "nbformat_minor": 1
}
