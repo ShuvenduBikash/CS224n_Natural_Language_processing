{
 "cells": [
  {
   "cell_type": "markdown",
   "metadata": {
    "colab_type": "text",
    "id": "4hln4mOU_Zt6"
   },
   "source": [
    "# Loading data"
   ]
  },
  {
   "cell_type": "code",
   "execution_count": 1,
   "metadata": {
    "colab": {
     "autoexec": {
      "startup": false,
      "wait_interval": 0
     },
     "base_uri": "https://localhost:8080/",
     "height": 34
    },
    "colab_type": "code",
    "executionInfo": {
     "elapsed": 8141,
     "status": "ok",
     "timestamp": 1526098812938,
     "user": {
      "displayName": "Shuvendu Bikash",
      "photoUrl": "//lh6.googleusercontent.com/-qmLdelcDhNY/AAAAAAAAAAI/AAAAAAAAOyw/0BejXT-_QPo/s50-c-k-no/photo.jpg",
      "userId": "106434026064423574094"
     },
     "user_tz": -360
    },
    "id": "SWGB-YXd5LMG",
    "outputId": "11abe5e4-04c5-47fd-ac94-2631b0ff1aa6"
   },
   "outputs": [
    {
     "name": "stderr",
     "output_type": "stream",
     "text": [
      "c:\\users\\bikas\\anaconda3\\lib\\site-packages\\h5py\\__init__.py:36: FutureWarning: Conversion of the second argument of issubdtype from `float` to `np.floating` is deprecated. In future, it will be treated as `np.float64 == np.dtype(float).type`.\n",
      "  from ._conv import register_converters as _register_converters\n",
      "Using TensorFlow backend.\n"
     ]
    }
   ],
   "source": [
    "import keras"
   ]
  },
  {
   "cell_type": "markdown",
   "metadata": {
    "colab_type": "text",
    "id": "cLgKoVRz_up5"
   },
   "source": [
    "# Preprocessing data"
   ]
  },
  {
   "cell_type": "code",
   "execution_count": 15,
   "metadata": {
    "colab": {
     "autoexec": {
      "startup": false,
      "wait_interval": 0
     },
     "base_uri": "https://localhost:8080/",
     "height": 35
    },
    "colab_type": "code",
    "executionInfo": {
     "elapsed": 1402,
     "status": "ok",
     "timestamp": 1526098819621,
     "user": {
      "displayName": "Shuvendu Bikash",
      "photoUrl": "//lh6.googleusercontent.com/-qmLdelcDhNY/AAAAAAAAAAI/AAAAAAAAOyw/0BejXT-_QPo/s50-c-k-no/photo.jpg",
      "userId": "106434026064423574094"
     },
     "user_tz": -360
    },
    "id": "JvI6fvHj7Gz7",
    "outputId": "142a8c8d-7281-4e51-d9a5-4d115f1d5be6"
   },
   "outputs": [
    {
     "name": "stdout",
     "output_type": "stream",
     "text": [
      "Total number of translation pair :  149862\n"
     ]
    }
   ],
   "source": [
    "from keras.models import Model\n",
    "from keras.layers import Input, LSTM, Dense\n",
    "import numpy as np\n",
    "\n",
    "batch_size = 64  # Batch size for training.\n",
    "epochs = 100  # Number of epochs to train for.\n",
    "latent_dim = 256  # Latent dimensionality of the encoding space.\n",
    "num_samples = 10000  # Number of samples to train on.\n",
    "\n",
    "data_path = 'data\\\\eng-fra.txt'\n",
    "\n",
    "input_texts = []\n",
    "target_texts = []\n",
    "input_characters = set()\n",
    "target_characters = set()\n",
    "with open(data_path, 'r', encoding='utf-8') as f:\n",
    "    lines = f.read().split('\\n')\n",
    "    \n",
    "print(\"Total number of translation pair : \", len(lines))"
   ]
  },
  {
   "cell_type": "code",
   "execution_count": 16,
   "metadata": {
    "colab": {
     "autoexec": {
      "startup": false,
      "wait_interval": 0
     }
    },
    "colab_type": "code",
    "id": "qsDGtd3uAlE6"
   },
   "outputs": [],
   "source": [
    "for line in lines[: min(num_samples, len(lines) - 1)]:\n",
    "    input_text, target_text = line.split('\\t')\n",
    "    # We use \"tab\" as the \"start sequence\" character\n",
    "    # for the targets, and \"\\n\" as \"end sequence\" character.\n",
    "    target_text = '\\t' + target_text + '\\n'\n",
    "    input_texts.append(input_text)\n",
    "    target_texts.append(target_text)\n",
    "    for char in input_text:\n",
    "        if char not in input_characters:\n",
    "            input_characters.add(char)\n",
    "    for char in target_text:\n",
    "        if char not in target_characters:\n",
    "            target_characters.add(char)"
   ]
  },
  {
   "cell_type": "code",
   "execution_count": 17,
   "metadata": {
    "colab": {
     "autoexec": {
      "startup": false,
      "wait_interval": 0
     },
     "base_uri": "https://localhost:8080/",
     "height": 241
    },
    "colab_type": "code",
    "executionInfo": {
     "elapsed": 1425,
     "status": "ok",
     "timestamp": 1526098823589,
     "user": {
      "displayName": "Shuvendu Bikash",
      "photoUrl": "//lh6.googleusercontent.com/-qmLdelcDhNY/AAAAAAAAAAI/AAAAAAAAOyw/0BejXT-_QPo/s50-c-k-no/photo.jpg",
      "userId": "106434026064423574094"
     },
     "user_tz": -360
    },
    "id": "Ib6EVJLT_-Ga",
    "outputId": "c47f2b76-3d63-4479-eb31-6665ff449308"
   },
   "outputs": [
    {
     "name": "stdout",
     "output_type": "stream",
     "text": [
      "input characters:  {'&', 'R', ':', 'h', '’', '!', 'l', 'F', 'g', 'u', 'B', 'C', 'K', 'b', '9', '3', 'n', 'D', 'p', 'e', 'k', '$', '1', 'd', 'q', 'P', '4', 'T', 'c', 'E', 'J', 's', '.', 'x', '0', 'S', 'r', 'A', '?', 'M', 'i', 'L', 'N', \"'\", 'j', 'U', '5', 'a', 'I', 'v', 't', 'f', 'z', 'y', '6', '-', '2', 'H', 'w', '7', 'G', 'O', '8', ',', 'Y', 'V', 'Q', 'm', 'W', 'o', ' '}\n",
      "target characters:  {'\\n', 'h', '!', 'ï', 'B', 'C', 'd', 'c', 'x', '0', 'A', '?', \"'\", '6', 'Q', '8', '‘', '1', '’', 'F', '3', 'ê', 'D', 'e', '(', 'M', 'L', '5', 'j', 'z', '\\u2009', 'è', 'H', 'G', 'ë', 'm', '.', ' ', 'à', ':', 'ô', 'b', 'K', ')', 'ç', 'k', 'œ', 'q', 'P', 'Ê', 'É', 's', 'J', 'î', 'N', 'U', 'v', 't', 'ù', 'w', 'O', '\\u202f', 'Y', 'o', 'À', '&', 'R', '\\t', 'l', '»', 'g', 'u', 'é', '9', 'n', 'p', '$', '\\xa0', 'T', 'E', '«', 'Ç', 'S', 'r', 'i', 'a', 'I', 'f', 'â', 'y', '-', 'û', ',', 'V'}\n",
      "Go.    --->    \tVa !\n",
      "\n",
      "Run!    --->    \tCours !\n",
      "\n",
      "Run!    --->    \tCourez !\n",
      "\n",
      "Wow!    --->    \tÇa alors !\n",
      "\n",
      "Fire!    --->    \tAu feu !\n",
      "\n"
     ]
    }
   ],
   "source": [
    "print(\"input characters: \", input_characters)\n",
    "print(\"target characters: \", target_characters)\n",
    "\n",
    "# sample translation\n",
    "for i in range(5):\n",
    "  print(input_texts[i]+ \"    --->    \"+target_texts[i])"
   ]
  },
  {
   "cell_type": "code",
   "execution_count": 18,
   "metadata": {
    "colab": {
     "autoexec": {
      "startup": false,
      "wait_interval": 0
     },
     "base_uri": "https://localhost:8080/",
     "height": 102
    },
    "colab_type": "code",
    "executionInfo": {
     "elapsed": 828,
     "status": "ok",
     "timestamp": 1526098824696,
     "user": {
      "displayName": "Shuvendu Bikash",
      "photoUrl": "//lh6.googleusercontent.com/-qmLdelcDhNY/AAAAAAAAAAI/AAAAAAAAOyw/0BejXT-_QPo/s50-c-k-no/photo.jpg",
      "userId": "106434026064423574094"
     },
     "user_tz": -360
    },
    "id": "NGsbskODAZPx",
    "outputId": "edc4e622-e939-4a07-c0d2-c6b1978210ba"
   },
   "outputs": [
    {
     "name": "stdout",
     "output_type": "stream",
     "text": [
      "Number of samples: 10000\n",
      "Number of unique input tokens: 71\n",
      "Number of unique output tokens: 94\n",
      "Max sequence length for inputs: 16\n",
      "Max sequence length for outputs: 59\n"
     ]
    }
   ],
   "source": [
    "input_characters = sorted(list(input_characters))\n",
    "target_characters = sorted(list(target_characters))\n",
    "num_encoder_tokens = len(input_characters)\n",
    "num_decoder_tokens = len(target_characters)\n",
    "max_encoder_seq_length = max([len(txt) for txt in input_texts])\n",
    "max_decoder_seq_length = max([len(txt) for txt in target_texts])\n",
    "\n",
    "\n",
    "print('Number of samples:', len(input_texts))\n",
    "print('Number of unique input tokens:', num_encoder_tokens)\n",
    "print('Number of unique output tokens:', num_decoder_tokens)\n",
    "print('Max sequence length for inputs:', max_encoder_seq_length)\n",
    "print('Max sequence length for outputs:', max_decoder_seq_length)"
   ]
  },
  {
   "cell_type": "markdown",
   "metadata": {
    "colab_type": "text",
    "id": "4SBLtAoJEAi0"
   },
   "source": [
    "### Assign token index"
   ]
  },
  {
   "cell_type": "code",
   "execution_count": 19,
   "metadata": {
    "colab": {
     "autoexec": {
      "startup": false,
      "wait_interval": 0
     }
    },
    "colab_type": "code",
    "id": "ogxB-m2KD-Jc"
   },
   "outputs": [],
   "source": [
    "input_token_index = dict(\n",
    "    [(char, i) for i, char in enumerate(input_characters)])\n",
    "\n",
    "target_token_index = dict(\n",
    "    [(char, i) for i, char in enumerate(target_characters)])"
   ]
  },
  {
   "cell_type": "markdown",
   "metadata": {
    "colab_type": "text",
    "id": "BAXcGE94FXyz"
   },
   "source": [
    "### Prepare one-hot encoder data representation : Shape (batch, sentence_len, encode_dim)"
   ]
  },
  {
   "cell_type": "code",
   "execution_count": 20,
   "metadata": {
    "colab": {
     "autoexec": {
      "startup": false,
      "wait_interval": 0
     },
     "base_uri": "https://localhost:8080/",
     "height": 68
    },
    "colab_type": "code",
    "executionInfo": {
     "elapsed": 1070,
     "status": "ok",
     "timestamp": 1526098827398,
     "user": {
      "displayName": "Shuvendu Bikash",
      "photoUrl": "//lh6.googleusercontent.com/-qmLdelcDhNY/AAAAAAAAAAI/AAAAAAAAOyw/0BejXT-_QPo/s50-c-k-no/photo.jpg",
      "userId": "106434026064423574094"
     },
     "user_tz": -360
    },
    "id": "Ox53nSv1B5rv",
    "outputId": "ccba3211-a76d-478e-fffd-20ea39654150"
   },
   "outputs": [
    {
     "name": "stdout",
     "output_type": "stream",
     "text": [
      "encoder input data shape:  (10000, 16, 71)\n",
      "decoder input data shape:  (10000, 59, 94)\n",
      "decoder target data shape:  (10000, 59, 94)\n"
     ]
    }
   ],
   "source": [
    "encoder_input_data = np.zeros(\n",
    "    (len(input_texts), max_encoder_seq_length, num_encoder_tokens),\n",
    "    dtype='float32')\n",
    "decoder_input_data = np.zeros(\n",
    "    (len(input_texts), max_decoder_seq_length, num_decoder_tokens),\n",
    "    dtype='float32')\n",
    "decoder_target_data = np.zeros(\n",
    "    (len(input_texts), max_decoder_seq_length, num_decoder_tokens),\n",
    "    dtype='float32')\n",
    "\n",
    "print(\"encoder input data shape: \", encoder_input_data.shape)\n",
    "print(\"decoder input data shape: \", decoder_input_data.shape)\n",
    "print(\"decoder target data shape: \", decoder_target_data.shape)"
   ]
  },
  {
   "cell_type": "markdown",
   "metadata": {
    "colab_type": "text",
    "id": "JZ7wn0N-Nu01"
   },
   "source": [
    "### decoder input :   HELLO    --->   decoder target:  ELLO"
   ]
  },
  {
   "cell_type": "code",
   "execution_count": 21,
   "metadata": {
    "colab": {
     "autoexec": {
      "startup": false,
      "wait_interval": 0
     }
    },
    "colab_type": "code",
    "id": "hILiqt3fF-Dc"
   },
   "outputs": [],
   "source": [
    "for i, (input_text, target_text) in enumerate(zip(input_texts, target_texts)):\n",
    "    for t, char in enumerate(input_text):\n",
    "        encoder_input_data[i, t, input_token_index[char]] = 1.\n",
    "    for t, char in enumerate(target_text):\n",
    "        # decoder_target_data is ahead of decoder_input_data by one timestep\n",
    "        decoder_input_data[i, t, target_token_index[char]] = 1.\n",
    "        if t > 0:\n",
    "            # decoder_target_data will be ahead by one timestep\n",
    "            # and will not include the start character.\n",
    "            decoder_target_data[i, t - 1, target_token_index[char]] = 1.\n"
   ]
  },
  {
   "cell_type": "markdown",
   "metadata": {
    "colab_type": "text",
    "id": "EnR2fRRDF0C8"
   },
   "source": [
    "# Build the Sequence to Sequence model"
   ]
  },
  {
   "cell_type": "code",
   "execution_count": 22,
   "metadata": {
    "colab": {
     "autoexec": {
      "startup": false,
      "wait_interval": 0
     }
    },
    "colab_type": "code",
    "id": "_KqiAdLvEsob"
   },
   "outputs": [],
   "source": [
    "# Define input sequence\n",
    "encoder_inputs = Input(shape=(None, num_encoder_tokens))\n",
    "# LSTM as encoder\n",
    "encoder = LSTM(latent_dim, return_state=True)\n",
    "encoder_outputs, state_h, state_c = encoder(encoder_inputs)\n",
    "# we only need 'encoder_outputs'\n",
    "encoder_states = [state_h, state_c]\n",
    "\n",
    "\n",
    "# set up the decoder, using `encoder_states` as initial state\n",
    "decoder_inputs = Input(shape=(None, num_decoder_tokens))\n",
    "# we set up decoder to return full output sequences, and to return internal\n",
    "# states as well. we don't use the return states in training model, but\n",
    "# we will use them in referance\n",
    "decoder_lstm = LSTM(latent_dim, return_sequences=True, return_state=True)\n",
    "decoder_outputs, _, _ = decoder_lstm(decoder_inputs, initial_state=encoder_states)\n",
    "\n",
    "decoder_dense = Dense(num_decoder_tokens, activation='softmax')\n",
    "decoder_outputs = decoder_dense(decoder_outputs)\n",
    "\n",
    "# define a model that will turn 'encoder_input_data' & 'decoder_input_data'\n",
    "# into 'decoder_target_data'\n",
    "model = Model([encoder_inputs, decoder_inputs], decoder_outputs)"
   ]
  },
  {
   "cell_type": "code",
   "execution_count": 23,
   "metadata": {
    "colab": {
     "autoexec": {
      "startup": false,
      "wait_interval": 0
     },
     "base_uri": "https://localhost:8080/",
     "height": 340
    },
    "colab_type": "code",
    "executionInfo": {
     "elapsed": 1083,
     "status": "ok",
     "timestamp": 1526098832317,
     "user": {
      "displayName": "Shuvendu Bikash",
      "photoUrl": "//lh6.googleusercontent.com/-qmLdelcDhNY/AAAAAAAAAAI/AAAAAAAAOyw/0BejXT-_QPo/s50-c-k-no/photo.jpg",
      "userId": "106434026064423574094"
     },
     "user_tz": -360
    },
    "id": "8qzfCtbyeLCE",
    "outputId": "16255dd8-e165-4ce7-f82a-a01a1eb9feee"
   },
   "outputs": [
    {
     "name": "stdout",
     "output_type": "stream",
     "text": [
      "__________________________________________________________________________________________________\n",
      "Layer (type)                    Output Shape         Param #     Connected to                     \n",
      "==================================================================================================\n",
      "input_3 (InputLayer)            (None, None, 71)     0                                            \n",
      "__________________________________________________________________________________________________\n",
      "input_4 (InputLayer)            (None, None, 94)     0                                            \n",
      "__________________________________________________________________________________________________\n",
      "lstm_3 (LSTM)                   [(None, 256), (None, 335872      input_3[0][0]                    \n",
      "__________________________________________________________________________________________________\n",
      "lstm_4 (LSTM)                   [(None, None, 256),  359424      input_4[0][0]                    \n",
      "                                                                 lstm_3[0][1]                     \n",
      "                                                                 lstm_3[0][2]                     \n",
      "__________________________________________________________________________________________________\n",
      "dense_2 (Dense)                 (None, None, 94)     24158       lstm_4[0][0]                     \n",
      "==================================================================================================\n",
      "Total params: 719,454\n",
      "Trainable params: 719,454\n",
      "Non-trainable params: 0\n",
      "__________________________________________________________________________________________________\n"
     ]
    }
   ],
   "source": [
    "model.summary()"
   ]
  },
  {
   "cell_type": "code",
   "execution_count": 24,
   "metadata": {
    "colab": {
     "autoexec": {
      "startup": false,
      "wait_interval": 0
     },
     "base_uri": "https://localhost:8080/",
     "height": 3728
    },
    "colab_type": "code",
    "executionInfo": {
     "elapsed": 2409642,
     "status": "ok",
     "timestamp": 1526101242210,
     "user": {
      "displayName": "Shuvendu Bikash",
      "photoUrl": "//lh6.googleusercontent.com/-qmLdelcDhNY/AAAAAAAAAAI/AAAAAAAAOyw/0BejXT-_QPo/s50-c-k-no/photo.jpg",
      "userId": "106434026064423574094"
     },
     "user_tz": -360
    },
    "id": "_BfyaMQ6eNZg",
    "outputId": "85a2ef74-c117-4ec2-87da-b13ada37c08c"
   },
   "outputs": [
    {
     "name": "stdout",
     "output_type": "stream",
     "text": [
      "Train on 8000 samples, validate on 2000 samples\n",
      "Epoch 1/100\n",
      "8000/8000 [==============================] - 11s 1ms/step - loss: 0.9278 - val_loss: 0.9819\n",
      "Epoch 2/100\n",
      "8000/8000 [==============================] - 10s 1ms/step - loss: 0.7473 - val_loss: 0.8046\n",
      "Epoch 3/100\n",
      "8000/8000 [==============================] - 10s 1ms/step - loss: 0.6305 - val_loss: 0.7197\n",
      "Epoch 4/100\n",
      "8000/8000 [==============================] - 9s 1ms/step - loss: 0.5715 - val_loss: 0.6783\n",
      "Epoch 5/100\n",
      "8000/8000 [==============================] - 9s 1ms/step - loss: 0.5293 - val_loss: 0.6369\n",
      "Epoch 6/100\n",
      "8000/8000 [==============================] - 9s 1ms/step - loss: 0.4967 - val_loss: 0.5976\n",
      "Epoch 7/100\n",
      "8000/8000 [==============================] - 9s 1ms/step - loss: 0.4705 - val_loss: 0.5804\n",
      "Epoch 8/100\n",
      "8000/8000 [==============================] - 9s 1ms/step - loss: 0.4475 - val_loss: 0.5601\n",
      "Epoch 9/100\n",
      "8000/8000 [==============================] - 9s 1ms/step - loss: 0.4284 - val_loss: 0.5479\n",
      "Epoch 10/100\n",
      "8000/8000 [==============================] - 9s 1ms/step - loss: 0.4100 - val_loss: 0.5376\n",
      "Epoch 11/100\n",
      "8000/8000 [==============================] - 9s 1ms/step - loss: 0.3934 - val_loss: 0.5218\n",
      "Epoch 12/100\n",
      "8000/8000 [==============================] - 9s 1ms/step - loss: 0.3786 - val_loss: 0.5119\n",
      "Epoch 13/100\n",
      "8000/8000 [==============================] - 9s 1ms/step - loss: 0.3651 - val_loss: 0.5027\n",
      "Epoch 14/100\n",
      "8000/8000 [==============================] - 9s 1ms/step - loss: 0.3522 - val_loss: 0.4965\n",
      "Epoch 15/100\n",
      "8000/8000 [==============================] - 9s 1ms/step - loss: 0.3409 - val_loss: 0.4909\n",
      "Epoch 16/100\n",
      "8000/8000 [==============================] - 9s 1ms/step - loss: 0.3291 - val_loss: 0.4856\n",
      "Epoch 17/100\n",
      "8000/8000 [==============================] - 9s 1ms/step - loss: 0.3183 - val_loss: 0.4853\n",
      "Epoch 18/100\n",
      "8000/8000 [==============================] - 9s 1ms/step - loss: 0.3081 - val_loss: 0.4830\n",
      "Epoch 19/100\n",
      "8000/8000 [==============================] - 9s 1ms/step - loss: 0.2981 - val_loss: 0.4832\n",
      "Epoch 20/100\n",
      "8000/8000 [==============================] - 9s 1ms/step - loss: 0.2891 - val_loss: 0.4793\n",
      "Epoch 21/100\n",
      "8000/8000 [==============================] - 9s 1ms/step - loss: 0.2805 - val_loss: 0.4801\n",
      "Epoch 22/100\n",
      "8000/8000 [==============================] - 9s 1ms/step - loss: 0.2718 - val_loss: 0.4752\n",
      "Epoch 23/100\n",
      "8000/8000 [==============================] - 9s 1ms/step - loss: 0.2639 - val_loss: 0.4781\n",
      "Epoch 24/100\n",
      "8000/8000 [==============================] - 9s 1ms/step - loss: 0.2560 - val_loss: 0.4833\n",
      "Epoch 25/100\n",
      "8000/8000 [==============================] - 9s 1ms/step - loss: 0.2488 - val_loss: 0.4795\n",
      "Epoch 26/100\n",
      "8000/8000 [==============================] - 9s 1ms/step - loss: 0.2416 - val_loss: 0.4839\n",
      "Epoch 27/100\n",
      "8000/8000 [==============================] - 10s 1ms/step - loss: 0.2346 - val_loss: 0.4795\n",
      "Epoch 28/100\n",
      "8000/8000 [==============================] - 10s 1ms/step - loss: 0.2276 - val_loss: 0.4864\n",
      "Epoch 29/100\n",
      "8000/8000 [==============================] - 9s 1ms/step - loss: 0.2218 - val_loss: 0.4894\n",
      "Epoch 30/100\n",
      "8000/8000 [==============================] - 10s 1ms/step - loss: 0.2161 - val_loss: 0.4922\n",
      "Epoch 31/100\n",
      "8000/8000 [==============================] - 9s 1ms/step - loss: 0.2099 - val_loss: 0.4905\n",
      "Epoch 32/100\n",
      "8000/8000 [==============================] - 9s 1ms/step - loss: 0.2041 - val_loss: 0.4996\n",
      "Epoch 33/100\n",
      "8000/8000 [==============================] - 9s 1ms/step - loss: 0.1988 - val_loss: 0.5077\n",
      "Epoch 34/100\n",
      "8000/8000 [==============================] - 9s 1ms/step - loss: 0.1937 - val_loss: 0.5048\n",
      "Epoch 35/100\n",
      "8000/8000 [==============================] - 9s 1ms/step - loss: 0.1891 - val_loss: 0.5124\n",
      "Epoch 36/100\n",
      "8000/8000 [==============================] - 9s 1ms/step - loss: 0.1842 - val_loss: 0.5108\n",
      "Epoch 37/100\n",
      "8000/8000 [==============================] - 9s 1ms/step - loss: 0.1797 - val_loss: 0.5175\n",
      "Epoch 38/100\n",
      "8000/8000 [==============================] - 9s 1ms/step - loss: 0.1750 - val_loss: 0.5249\n",
      "Epoch 39/100\n",
      "8000/8000 [==============================] - 9s 1ms/step - loss: 0.1709 - val_loss: 0.5299\n",
      "Epoch 40/100\n",
      "8000/8000 [==============================] - 10s 1ms/step - loss: 0.1664 - val_loss: 0.5292\n",
      "Epoch 41/100\n",
      "8000/8000 [==============================] - 9s 1ms/step - loss: 0.1629 - val_loss: 0.5322\n",
      "Epoch 42/100\n",
      "8000/8000 [==============================] - 11s 1ms/step - loss: 0.1593 - val_loss: 0.5359\n",
      "Epoch 43/100\n",
      "8000/8000 [==============================] - 9s 1ms/step - loss: 0.1556 - val_loss: 0.5407\n",
      "Epoch 44/100\n",
      "8000/8000 [==============================] - 9s 1ms/step - loss: 0.1517 - val_loss: 0.5497\n",
      "Epoch 45/100\n",
      "8000/8000 [==============================] - 9s 1ms/step - loss: 0.1489 - val_loss: 0.5538\n",
      "Epoch 46/100\n",
      "8000/8000 [==============================] - 9s 1ms/step - loss: 0.1453 - val_loss: 0.5539\n",
      "Epoch 47/100\n",
      "8000/8000 [==============================] - 9s 1ms/step - loss: 0.1422 - val_loss: 0.5628\n",
      "Epoch 48/100\n",
      "8000/8000 [==============================] - 9s 1ms/step - loss: 0.1395 - val_loss: 0.5633\n",
      "Epoch 49/100\n",
      "8000/8000 [==============================] - 9s 1ms/step - loss: 0.1365 - val_loss: 0.5728\n",
      "Epoch 50/100\n",
      "8000/8000 [==============================] - 9s 1ms/step - loss: 0.1335 - val_loss: 0.5775\n",
      "Epoch 51/100\n",
      "8000/8000 [==============================] - 9s 1ms/step - loss: 0.1310 - val_loss: 0.5792\n",
      "Epoch 52/100\n",
      "8000/8000 [==============================] - 9s 1ms/step - loss: 0.1282 - val_loss: 0.5849\n",
      "Epoch 53/100\n",
      "8000/8000 [==============================] - 9s 1ms/step - loss: 0.1258 - val_loss: 0.5828\n",
      "Epoch 54/100\n",
      "8000/8000 [==============================] - 9s 1ms/step - loss: 0.1235 - val_loss: 0.5855\n",
      "Epoch 55/100\n",
      "8000/8000 [==============================] - 9s 1ms/step - loss: 0.1211 - val_loss: 0.5981\n",
      "Epoch 56/100\n",
      "8000/8000 [==============================] - 11s 1ms/step - loss: 0.1187 - val_loss: 0.5975\n",
      "Epoch 57/100\n",
      "8000/8000 [==============================] - 10s 1ms/step - loss: 0.1167 - val_loss: 0.6034\n",
      "Epoch 58/100\n",
      "8000/8000 [==============================] - 11s 1ms/step - loss: 0.1142 - val_loss: 0.6066\n",
      "Epoch 59/100\n",
      "8000/8000 [==============================] - 10s 1ms/step - loss: 0.1125 - val_loss: 0.6160\n",
      "Epoch 60/100\n",
      "8000/8000 [==============================] - 12s 1ms/step - loss: 0.1103 - val_loss: 0.6173\n",
      "Epoch 61/100\n",
      "8000/8000 [==============================] - 9s 1ms/step - loss: 0.1087 - val_loss: 0.6213\n",
      "Epoch 62/100\n",
      "8000/8000 [==============================] - 9s 1ms/step - loss: 0.1065 - val_loss: 0.6263\n",
      "Epoch 63/100\n",
      "8000/8000 [==============================] - 9s 1ms/step - loss: 0.1049 - val_loss: 0.6271\n",
      "Epoch 64/100\n",
      "8000/8000 [==============================] - 9s 1ms/step - loss: 0.1033 - val_loss: 0.6314\n",
      "Epoch 65/100\n",
      "8000/8000 [==============================] - 9s 1ms/step - loss: 0.1013 - val_loss: 0.6383\n",
      "Epoch 66/100\n",
      "8000/8000 [==============================] - 9s 1ms/step - loss: 0.0996 - val_loss: 0.6473\n",
      "Epoch 67/100\n",
      "8000/8000 [==============================] - 9s 1ms/step - loss: 0.0980 - val_loss: 0.6472\n",
      "Epoch 68/100\n",
      "8000/8000 [==============================] - 9s 1ms/step - loss: 0.0964 - val_loss: 0.6483\n",
      "Epoch 69/100\n",
      "8000/8000 [==============================] - 9s 1ms/step - loss: 0.0948 - val_loss: 0.6625\n",
      "Epoch 70/100\n",
      "8000/8000 [==============================] - 9s 1ms/step - loss: 0.0934 - val_loss: 0.6579\n",
      "Epoch 71/100\n",
      "8000/8000 [==============================] - 9s 1ms/step - loss: 0.0915 - val_loss: 0.6663\n",
      "Epoch 72/100\n",
      "8000/8000 [==============================] - 9s 1ms/step - loss: 0.0908 - val_loss: 0.6697\n",
      "Epoch 73/100\n",
      "8000/8000 [==============================] - 11s 1ms/step - loss: 0.0889 - val_loss: 0.6734\n",
      "Epoch 74/100\n",
      "8000/8000 [==============================] - 11s 1ms/step - loss: 0.0879 - val_loss: 0.6784\n",
      "Epoch 75/100\n",
      "8000/8000 [==============================] - 11s 1ms/step - loss: 0.0867 - val_loss: 0.6775\n",
      "Epoch 76/100\n",
      "8000/8000 [==============================] - 11s 1ms/step - loss: 0.0853 - val_loss: 0.6797\n",
      "Epoch 77/100\n",
      "8000/8000 [==============================] - 10s 1ms/step - loss: 0.0835 - val_loss: 0.6850\n",
      "Epoch 78/100\n",
      "8000/8000 [==============================] - 9s 1ms/step - loss: 0.0825 - val_loss: 0.6873\n",
      "Epoch 79/100\n"
     ]
    },
    {
     "name": "stdout",
     "output_type": "stream",
     "text": [
      "8000/8000 [==============================] - 9s 1ms/step - loss: 0.0813 - val_loss: 0.6923\n",
      "Epoch 80/100\n",
      "8000/8000 [==============================] - 11s 1ms/step - loss: 0.0803 - val_loss: 0.6960\n",
      "Epoch 81/100\n",
      "8000/8000 [==============================] - 11s 1ms/step - loss: 0.0788 - val_loss: 0.7009\n",
      "Epoch 82/100\n",
      "8000/8000 [==============================] - 11s 1ms/step - loss: 0.0776 - val_loss: 0.7064\n",
      "Epoch 83/100\n",
      "8000/8000 [==============================] - 11s 1ms/step - loss: 0.0769 - val_loss: 0.7114\n",
      "Epoch 84/100\n",
      "8000/8000 [==============================] - 11s 1ms/step - loss: 0.0757 - val_loss: 0.7123\n",
      "Epoch 85/100\n",
      "8000/8000 [==============================] - 10s 1ms/step - loss: 0.0747 - val_loss: 0.7151\n",
      "Epoch 86/100\n",
      "8000/8000 [==============================] - 11s 1ms/step - loss: 0.0739 - val_loss: 0.7133\n",
      "Epoch 87/100\n",
      "8000/8000 [==============================] - 11s 1ms/step - loss: 0.0721 - val_loss: 0.7186\n",
      "Epoch 88/100\n",
      "8000/8000 [==============================] - 11s 1ms/step - loss: 0.0713 - val_loss: 0.7230\n",
      "Epoch 89/100\n",
      "8000/8000 [==============================] - 11s 1ms/step - loss: 0.0703 - val_loss: 0.7295\n",
      "Epoch 90/100\n",
      "8000/8000 [==============================] - 10s 1ms/step - loss: 0.0694 - val_loss: 0.7341\n",
      "Epoch 91/100\n",
      "8000/8000 [==============================] - 10s 1ms/step - loss: 0.0684 - val_loss: 0.7316\n",
      "Epoch 92/100\n",
      "8000/8000 [==============================] - 12s 2ms/step - loss: 0.0676 - val_loss: 0.7376\n",
      "Epoch 93/100\n",
      "8000/8000 [==============================] - 10s 1ms/step - loss: 0.0665 - val_loss: 0.7395\n",
      "Epoch 94/100\n",
      "8000/8000 [==============================] - 11s 1ms/step - loss: 0.0657 - val_loss: 0.7516\n",
      "Epoch 95/100\n",
      "8000/8000 [==============================] - 10s 1ms/step - loss: 0.0648 - val_loss: 0.7469\n",
      "Epoch 96/100\n",
      "8000/8000 [==============================] - 9s 1ms/step - loss: 0.0638 - val_loss: 0.7524\n",
      "Epoch 97/100\n",
      "8000/8000 [==============================] - 9s 1ms/step - loss: 0.0631 - val_loss: 0.7499\n",
      "Epoch 98/100\n",
      "8000/8000 [==============================] - 9s 1ms/step - loss: 0.0622 - val_loss: 0.7584\n",
      "Epoch 99/100\n",
      "8000/8000 [==============================] - 9s 1ms/step - loss: 0.0615 - val_loss: 0.7613\n",
      "Epoch 100/100\n",
      "8000/8000 [==============================] - 9s 1ms/step - loss: 0.0607 - val_loss: 0.7639\n"
     ]
    },
    {
     "data": {
      "text/plain": [
       "<keras.callbacks.History at 0x1dddee88cc0>"
      ]
     },
     "execution_count": 24,
     "metadata": {},
     "output_type": "execute_result"
    }
   ],
   "source": [
    "model.compile(optimizer='rmsprop', loss='categorical_crossentropy')\n",
    "model.fit([encoder_input_data, decoder_input_data], decoder_target_data,\n",
    "          batch_size=batch_size,\n",
    "          epochs=epochs,\n",
    "          validation_split=0.2\n",
    "         )\n"
   ]
  },
  {
   "cell_type": "code",
   "execution_count": 25,
   "metadata": {},
   "outputs": [
    {
     "name": "stderr",
     "output_type": "stream",
     "text": [
      "c:\\users\\bikas\\anaconda3\\lib\\site-packages\\keras\\engine\\topology.py:2368: UserWarning: Layer lstm_4 was passed non-serializable keyword arguments: {'initial_state': [<tf.Tensor 'lstm_3/while/Exit_2:0' shape=(?, 256) dtype=float32>, <tf.Tensor 'lstm_3/while/Exit_3:0' shape=(?, 256) dtype=float32>]}. They will not be included in the serialized model (and thus will be missing at deserialization time).\n",
      "  str(node.arguments) + '. They will not be included '\n"
     ]
    }
   ],
   "source": [
    "model.save('saved_models\\\\s2s.h5')"
   ]
  },
  {
   "cell_type": "markdown",
   "metadata": {
    "colab_type": "text",
    "id": "PaTlkWHDpCQn"
   },
   "source": [
    "# Inferance with this model"
   ]
  },
  {
   "cell_type": "code",
   "execution_count": 26,
   "metadata": {
    "colab": {
     "autoexec": {
      "startup": false,
      "wait_interval": 0
     }
    },
    "colab_type": "code",
    "id": "QAEozxWNpAmr"
   },
   "outputs": [],
   "source": [
    "encoder_model = Model(encoder_inputs, encoder_states)\n",
    "\n",
    "decoder_state_input_h = Input(shape=(latent_dim,))\n",
    "decoder_state_input_c = Input(shape=(latent_dim,))\n",
    "decoder_state_inputs = [decoder_state_input_h, decoder_state_input_c]\n",
    "decoder_outputs, state_h, state_c = decoder_lstm(decoder_inputs, initial_state=decoder_state_inputs)\n",
    "\n",
    "decoder_states = [state_h, state_c]\n",
    "decoder_outputs = decoder_dense(decoder_outputs)\n",
    "\n",
    "decoder_model = Model(\n",
    "    [decoder_inputs]+decoder_state_inputs,\n",
    "    [decoder_outputs]+decoder_states\n",
    ")"
   ]
  },
  {
   "cell_type": "markdown",
   "metadata": {},
   "source": [
    "### One-hot output to char"
   ]
  },
  {
   "cell_type": "code",
   "execution_count": 27,
   "metadata": {},
   "outputs": [],
   "source": [
    "# Reverse-lookup token index to decode sequences back to something readable.\n",
    "reverse_input_char_index = dict(\n",
    "    (i, char) for char, i in input_token_index.items())\n",
    "reverse_target_char_index = dict(\n",
    "    (i, char) for char, i in target_token_index.items())"
   ]
  },
  {
   "cell_type": "markdown",
   "metadata": {},
   "source": [
    "### Decode sequence"
   ]
  },
  {
   "cell_type": "code",
   "execution_count": 28,
   "metadata": {},
   "outputs": [],
   "source": [
    "def decode_sequence(input_seq):\n",
    "    # Encode the input as state vectors.\n",
    "    states_value = encoder_model.predict(input_seq)\n",
    "\n",
    "    # Generate empty target sequence of length 1.\n",
    "    target_seq = np.zeros((1, 1, num_decoder_tokens))\n",
    "    # Populate the first character of target sequence with the start character.\n",
    "    target_seq[0, 0, target_token_index['\\t']] = 1.\n",
    "\n",
    "    # Sampling loop for a batch of sequences\n",
    "    # (to simplify, here we assume a batch of size 1).\n",
    "    stop_condition = False\n",
    "    decoded_sentence = ''\n",
    "    while not stop_condition:\n",
    "        output_tokens, h, c = decoder_model.predict(\n",
    "            [target_seq] + states_value)\n",
    "\n",
    "        # Sample a token\n",
    "        sampled_token_index = np.argmax(output_tokens[0, -1, :])\n",
    "        sampled_char = reverse_target_char_index[sampled_token_index]\n",
    "        decoded_sentence += sampled_char\n",
    "\n",
    "        # Exit condition: either hit max length\n",
    "        # or find stop character.\n",
    "        if (sampled_char == '\\n' or\n",
    "           len(decoded_sentence) > max_decoder_seq_length):\n",
    "            stop_condition = True\n",
    "\n",
    "        # Update the target sequence (of length 1).\n",
    "        target_seq = np.zeros((1, 1, num_decoder_tokens))\n",
    "        target_seq[0, 0, sampled_token_index] = 1.\n",
    "\n",
    "        # Update states\n",
    "        states_value = [h, c]\n",
    "\n",
    "    return decoded_sentence"
   ]
  },
  {
   "cell_type": "code",
   "execution_count": 29,
   "metadata": {},
   "outputs": [
    {
     "name": "stdout",
     "output_type": "stream",
     "text": [
      "-\n",
      "Input sentence: Go.\n",
      "Decoded sentence: Va !\n",
      "\n",
      "-\n",
      "Input sentence: Run!\n",
      "Decoded sentence: Courez !\n",
      "\n",
      "-\n",
      "Input sentence: Run!\n",
      "Decoded sentence: Courez !\n",
      "\n",
      "-\n",
      "Input sentence: Wow!\n",
      "Decoded sentence: Ça alors !\n",
      "\n",
      "-\n",
      "Input sentence: Fire!\n",
      "Decoded sentence: Au feu !\n",
      "\n",
      "-\n",
      "Input sentence: Help!\n",
      "Decoded sentence: À l'aide !\n",
      "\n",
      "-\n",
      "Input sentence: Jump.\n",
      "Decoded sentence: Saute.\n",
      "\n",
      "-\n",
      "Input sentence: Stop!\n",
      "Decoded sentence: Ça suffit !\n",
      "\n",
      "-\n",
      "Input sentence: Stop!\n",
      "Decoded sentence: Ça suffit !\n",
      "\n",
      "-\n",
      "Input sentence: Stop!\n",
      "Decoded sentence: Ça suffit !\n",
      "\n",
      "-\n",
      "Input sentence: Wait!\n",
      "Decoded sentence: Attendez !\n",
      "\n",
      "-\n",
      "Input sentence: Wait!\n",
      "Decoded sentence: Attendez !\n",
      "\n",
      "-\n",
      "Input sentence: Go on.\n",
      "Decoded sentence: Continuez.\n",
      "\n",
      "-\n",
      "Input sentence: Go on.\n",
      "Decoded sentence: Continuez.\n",
      "\n",
      "-\n",
      "Input sentence: Go on.\n",
      "Decoded sentence: Continuez.\n",
      "\n",
      "-\n",
      "Input sentence: I see.\n",
      "Decoded sentence: Je vois un coupon.\n",
      "\n",
      "-\n",
      "Input sentence: I try.\n",
      "Decoded sentence: J'essaye.\n",
      "\n",
      "-\n",
      "Input sentence: I won!\n",
      "Decoded sentence: J'ai été discupé.\n",
      "\n",
      "-\n",
      "Input sentence: I won!\n",
      "Decoded sentence: J'ai été discupé.\n",
      "\n",
      "-\n",
      "Input sentence: Oh no!\n",
      "Decoded sentence: Oh non !\n",
      "\n",
      "-\n",
      "Input sentence: Attack!\n",
      "Decoded sentence: Attaquez !\n",
      "\n",
      "-\n",
      "Input sentence: Attack!\n",
      "Decoded sentence: Attaquez !\n",
      "\n",
      "-\n",
      "Input sentence: Cheers!\n",
      "Decoded sentence: Tchin-tchin !\n",
      "\n",
      "-\n",
      "Input sentence: Cheers!\n",
      "Decoded sentence: Tchin-tchin !\n",
      "\n",
      "-\n",
      "Input sentence: Cheers!\n",
      "Decoded sentence: Tchin-tchin !\n",
      "\n",
      "-\n",
      "Input sentence: Cheers!\n",
      "Decoded sentence: Tchin-tchin !\n",
      "\n",
      "-\n",
      "Input sentence: Get up.\n",
      "Decoded sentence: Lève-toi.\n",
      "\n",
      "-\n",
      "Input sentence: Go now.\n",
      "Decoded sentence: Vas-y maintenant.\n",
      "\n",
      "-\n",
      "Input sentence: Go now.\n",
      "Decoded sentence: Vas-y maintenant.\n",
      "\n",
      "-\n",
      "Input sentence: Go now.\n",
      "Decoded sentence: Vas-y maintenant.\n",
      "\n",
      "-\n",
      "Input sentence: Got it!\n",
      "Decoded sentence: J'ai pigé !\n",
      "\n",
      "-\n",
      "Input sentence: Got it!\n",
      "Decoded sentence: J'ai pigé !\n",
      "\n",
      "-\n",
      "Input sentence: Got it?\n",
      "Decoded sentence: T'as capté ?\n",
      "\n",
      "-\n",
      "Input sentence: Got it?\n",
      "Decoded sentence: T'as capté ?\n",
      "\n",
      "-\n",
      "Input sentence: Got it?\n",
      "Decoded sentence: T'as capté ?\n",
      "\n",
      "-\n",
      "Input sentence: Hop in.\n",
      "Decoded sentence: Monte.\n",
      "\n",
      "-\n",
      "Input sentence: Hop in.\n",
      "Decoded sentence: Monte.\n",
      "\n",
      "-\n",
      "Input sentence: Hug me.\n",
      "Decoded sentence: Serre-moi dans tes bras !\n",
      "\n",
      "-\n",
      "Input sentence: Hug me.\n",
      "Decoded sentence: Serre-moi dans tes bras !\n",
      "\n",
      "-\n",
      "Input sentence: I fell.\n",
      "Decoded sentence: Je suis tombée.\n",
      "\n",
      "-\n",
      "Input sentence: I fell.\n",
      "Decoded sentence: Je suis tombée.\n",
      "\n",
      "-\n",
      "Input sentence: I know.\n",
      "Decoded sentence: Je sais.\n",
      "\n",
      "-\n",
      "Input sentence: I left.\n",
      "Decoded sentence: Je suis parti.\n",
      "\n",
      "-\n",
      "Input sentence: I left.\n",
      "Decoded sentence: Je suis parti.\n",
      "\n",
      "-\n",
      "Input sentence: I lost.\n",
      "Decoded sentence: J'ai perdu.\n",
      "\n",
      "-\n",
      "Input sentence: I'm 19.\n",
      "Decoded sentence: J'ai décroché.\n",
      "\n",
      "-\n",
      "Input sentence: I'm OK.\n",
      "Decoded sentence: Je vais bien.\n",
      "\n",
      "-\n",
      "Input sentence: I'm OK.\n",
      "Decoded sentence: Je vais bien.\n",
      "\n",
      "-\n",
      "Input sentence: Listen.\n",
      "Decoded sentence: Écoutez !\n",
      "\n",
      "-\n",
      "Input sentence: No way!\n",
      "Decoded sentence: C'est hors de question !\n",
      "\n",
      "-\n",
      "Input sentence: No way!\n",
      "Decoded sentence: C'est hors de question !\n",
      "\n",
      "-\n",
      "Input sentence: No way!\n",
      "Decoded sentence: C'est hors de question !\n",
      "\n",
      "-\n",
      "Input sentence: No way!\n",
      "Decoded sentence: C'est hors de question !\n",
      "\n",
      "-\n",
      "Input sentence: No way!\n",
      "Decoded sentence: C'est hors de question !\n",
      "\n",
      "-\n",
      "Input sentence: No way!\n",
      "Decoded sentence: C'est hors de question !\n",
      "\n",
      "-\n",
      "Input sentence: No way!\n",
      "Decoded sentence: C'est hors de question !\n",
      "\n",
      "-\n",
      "Input sentence: No way!\n",
      "Decoded sentence: C'est hors de question !\n",
      "\n",
      "-\n",
      "Input sentence: No way!\n",
      "Decoded sentence: C'est hors de question !\n",
      "\n",
      "-\n",
      "Input sentence: Really?\n",
      "Decoded sentence: Vrai ?\n",
      "\n",
      "-\n",
      "Input sentence: Really?\n",
      "Decoded sentence: Vrai ?\n",
      "\n",
      "-\n",
      "Input sentence: Really?\n",
      "Decoded sentence: Vrai ?\n",
      "\n",
      "-\n",
      "Input sentence: Thanks.\n",
      "Decoded sentence: Merci !\n",
      "\n",
      "-\n",
      "Input sentence: We try.\n",
      "Decoded sentence: On essaye.\n",
      "\n",
      "-\n",
      "Input sentence: We won.\n",
      "Decoded sentence: Nous l'avons emporté.\n",
      "\n",
      "-\n",
      "Input sentence: We won.\n",
      "Decoded sentence: Nous l'avons emporté.\n",
      "\n",
      "-\n",
      "Input sentence: We won.\n",
      "Decoded sentence: Nous l'avons emporté.\n",
      "\n",
      "-\n",
      "Input sentence: We won.\n",
      "Decoded sentence: Nous l'avons emporté.\n",
      "\n",
      "-\n",
      "Input sentence: Ask Tom.\n",
      "Decoded sentence: Demande à Tom.\n",
      "\n",
      "-\n",
      "Input sentence: Awesome!\n",
      "Decoded sentence: Fantastique !\n",
      "\n",
      "-\n",
      "Input sentence: Be calm.\n",
      "Decoded sentence: Soyez calmes !\n",
      "\n",
      "-\n",
      "Input sentence: Be calm.\n",
      "Decoded sentence: Soyez calmes !\n",
      "\n",
      "-\n",
      "Input sentence: Be calm.\n",
      "Decoded sentence: Soyez calmes !\n",
      "\n",
      "-\n",
      "Input sentence: Be cool.\n",
      "Decoded sentence: Sois détendu !\n",
      "\n",
      "-\n",
      "Input sentence: Be fair.\n",
      "Decoded sentence: Soyez équitables !\n",
      "\n",
      "-\n",
      "Input sentence: Be fair.\n",
      "Decoded sentence: Soyez équitables !\n",
      "\n",
      "-\n",
      "Input sentence: Be fair.\n",
      "Decoded sentence: Soyez équitables !\n",
      "\n",
      "-\n",
      "Input sentence: Be fair.\n",
      "Decoded sentence: Soyez équitables !\n",
      "\n",
      "-\n",
      "Input sentence: Be fair.\n",
      "Decoded sentence: Soyez équitables !\n",
      "\n",
      "-\n",
      "Input sentence: Be fair.\n",
      "Decoded sentence: Soyez équitables !\n",
      "\n",
      "-\n",
      "Input sentence: Be kind.\n",
      "Decoded sentence: Sois gentil.\n",
      "\n",
      "-\n",
      "Input sentence: Be nice.\n",
      "Decoded sentence: Soyez gentille !\n",
      "\n",
      "-\n",
      "Input sentence: Be nice.\n",
      "Decoded sentence: Soyez gentille !\n",
      "\n",
      "-\n",
      "Input sentence: Be nice.\n",
      "Decoded sentence: Soyez gentille !\n",
      "\n",
      "-\n",
      "Input sentence: Be nice.\n",
      "Decoded sentence: Soyez gentille !\n",
      "\n",
      "-\n",
      "Input sentence: Be nice.\n",
      "Decoded sentence: Soyez gentille !\n",
      "\n",
      "-\n",
      "Input sentence: Be nice.\n",
      "Decoded sentence: Soyez gentille !\n",
      "\n",
      "-\n",
      "Input sentence: Beat it.\n",
      "Decoded sentence: Dégage !\n",
      "\n",
      "-\n",
      "Input sentence: Call me.\n",
      "Decoded sentence: Appelle-moi !\n",
      "\n",
      "-\n",
      "Input sentence: Call me.\n",
      "Decoded sentence: Appelle-moi !\n",
      "\n",
      "-\n",
      "Input sentence: Call us.\n",
      "Decoded sentence: Appele-là !\n",
      "\n",
      "-\n",
      "Input sentence: Call us.\n",
      "Decoded sentence: Appele-là !\n",
      "\n",
      "-\n",
      "Input sentence: Come in.\n",
      "Decoded sentence: Entrez !\n",
      "\n",
      "-\n",
      "Input sentence: Come in.\n",
      "Decoded sentence: Entrez !\n",
      "\n",
      "-\n",
      "Input sentence: Come in.\n",
      "Decoded sentence: Entrez !\n",
      "\n",
      "-\n",
      "Input sentence: Come in.\n",
      "Decoded sentence: Entrez !\n",
      "\n",
      "-\n",
      "Input sentence: Come on!\n",
      "Decoded sentence: Allez !\n",
      "\n",
      "-\n",
      "Input sentence: Come on.\n",
      "Decoded sentence: Viens !\n",
      "\n",
      "-\n",
      "Input sentence: Come on.\n",
      "Decoded sentence: Viens !\n",
      "\n",
      "-\n",
      "Input sentence: Come on.\n",
      "Decoded sentence: Viens !\n",
      "\n",
      "-\n",
      "Input sentence: Drop it!\n",
      "Decoded sentence: Laisse-le tomber !\n",
      "\n"
     ]
    }
   ],
   "source": [
    "for seq_index in range(100):\n",
    "    # Take one sequence (part of the training set)\n",
    "    # for trying out decoding.\n",
    "    input_seq = encoder_input_data[seq_index: seq_index + 1]\n",
    "    decoded_sentence = decode_sequence(input_seq)\n",
    "    print('-')\n",
    "    print('Input sentence:', input_texts[seq_index])\n",
    "    print('Decoded sentence:', decoded_sentence)"
   ]
  },
  {
   "cell_type": "code",
   "execution_count": null,
   "metadata": {},
   "outputs": [],
   "source": []
  }
 ],
 "metadata": {
  "accelerator": "GPU",
  "anaconda-cloud": {},
  "colab": {
   "collapsed_sections": [],
   "default_view": {},
   "name": "seq2seq_translation.ipynb",
   "provenance": [],
   "version": "0.3.2",
   "views": {}
  },
  "kernelspec": {
   "display_name": "Python [default]",
   "language": "python",
   "name": "python3"
  },
  "language_info": {
   "codemirror_mode": {
    "name": "ipython",
    "version": 3
   },
   "file_extension": ".py",
   "mimetype": "text/x-python",
   "name": "python",
   "nbconvert_exporter": "python",
   "pygments_lexer": "ipython3",
   "version": "3.5.2"
  }
 },
 "nbformat": 4,
 "nbformat_minor": 1
}
